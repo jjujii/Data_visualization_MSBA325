{
 "cells": [
  {
   "cell_type": "code",
   "execution_count": 29,
   "id": "57e21bad-385f-4ca8-a9ef-8a2207242fc9",
   "metadata": {},
   "outputs": [
    {
     "data": {
      "text/html": [
       "        <script type=\"text/javascript\">\n",
       "        window.PlotlyConfig = {MathJaxConfig: 'local'};\n",
       "        if (window.MathJax && window.MathJax.Hub && window.MathJax.Hub.Config) {window.MathJax.Hub.Config({SVG: {font: \"STIX-Web\"}});}\n",
       "        if (typeof require !== 'undefined') {\n",
       "        require.undef(\"plotly\");\n",
       "        requirejs.config({\n",
       "            paths: {\n",
       "                'plotly': ['https://cdn.plot.ly/plotly-2.35.2.min']\n",
       "            }\n",
       "        });\n",
       "        require(['plotly'], function(Plotly) {\n",
       "            window._Plotly = Plotly;\n",
       "        });\n",
       "        }\n",
       "        </script>\n",
       "        "
      ]
     },
     "metadata": {},
     "output_type": "display_data"
    }
   ],
   "source": [
    "import pandas as pd\n",
    "import numpy as np\n",
    "import scipy as sp\n",
    "import chart_studio.plotly as py\n",
    "import plotly.figure_factory as ff\n",
    "import plotly.express as px\n",
    "import plotly.graph_objs as go\n",
    "from plotly.offline import init_notebook_mode, iplot\n",
    "\n",
    "init_notebook_mode(connected=True)"
   ]
  },
  {
   "cell_type": "code",
   "execution_count": 387,
   "id": "2ab38ab4-1c0e-4432-ba6e-e41436bc7c7a",
   "metadata": {},
   "outputs": [
    {
     "data": {
      "text/plain": [
       "['State of the secondary roads - good',\n",
       " 'Existence of initiatives and projects  in the past five years to improve infrastructure - exists',\n",
       " 'Town',\n",
       " 'refArea',\n",
       " 'State of the main roads - bad',\n",
       " 'Observation URI',\n",
       " 'The main means of public transport - vans',\n",
       " 'Existence of dedicated bus stops - exists',\n",
       " 'State of agricultural roads - bad',\n",
       " 'publisher',\n",
       " 'State of the secondary roads - acceptable',\n",
       " 'State of agricultural roads - good',\n",
       " 'State of the main roads - good',\n",
       " 'State of the main roads - acceptable',\n",
       " 'dataset',\n",
       " 'State of agricultural roads - acceptable',\n",
       " 'The main means of public transport - taxis',\n",
       " 'The main means of public transport - buses',\n",
       " 'State of the secondary roads - bad',\n",
       " 'references']"
      ]
     },
     "execution_count": 387,
     "metadata": {},
     "output_type": "execute_result"
    }
   ],
   "source": [
    "df1= pd.read_csv(\"https://linked.aub.edu.lb/pkgcube/data/0050f2ea95d565d42df3600a32193531_20240905_183009.csv\")\n",
    "df1.head()\n",
    "df1.columns.to_list()\n",
    "\n"
   ]
  },
  {
   "cell_type": "code",
   "execution_count": 389,
   "id": "1c4b74f7-56cf-4715-9bb9-839ac96a30f6",
   "metadata": {},
   "outputs": [
    {
     "data": {
      "text/html": [
       "<div>\n",
       "<style scoped>\n",
       "    .dataframe tbody tr th:only-of-type {\n",
       "        vertical-align: middle;\n",
       "    }\n",
       "\n",
       "    .dataframe tbody tr th {\n",
       "        vertical-align: top;\n",
       "    }\n",
       "\n",
       "    .dataframe thead th {\n",
       "        text-align: right;\n",
       "    }\n",
       "</style>\n",
       "<table border=\"1\" class=\"dataframe\">\n",
       "  <thead>\n",
       "    <tr style=\"text-align: right;\">\n",
       "      <th></th>\n",
       "      <th>State of the secondary roads - good</th>\n",
       "      <th>Existence of initiatives and projects  in the past five years to improve infrastructure - exists</th>\n",
       "      <th>Town</th>\n",
       "      <th>State of the main roads - bad</th>\n",
       "      <th>The main means of public transport - vans</th>\n",
       "      <th>Existence of dedicated bus stops - exists</th>\n",
       "      <th>State of agricultural roads - bad</th>\n",
       "      <th>State of the secondary roads - acceptable</th>\n",
       "      <th>State of agricultural roads - good</th>\n",
       "      <th>State of the main roads - good</th>\n",
       "      <th>State of the main roads - acceptable</th>\n",
       "      <th>State of agricultural roads - acceptable</th>\n",
       "      <th>The main means of public transport - taxis</th>\n",
       "      <th>The main means of public transport - buses</th>\n",
       "      <th>State of the secondary roads - bad</th>\n",
       "    </tr>\n",
       "  </thead>\n",
       "  <tbody>\n",
       "    <tr>\n",
       "      <th>0</th>\n",
       "      <td>0</td>\n",
       "      <td>0</td>\n",
       "      <td>Bireh</td>\n",
       "      <td>0</td>\n",
       "      <td>0</td>\n",
       "      <td>0</td>\n",
       "      <td>1</td>\n",
       "      <td>1</td>\n",
       "      <td>0</td>\n",
       "      <td>0</td>\n",
       "      <td>1</td>\n",
       "      <td>0</td>\n",
       "      <td>1</td>\n",
       "      <td>0</td>\n",
       "      <td>0</td>\n",
       "    </tr>\n",
       "    <tr>\n",
       "      <th>1</th>\n",
       "      <td>0</td>\n",
       "      <td>0</td>\n",
       "      <td>A'ain El-Mir (El Establ)</td>\n",
       "      <td>0</td>\n",
       "      <td>0</td>\n",
       "      <td>0</td>\n",
       "      <td>0</td>\n",
       "      <td>0</td>\n",
       "      <td>0</td>\n",
       "      <td>0</td>\n",
       "      <td>0</td>\n",
       "      <td>0</td>\n",
       "      <td>0</td>\n",
       "      <td>0</td>\n",
       "      <td>0</td>\n",
       "    </tr>\n",
       "    <tr>\n",
       "      <th>2</th>\n",
       "      <td>0</td>\n",
       "      <td>0</td>\n",
       "      <td>AAridet Cheikh Zennad</td>\n",
       "      <td>1</td>\n",
       "      <td>0</td>\n",
       "      <td>0</td>\n",
       "      <td>1</td>\n",
       "      <td>0</td>\n",
       "      <td>0</td>\n",
       "      <td>0</td>\n",
       "      <td>0</td>\n",
       "      <td>0</td>\n",
       "      <td>1</td>\n",
       "      <td>0</td>\n",
       "      <td>1</td>\n",
       "    </tr>\n",
       "    <tr>\n",
       "      <th>3</th>\n",
       "      <td>1</td>\n",
       "      <td>0</td>\n",
       "      <td>Aaba</td>\n",
       "      <td>0</td>\n",
       "      <td>0</td>\n",
       "      <td>0</td>\n",
       "      <td>0</td>\n",
       "      <td>0</td>\n",
       "      <td>0</td>\n",
       "      <td>1</td>\n",
       "      <td>0</td>\n",
       "      <td>1</td>\n",
       "      <td>1</td>\n",
       "      <td>0</td>\n",
       "      <td>0</td>\n",
       "    </tr>\n",
       "    <tr>\n",
       "      <th>4</th>\n",
       "      <td>0</td>\n",
       "      <td>0</td>\n",
       "      <td>Aabadiyeh</td>\n",
       "      <td>0</td>\n",
       "      <td>0</td>\n",
       "      <td>0</td>\n",
       "      <td>1</td>\n",
       "      <td>0</td>\n",
       "      <td>0</td>\n",
       "      <td>0</td>\n",
       "      <td>1</td>\n",
       "      <td>0</td>\n",
       "      <td>1</td>\n",
       "      <td>0</td>\n",
       "      <td>1</td>\n",
       "    </tr>\n",
       "  </tbody>\n",
       "</table>\n",
       "</div>"
      ],
      "text/plain": [
       "   State of the secondary roads - good  \\\n",
       "0                                    0   \n",
       "1                                    0   \n",
       "2                                    0   \n",
       "3                                    1   \n",
       "4                                    0   \n",
       "\n",
       "   Existence of initiatives and projects  in the past five years to improve infrastructure - exists  \\\n",
       "0                                                  0                                                  \n",
       "1                                                  0                                                  \n",
       "2                                                  0                                                  \n",
       "3                                                  0                                                  \n",
       "4                                                  0                                                  \n",
       "\n",
       "                       Town  State of the main roads - bad  \\\n",
       "0                     Bireh                              0   \n",
       "1  A'ain El-Mir (El Establ)                              0   \n",
       "2     AAridet Cheikh Zennad                              1   \n",
       "3                      Aaba                              0   \n",
       "4                 Aabadiyeh                              0   \n",
       "\n",
       "   The main means of public transport - vans  \\\n",
       "0                                          0   \n",
       "1                                          0   \n",
       "2                                          0   \n",
       "3                                          0   \n",
       "4                                          0   \n",
       "\n",
       "   Existence of dedicated bus stops - exists  \\\n",
       "0                                          0   \n",
       "1                                          0   \n",
       "2                                          0   \n",
       "3                                          0   \n",
       "4                                          0   \n",
       "\n",
       "   State of agricultural roads - bad  \\\n",
       "0                                  1   \n",
       "1                                  0   \n",
       "2                                  1   \n",
       "3                                  0   \n",
       "4                                  1   \n",
       "\n",
       "   State of the secondary roads - acceptable  \\\n",
       "0                                          1   \n",
       "1                                          0   \n",
       "2                                          0   \n",
       "3                                          0   \n",
       "4                                          0   \n",
       "\n",
       "   State of agricultural roads - good  State of the main roads - good  \\\n",
       "0                                   0                               0   \n",
       "1                                   0                               0   \n",
       "2                                   0                               0   \n",
       "3                                   0                               1   \n",
       "4                                   0                               0   \n",
       "\n",
       "   State of the main roads - acceptable  \\\n",
       "0                                     1   \n",
       "1                                     0   \n",
       "2                                     0   \n",
       "3                                     0   \n",
       "4                                     1   \n",
       "\n",
       "   State of agricultural roads - acceptable  \\\n",
       "0                                         0   \n",
       "1                                         0   \n",
       "2                                         0   \n",
       "3                                         1   \n",
       "4                                         0   \n",
       "\n",
       "   The main means of public transport - taxis  \\\n",
       "0                                           1   \n",
       "1                                           0   \n",
       "2                                           1   \n",
       "3                                           1   \n",
       "4                                           1   \n",
       "\n",
       "   The main means of public transport - buses  \\\n",
       "0                                           0   \n",
       "1                                           0   \n",
       "2                                           0   \n",
       "3                                           0   \n",
       "4                                           0   \n",
       "\n",
       "   State of the secondary roads - bad  \n",
       "0                                   0  \n",
       "1                                   0  \n",
       "2                                   1  \n",
       "3                                   0  \n",
       "4                                   1  "
      ]
     },
     "execution_count": 389,
     "metadata": {},
     "output_type": "execute_result"
    }
   ],
   "source": [
    "df1.drop(['refArea', 'Observation URI', 'publisher', 'dataset', 'references'], axis=1, inplace=True)\n",
    "df1.head()"
   ]
  },
  {
   "cell_type": "code",
   "execution_count": 541,
   "id": "4cc23aca-756a-41df-927f-870a99d94deb",
   "metadata": {},
   "outputs": [
    {
     "data": {
      "text/plain": [
       "Existence of dedicated bus stops - exists     0.147541\n",
       "The main means of public transport - vans     0.278689\n",
       "The main means of public transport - taxis    0.885246\n",
       "The main means of public transport - buses    0.155738\n",
       "dtype: float64"
      ]
     },
     "execution_count": 541,
     "metadata": {},
     "output_type": "execute_result"
    }
   ],
   "source": [
    "bad = df1[df1[\"State of the main roads - bad\"] == 1][[\n",
    "    'Existence of dedicated bus stops - exists',\n",
    "    'The main means of public transport - vans',\n",
    "    'The main means of public transport - taxis',\n",
    "    'The main means of public transport - buses'\n",
    "]].mean()\n",
    "\n",
    "acceptable = df1[df1[\"State of the main roads - acceptable\"] == 1][[\n",
    "    'Existence of dedicated bus stops - exists',\n",
    "    'The main means of public transport - vans',\n",
    "    'The main means of public transport - taxis',\n",
    "    'The main means of public transport - buses'\n",
    "]].mean()\n",
    "\n",
    "good = df1[df1[\"State of the main roads - good\"] == 1][[\n",
    "    'Existence of dedicated bus stops - exists',\n",
    "    'The main means of public transport - vans',\n",
    "    'The main means of public transport - taxis',\n",
    "    'The main means of public transport - buses'\n",
    "]].mean()\n"
   ]
  },
  {
   "cell_type": "code",
   "execution_count": 397,
   "id": "d5a61e51-de78-4442-81c5-1170b0d548a8",
   "metadata": {},
   "outputs": [],
   "source": [
    "road_conditions = ['Bad', 'Acceptable', 'Good']\n",
    "\n",
    "bus_availability = [bad['The main means of public transport - buses'],\n",
    "                    acceptable['The main means of public transport - buses'],\n",
    "                    good['The main means of public transport - buses']]\n",
    "\n",
    "van_availability = [bad['The main means of public transport - vans'],\n",
    "                    acceptable['The main means of public transport - vans'],\n",
    "                    good['The main means of public transport - vans']]\n",
    "\n",
    "taxi_availability = [bad['The main means of public transport - taxis'],\n",
    "                     acceptable['The main means of public transport - taxis'],\n",
    "                     good['The main means of public transport - taxis']]\n"
   ]
  },
  {
   "cell_type": "code",
   "execution_count": 221,
   "id": "0e81e0f9-147c-4f76-8eea-c062e91632b0",
   "metadata": {},
   "outputs": [
    {
     "data": {
      "application/vnd.plotly.v1+json": {
       "config": {
        "linkText": "Export to plot.ly",
        "plotlyServerURL": "https://plot.ly",
        "showLink": false
       },
       "data": [
        {
         "marker": {
          "color": "#808080"
         },
         "name": "Vans",
         "text": [
          "37%",
          "33%",
          "28%"
         ],
         "type": "bar",
         "x": [
          "Bad",
          "Acceptable",
          "Good"
         ],
         "y": [
          0.3709677419354839,
          0.3268101761252446,
          0.2786885245901639
         ]
        },
        {
         "marker": {
          "color": "#FFFF00"
         },
         "name": "Buses",
         "text": [
          "12%",
          "15%",
          "16%"
         ],
         "type": "bar",
         "x": [
          "Bad",
          "Acceptable",
          "Good"
         ],
         "y": [
          0.11693548387096774,
          0.1506849315068493,
          0.1557377049180328
         ]
        },
        {
         "marker": {
          "color": "#FF0000"
         },
         "name": "Taxis",
         "text": [
          "83%",
          "86%",
          "89%"
         ],
         "type": "bar",
         "x": [
          "Bad",
          "Acceptable",
          "Good"
         ],
         "y": [
          0.8266129032258065,
          0.8571428571428571,
          0.8852459016393442
         ]
        }
       ],
       "layout": {
        "autosize": true,
        "barmode": "group",
        "template": {
         "data": {
          "bar": [
           {
            "error_x": {
             "color": "#2a3f5f"
            },
            "error_y": {
             "color": "#2a3f5f"
            },
            "marker": {
             "line": {
              "color": "#E5ECF6",
              "width": 0.5
             },
             "pattern": {
              "fillmode": "overlay",
              "size": 10,
              "solidity": 0.2
             }
            },
            "type": "bar"
           }
          ],
          "barpolar": [
           {
            "marker": {
             "line": {
              "color": "#E5ECF6",
              "width": 0.5
             },
             "pattern": {
              "fillmode": "overlay",
              "size": 10,
              "solidity": 0.2
             }
            },
            "type": "barpolar"
           }
          ],
          "carpet": [
           {
            "aaxis": {
             "endlinecolor": "#2a3f5f",
             "gridcolor": "white",
             "linecolor": "white",
             "minorgridcolor": "white",
             "startlinecolor": "#2a3f5f"
            },
            "baxis": {
             "endlinecolor": "#2a3f5f",
             "gridcolor": "white",
             "linecolor": "white",
             "minorgridcolor": "white",
             "startlinecolor": "#2a3f5f"
            },
            "type": "carpet"
           }
          ],
          "choropleth": [
           {
            "colorbar": {
             "outlinewidth": 0,
             "ticks": ""
            },
            "type": "choropleth"
           }
          ],
          "contour": [
           {
            "colorbar": {
             "outlinewidth": 0,
             "ticks": ""
            },
            "colorscale": [
             [
              0,
              "#0d0887"
             ],
             [
              0.1111111111111111,
              "#46039f"
             ],
             [
              0.2222222222222222,
              "#7201a8"
             ],
             [
              0.3333333333333333,
              "#9c179e"
             ],
             [
              0.4444444444444444,
              "#bd3786"
             ],
             [
              0.5555555555555556,
              "#d8576b"
             ],
             [
              0.6666666666666666,
              "#ed7953"
             ],
             [
              0.7777777777777778,
              "#fb9f3a"
             ],
             [
              0.8888888888888888,
              "#fdca26"
             ],
             [
              1,
              "#f0f921"
             ]
            ],
            "type": "contour"
           }
          ],
          "contourcarpet": [
           {
            "colorbar": {
             "outlinewidth": 0,
             "ticks": ""
            },
            "type": "contourcarpet"
           }
          ],
          "heatmap": [
           {
            "colorbar": {
             "outlinewidth": 0,
             "ticks": ""
            },
            "colorscale": [
             [
              0,
              "#0d0887"
             ],
             [
              0.1111111111111111,
              "#46039f"
             ],
             [
              0.2222222222222222,
              "#7201a8"
             ],
             [
              0.3333333333333333,
              "#9c179e"
             ],
             [
              0.4444444444444444,
              "#bd3786"
             ],
             [
              0.5555555555555556,
              "#d8576b"
             ],
             [
              0.6666666666666666,
              "#ed7953"
             ],
             [
              0.7777777777777778,
              "#fb9f3a"
             ],
             [
              0.8888888888888888,
              "#fdca26"
             ],
             [
              1,
              "#f0f921"
             ]
            ],
            "type": "heatmap"
           }
          ],
          "heatmapgl": [
           {
            "colorbar": {
             "outlinewidth": 0,
             "ticks": ""
            },
            "colorscale": [
             [
              0,
              "#0d0887"
             ],
             [
              0.1111111111111111,
              "#46039f"
             ],
             [
              0.2222222222222222,
              "#7201a8"
             ],
             [
              0.3333333333333333,
              "#9c179e"
             ],
             [
              0.4444444444444444,
              "#bd3786"
             ],
             [
              0.5555555555555556,
              "#d8576b"
             ],
             [
              0.6666666666666666,
              "#ed7953"
             ],
             [
              0.7777777777777778,
              "#fb9f3a"
             ],
             [
              0.8888888888888888,
              "#fdca26"
             ],
             [
              1,
              "#f0f921"
             ]
            ],
            "type": "heatmapgl"
           }
          ],
          "histogram": [
           {
            "marker": {
             "pattern": {
              "fillmode": "overlay",
              "size": 10,
              "solidity": 0.2
             }
            },
            "type": "histogram"
           }
          ],
          "histogram2d": [
           {
            "colorbar": {
             "outlinewidth": 0,
             "ticks": ""
            },
            "colorscale": [
             [
              0,
              "#0d0887"
             ],
             [
              0.1111111111111111,
              "#46039f"
             ],
             [
              0.2222222222222222,
              "#7201a8"
             ],
             [
              0.3333333333333333,
              "#9c179e"
             ],
             [
              0.4444444444444444,
              "#bd3786"
             ],
             [
              0.5555555555555556,
              "#d8576b"
             ],
             [
              0.6666666666666666,
              "#ed7953"
             ],
             [
              0.7777777777777778,
              "#fb9f3a"
             ],
             [
              0.8888888888888888,
              "#fdca26"
             ],
             [
              1,
              "#f0f921"
             ]
            ],
            "type": "histogram2d"
           }
          ],
          "histogram2dcontour": [
           {
            "colorbar": {
             "outlinewidth": 0,
             "ticks": ""
            },
            "colorscale": [
             [
              0,
              "#0d0887"
             ],
             [
              0.1111111111111111,
              "#46039f"
             ],
             [
              0.2222222222222222,
              "#7201a8"
             ],
             [
              0.3333333333333333,
              "#9c179e"
             ],
             [
              0.4444444444444444,
              "#bd3786"
             ],
             [
              0.5555555555555556,
              "#d8576b"
             ],
             [
              0.6666666666666666,
              "#ed7953"
             ],
             [
              0.7777777777777778,
              "#fb9f3a"
             ],
             [
              0.8888888888888888,
              "#fdca26"
             ],
             [
              1,
              "#f0f921"
             ]
            ],
            "type": "histogram2dcontour"
           }
          ],
          "mesh3d": [
           {
            "colorbar": {
             "outlinewidth": 0,
             "ticks": ""
            },
            "type": "mesh3d"
           }
          ],
          "parcoords": [
           {
            "line": {
             "colorbar": {
              "outlinewidth": 0,
              "ticks": ""
             }
            },
            "type": "parcoords"
           }
          ],
          "pie": [
           {
            "automargin": true,
            "type": "pie"
           }
          ],
          "scatter": [
           {
            "fillpattern": {
             "fillmode": "overlay",
             "size": 10,
             "solidity": 0.2
            },
            "type": "scatter"
           }
          ],
          "scatter3d": [
           {
            "line": {
             "colorbar": {
              "outlinewidth": 0,
              "ticks": ""
             }
            },
            "marker": {
             "colorbar": {
              "outlinewidth": 0,
              "ticks": ""
             }
            },
            "type": "scatter3d"
           }
          ],
          "scattercarpet": [
           {
            "marker": {
             "colorbar": {
              "outlinewidth": 0,
              "ticks": ""
             }
            },
            "type": "scattercarpet"
           }
          ],
          "scattergeo": [
           {
            "marker": {
             "colorbar": {
              "outlinewidth": 0,
              "ticks": ""
             }
            },
            "type": "scattergeo"
           }
          ],
          "scattergl": [
           {
            "marker": {
             "colorbar": {
              "outlinewidth": 0,
              "ticks": ""
             }
            },
            "type": "scattergl"
           }
          ],
          "scattermapbox": [
           {
            "marker": {
             "colorbar": {
              "outlinewidth": 0,
              "ticks": ""
             }
            },
            "type": "scattermapbox"
           }
          ],
          "scatterpolar": [
           {
            "marker": {
             "colorbar": {
              "outlinewidth": 0,
              "ticks": ""
             }
            },
            "type": "scatterpolar"
           }
          ],
          "scatterpolargl": [
           {
            "marker": {
             "colorbar": {
              "outlinewidth": 0,
              "ticks": ""
             }
            },
            "type": "scatterpolargl"
           }
          ],
          "scatterternary": [
           {
            "marker": {
             "colorbar": {
              "outlinewidth": 0,
              "ticks": ""
             }
            },
            "type": "scatterternary"
           }
          ],
          "surface": [
           {
            "colorbar": {
             "outlinewidth": 0,
             "ticks": ""
            },
            "colorscale": [
             [
              0,
              "#0d0887"
             ],
             [
              0.1111111111111111,
              "#46039f"
             ],
             [
              0.2222222222222222,
              "#7201a8"
             ],
             [
              0.3333333333333333,
              "#9c179e"
             ],
             [
              0.4444444444444444,
              "#bd3786"
             ],
             [
              0.5555555555555556,
              "#d8576b"
             ],
             [
              0.6666666666666666,
              "#ed7953"
             ],
             [
              0.7777777777777778,
              "#fb9f3a"
             ],
             [
              0.8888888888888888,
              "#fdca26"
             ],
             [
              1,
              "#f0f921"
             ]
            ],
            "type": "surface"
           }
          ],
          "table": [
           {
            "cells": {
             "fill": {
              "color": "#EBF0F8"
             },
             "line": {
              "color": "white"
             }
            },
            "header": {
             "fill": {
              "color": "#C8D4E3"
             },
             "line": {
              "color": "white"
             }
            },
            "type": "table"
           }
          ]
         },
         "layout": {
          "annotationdefaults": {
           "arrowcolor": "#2a3f5f",
           "arrowhead": 0,
           "arrowwidth": 1
          },
          "autotypenumbers": "strict",
          "coloraxis": {
           "colorbar": {
            "outlinewidth": 0,
            "ticks": ""
           }
          },
          "colorscale": {
           "diverging": [
            [
             0,
             "#8e0152"
            ],
            [
             0.1,
             "#c51b7d"
            ],
            [
             0.2,
             "#de77ae"
            ],
            [
             0.3,
             "#f1b6da"
            ],
            [
             0.4,
             "#fde0ef"
            ],
            [
             0.5,
             "#f7f7f7"
            ],
            [
             0.6,
             "#e6f5d0"
            ],
            [
             0.7,
             "#b8e186"
            ],
            [
             0.8,
             "#7fbc41"
            ],
            [
             0.9,
             "#4d9221"
            ],
            [
             1,
             "#276419"
            ]
           ],
           "sequential": [
            [
             0,
             "#0d0887"
            ],
            [
             0.1111111111111111,
             "#46039f"
            ],
            [
             0.2222222222222222,
             "#7201a8"
            ],
            [
             0.3333333333333333,
             "#9c179e"
            ],
            [
             0.4444444444444444,
             "#bd3786"
            ],
            [
             0.5555555555555556,
             "#d8576b"
            ],
            [
             0.6666666666666666,
             "#ed7953"
            ],
            [
             0.7777777777777778,
             "#fb9f3a"
            ],
            [
             0.8888888888888888,
             "#fdca26"
            ],
            [
             1,
             "#f0f921"
            ]
           ],
           "sequentialminus": [
            [
             0,
             "#0d0887"
            ],
            [
             0.1111111111111111,
             "#46039f"
            ],
            [
             0.2222222222222222,
             "#7201a8"
            ],
            [
             0.3333333333333333,
             "#9c179e"
            ],
            [
             0.4444444444444444,
             "#bd3786"
            ],
            [
             0.5555555555555556,
             "#d8576b"
            ],
            [
             0.6666666666666666,
             "#ed7953"
            ],
            [
             0.7777777777777778,
             "#fb9f3a"
            ],
            [
             0.8888888888888888,
             "#fdca26"
            ],
            [
             1,
             "#f0f921"
            ]
           ]
          },
          "colorway": [
           "#636efa",
           "#EF553B",
           "#00cc96",
           "#ab63fa",
           "#FFA15A",
           "#19d3f3",
           "#FF6692",
           "#B6E880",
           "#FF97FF",
           "#FECB52"
          ],
          "font": {
           "color": "#2a3f5f"
          },
          "geo": {
           "bgcolor": "white",
           "lakecolor": "white",
           "landcolor": "#E5ECF6",
           "showlakes": true,
           "showland": true,
           "subunitcolor": "white"
          },
          "hoverlabel": {
           "align": "left"
          },
          "hovermode": "closest",
          "mapbox": {
           "style": "light"
          },
          "paper_bgcolor": "white",
          "plot_bgcolor": "#E5ECF6",
          "polar": {
           "angularaxis": {
            "gridcolor": "white",
            "linecolor": "white",
            "ticks": ""
           },
           "bgcolor": "#E5ECF6",
           "radialaxis": {
            "gridcolor": "white",
            "linecolor": "white",
            "ticks": ""
           }
          },
          "scene": {
           "xaxis": {
            "backgroundcolor": "#E5ECF6",
            "gridcolor": "white",
            "gridwidth": 2,
            "linecolor": "white",
            "showbackground": true,
            "ticks": "",
            "zerolinecolor": "white"
           },
           "yaxis": {
            "backgroundcolor": "#E5ECF6",
            "gridcolor": "white",
            "gridwidth": 2,
            "linecolor": "white",
            "showbackground": true,
            "ticks": "",
            "zerolinecolor": "white"
           },
           "zaxis": {
            "backgroundcolor": "#E5ECF6",
            "gridcolor": "white",
            "gridwidth": 2,
            "linecolor": "white",
            "showbackground": true,
            "ticks": "",
            "zerolinecolor": "white"
           }
          },
          "shapedefaults": {
           "line": {
            "color": "#2a3f5f"
           }
          },
          "ternary": {
           "aaxis": {
            "gridcolor": "white",
            "linecolor": "white",
            "ticks": ""
           },
           "baxis": {
            "gridcolor": "white",
            "linecolor": "white",
            "ticks": ""
           },
           "bgcolor": "#E5ECF6",
           "caxis": {
            "gridcolor": "white",
            "linecolor": "white",
            "ticks": ""
           }
          },
          "title": {
           "x": 0.05
          },
          "xaxis": {
           "automargin": true,
           "gridcolor": "white",
           "linecolor": "white",
           "ticks": "",
           "title": {
            "standoff": 15
           },
           "zerolinecolor": "white",
           "zerolinewidth": 2
          },
          "yaxis": {
           "automargin": true,
           "gridcolor": "white",
           "linecolor": "white",
           "ticks": "",
           "title": {
            "standoff": 15
           },
           "zerolinecolor": "white",
           "zerolinewidth": 2
          }
         }
        },
        "title": {
         "text": "Transport Availability By Road Condition"
        },
        "xaxis": {
         "autorange": true,
         "range": [
          -0.5,
          2.5
         ],
         "title": {
          "text": "Road Quality"
         },
         "type": "category"
        },
        "yaxis": {
         "autorange": true,
         "range": [
          0,
          0.9318377911993098
         ],
         "tickformat": ".0%",
         "title": {
          "text": "Proportion of Towns with Transport Option"
         },
         "type": "linear"
        }
       }
      },
      "image/png": "[encoded data removed]",
      "text/html": [
       "<div>                            <div id=\"e91d4ea3-9870-4062-a723-e64cefce048e\" class=\"plotly-graph-div\" style=\"height:525px; width:100%;\"></div>            <script type=\"text/javascript\">                require([\"plotly\"], function(Plotly) {                    window.PLOTLYENV=window.PLOTLYENV || {};                                    if (document.getElementById(\"e91d4ea3-9870-4062-a723-e64cefce048e\")) {                    Plotly.newPlot(                        \"e91d4ea3-9870-4062-a723-e64cefce048e\",                        [{\"marker\":{\"color\":\"#808080\"},\"name\":\"Vans\",\"text\":[\"37%\",\"33%\",\"28%\"],\"x\":[\"Bad\",\"Acceptable\",\"Good\"],\"y\":[0.3709677419354839,0.3268101761252446,0.2786885245901639],\"type\":\"bar\"},{\"marker\":{\"color\":\"#FFFF00\"},\"name\":\"Buses\",\"text\":[\"12%\",\"15%\",\"16%\"],\"x\":[\"Bad\",\"Acceptable\",\"Good\"],\"y\":[0.11693548387096774,0.1506849315068493,0.1557377049180328],\"type\":\"bar\"},{\"marker\":{\"color\":\"#FF0000\"},\"name\":\"Taxis\",\"text\":[\"83%\",\"86%\",\"89%\"],\"x\":[\"Bad\",\"Acceptable\",\"Good\"],\"y\":[0.8266129032258065,0.8571428571428571,0.8852459016393442],\"type\":\"bar\"}],                        {\"barmode\":\"group\",\"template\":{\"data\":{\"barpolar\":[{\"marker\":{\"line\":{\"color\":\"#E5ECF6\",\"width\":0.5},\"pattern\":{\"fillmode\":\"overlay\",\"size\":10,\"solidity\":0.2}},\"type\":\"barpolar\"}],\"bar\":[{\"error_x\":{\"color\":\"#2a3f5f\"},\"error_y\":{\"color\":\"#2a3f5f\"},\"marker\":{\"line\":{\"color\":\"#E5ECF6\",\"width\":0.5},\"pattern\":{\"fillmode\":\"overlay\",\"size\":10,\"solidity\":0.2}},\"type\":\"bar\"}],\"carpet\":[{\"aaxis\":{\"endlinecolor\":\"#2a3f5f\",\"gridcolor\":\"white\",\"linecolor\":\"white\",\"minorgridcolor\":\"white\",\"startlinecolor\":\"#2a3f5f\"},\"baxis\":{\"endlinecolor\":\"#2a3f5f\",\"gridcolor\":\"white\",\"linecolor\":\"white\",\"minorgridcolor\":\"white\",\"startlinecolor\":\"#2a3f5f\"},\"type\":\"carpet\"}],\"choropleth\":[{\"colorbar\":{\"outlinewidth\":0,\"ticks\":\"\"},\"type\":\"choropleth\"}],\"contourcarpet\":[{\"colorbar\":{\"outlinewidth\":0,\"ticks\":\"\"},\"type\":\"contourcarpet\"}],\"contour\":[{\"colorbar\":{\"outlinewidth\":0,\"ticks\":\"\"},\"colorscale\":[[0.0,\"#0d0887\"],[0.1111111111111111,\"#46039f\"],[0.2222222222222222,\"#7201a8\"],[0.3333333333333333,\"#9c179e\"],[0.4444444444444444,\"#bd3786\"],[0.5555555555555556,\"#d8576b\"],[0.6666666666666666,\"#ed7953\"],[0.7777777777777778,\"#fb9f3a\"],[0.8888888888888888,\"#fdca26\"],[1.0,\"#f0f921\"]],\"type\":\"contour\"}],\"heatmapgl\":[{\"colorbar\":{\"outlinewidth\":0,\"ticks\":\"\"},\"colorscale\":[[0.0,\"#0d0887\"],[0.1111111111111111,\"#46039f\"],[0.2222222222222222,\"#7201a8\"],[0.3333333333333333,\"#9c179e\"],[0.4444444444444444,\"#bd3786\"],[0.5555555555555556,\"#d8576b\"],[0.6666666666666666,\"#ed7953\"],[0.7777777777777778,\"#fb9f3a\"],[0.8888888888888888,\"#fdca26\"],[1.0,\"#f0f921\"]],\"type\":\"heatmapgl\"}],\"heatmap\":[{\"colorbar\":{\"outlinewidth\":0,\"ticks\":\"\"},\"colorscale\":[[0.0,\"#0d0887\"],[0.1111111111111111,\"#46039f\"],[0.2222222222222222,\"#7201a8\"],[0.3333333333333333,\"#9c179e\"],[0.4444444444444444,\"#bd3786\"],[0.5555555555555556,\"#d8576b\"],[0.6666666666666666,\"#ed7953\"],[0.7777777777777778,\"#fb9f3a\"],[0.8888888888888888,\"#fdca26\"],[1.0,\"#f0f921\"]],\"type\":\"heatmap\"}],\"histogram2dcontour\":[{\"colorbar\":{\"outlinewidth\":0,\"ticks\":\"\"},\"colorscale\":[[0.0,\"#0d0887\"],[0.1111111111111111,\"#46039f\"],[0.2222222222222222,\"#7201a8\"],[0.3333333333333333,\"#9c179e\"],[0.4444444444444444,\"#bd3786\"],[0.5555555555555556,\"#d8576b\"],[0.6666666666666666,\"#ed7953\"],[0.7777777777777778,\"#fb9f3a\"],[0.8888888888888888,\"#fdca26\"],[1.0,\"#f0f921\"]],\"type\":\"histogram2dcontour\"}],\"histogram2d\":[{\"colorbar\":{\"outlinewidth\":0,\"ticks\":\"\"},\"colorscale\":[[0.0,\"#0d0887\"],[0.1111111111111111,\"#46039f\"],[0.2222222222222222,\"#7201a8\"],[0.3333333333333333,\"#9c179e\"],[0.4444444444444444,\"#bd3786\"],[0.5555555555555556,\"#d8576b\"],[0.6666666666666666,\"#ed7953\"],[0.7777777777777778,\"#fb9f3a\"],[0.8888888888888888,\"#fdca26\"],[1.0,\"#f0f921\"]],\"type\":\"histogram2d\"}],\"histogram\":[{\"marker\":{\"pattern\":{\"fillmode\":\"overlay\",\"size\":10,\"solidity\":0.2}},\"type\":\"histogram\"}],\"mesh3d\":[{\"colorbar\":{\"outlinewidth\":0,\"ticks\":\"\"},\"type\":\"mesh3d\"}],\"parcoords\":[{\"line\":{\"colorbar\":{\"outlinewidth\":0,\"ticks\":\"\"}},\"type\":\"parcoords\"}],\"pie\":[{\"automargin\":true,\"type\":\"pie\"}],\"scatter3d\":[{\"line\":{\"colorbar\":{\"outlinewidth\":0,\"ticks\":\"\"}},\"marker\":{\"colorbar\":{\"outlinewidth\":0,\"ticks\":\"\"}},\"type\":\"scatter3d\"}],\"scattercarpet\":[{\"marker\":{\"colorbar\":{\"outlinewidth\":0,\"ticks\":\"\"}},\"type\":\"scattercarpet\"}],\"scattergeo\":[{\"marker\":{\"colorbar\":{\"outlinewidth\":0,\"ticks\":\"\"}},\"type\":\"scattergeo\"}],\"scattergl\":[{\"marker\":{\"colorbar\":{\"outlinewidth\":0,\"ticks\":\"\"}},\"type\":\"scattergl\"}],\"scattermapbox\":[{\"marker\":{\"colorbar\":{\"outlinewidth\":0,\"ticks\":\"\"}},\"type\":\"scattermapbox\"}],\"scatterpolargl\":[{\"marker\":{\"colorbar\":{\"outlinewidth\":0,\"ticks\":\"\"}},\"type\":\"scatterpolargl\"}],\"scatterpolar\":[{\"marker\":{\"colorbar\":{\"outlinewidth\":0,\"ticks\":\"\"}},\"type\":\"scatterpolar\"}],\"scatter\":[{\"fillpattern\":{\"fillmode\":\"overlay\",\"size\":10,\"solidity\":0.2},\"type\":\"scatter\"}],\"scatterternary\":[{\"marker\":{\"colorbar\":{\"outlinewidth\":0,\"ticks\":\"\"}},\"type\":\"scatterternary\"}],\"surface\":[{\"colorbar\":{\"outlinewidth\":0,\"ticks\":\"\"},\"colorscale\":[[0.0,\"#0d0887\"],[0.1111111111111111,\"#46039f\"],[0.2222222222222222,\"#7201a8\"],[0.3333333333333333,\"#9c179e\"],[0.4444444444444444,\"#bd3786\"],[0.5555555555555556,\"#d8576b\"],[0.6666666666666666,\"#ed7953\"],[0.7777777777777778,\"#fb9f3a\"],[0.8888888888888888,\"#fdca26\"],[1.0,\"#f0f921\"]],\"type\":\"surface\"}],\"table\":[{\"cells\":{\"fill\":{\"color\":\"#EBF0F8\"},\"line\":{\"color\":\"white\"}},\"header\":{\"fill\":{\"color\":\"#C8D4E3\"},\"line\":{\"color\":\"white\"}},\"type\":\"table\"}]},\"layout\":{\"annotationdefaults\":{\"arrowcolor\":\"#2a3f5f\",\"arrowhead\":0,\"arrowwidth\":1},\"autotypenumbers\":\"strict\",\"coloraxis\":{\"colorbar\":{\"outlinewidth\":0,\"ticks\":\"\"}},\"colorscale\":{\"diverging\":[[0,\"#8e0152\"],[0.1,\"#c51b7d\"],[0.2,\"#de77ae\"],[0.3,\"#f1b6da\"],[0.4,\"#fde0ef\"],[0.5,\"#f7f7f7\"],[0.6,\"#e6f5d0\"],[0.7,\"#b8e186\"],[0.8,\"#7fbc41\"],[0.9,\"#4d9221\"],[1,\"#276419\"]],\"sequential\":[[0.0,\"#0d0887\"],[0.1111111111111111,\"#46039f\"],[0.2222222222222222,\"#7201a8\"],[0.3333333333333333,\"#9c179e\"],[0.4444444444444444,\"#bd3786\"],[0.5555555555555556,\"#d8576b\"],[0.6666666666666666,\"#ed7953\"],[0.7777777777777778,\"#fb9f3a\"],[0.8888888888888888,\"#fdca26\"],[1.0,\"#f0f921\"]],\"sequentialminus\":[[0.0,\"#0d0887\"],[0.1111111111111111,\"#46039f\"],[0.2222222222222222,\"#7201a8\"],[0.3333333333333333,\"#9c179e\"],[0.4444444444444444,\"#bd3786\"],[0.5555555555555556,\"#d8576b\"],[0.6666666666666666,\"#ed7953\"],[0.7777777777777778,\"#fb9f3a\"],[0.8888888888888888,\"#fdca26\"],[1.0,\"#f0f921\"]]},\"colorway\":[\"#636efa\",\"#EF553B\",\"#00cc96\",\"#ab63fa\",\"#FFA15A\",\"#19d3f3\",\"#FF6692\",\"#B6E880\",\"#FF97FF\",\"#FECB52\"],\"font\":{\"color\":\"#2a3f5f\"},\"geo\":{\"bgcolor\":\"white\",\"lakecolor\":\"white\",\"landcolor\":\"#E5ECF6\",\"showlakes\":true,\"showland\":true,\"subunitcolor\":\"white\"},\"hoverlabel\":{\"align\":\"left\"},\"hovermode\":\"closest\",\"mapbox\":{\"style\":\"light\"},\"paper_bgcolor\":\"white\",\"plot_bgcolor\":\"#E5ECF6\",\"polar\":{\"angularaxis\":{\"gridcolor\":\"white\",\"linecolor\":\"white\",\"ticks\":\"\"},\"bgcolor\":\"#E5ECF6\",\"radialaxis\":{\"gridcolor\":\"white\",\"linecolor\":\"white\",\"ticks\":\"\"}},\"scene\":{\"xaxis\":{\"backgroundcolor\":\"#E5ECF6\",\"gridcolor\":\"white\",\"gridwidth\":2,\"linecolor\":\"white\",\"showbackground\":true,\"ticks\":\"\",\"zerolinecolor\":\"white\"},\"yaxis\":{\"backgroundcolor\":\"#E5ECF6\",\"gridcolor\":\"white\",\"gridwidth\":2,\"linecolor\":\"white\",\"showbackground\":true,\"ticks\":\"\",\"zerolinecolor\":\"white\"},\"zaxis\":{\"backgroundcolor\":\"#E5ECF6\",\"gridcolor\":\"white\",\"gridwidth\":2,\"linecolor\":\"white\",\"showbackground\":true,\"ticks\":\"\",\"zerolinecolor\":\"white\"}},\"shapedefaults\":{\"line\":{\"color\":\"#2a3f5f\"}},\"ternary\":{\"aaxis\":{\"gridcolor\":\"white\",\"linecolor\":\"white\",\"ticks\":\"\"},\"baxis\":{\"gridcolor\":\"white\",\"linecolor\":\"white\",\"ticks\":\"\"},\"bgcolor\":\"#E5ECF6\",\"caxis\":{\"gridcolor\":\"white\",\"linecolor\":\"white\",\"ticks\":\"\"}},\"title\":{\"x\":0.05},\"xaxis\":{\"automargin\":true,\"gridcolor\":\"white\",\"linecolor\":\"white\",\"ticks\":\"\",\"title\":{\"standoff\":15},\"zerolinecolor\":\"white\",\"zerolinewidth\":2},\"yaxis\":{\"automargin\":true,\"gridcolor\":\"white\",\"linecolor\":\"white\",\"ticks\":\"\",\"title\":{\"standoff\":15},\"zerolinecolor\":\"white\",\"zerolinewidth\":2}}},\"title\":{\"text\":\"Transport Availability By Road Condition\"},\"xaxis\":{\"title\":{\"text\":\"Road Quality\"}},\"yaxis\":{\"tickformat\":\".0%\",\"title\":{\"text\":\"Proportion of Towns with Transport Option\"}}},                        {\"responsive\": true}                    ).then(function(){\n",
       "                            \n",
       "var gd = document.getElementById('e91d4ea3-9870-4062-a723-e64cefce048e');\n",
       "var x = new MutationObserver(function (mutations, observer) {{\n",
       "        var display = window.getComputedStyle(gd).display;\n",
       "        if (!display || display === 'none') {{\n",
       "            console.log([gd, 'removed!']);\n",
       "            Plotly.purge(gd);\n",
       "            observer.disconnect();\n",
       "        }}\n",
       "}});\n",
       "\n",
       "// Listen for the removal of the full notebook cells\n",
       "var notebookContainer = gd.closest('#notebook-container');\n",
       "if (notebookContainer) {{\n",
       "    x.observe(notebookContainer, {childList: true});\n",
       "}}\n",
       "\n",
       "// Listen for the clearing of the current output cell\n",
       "var outputEl = gd.closest('.output');\n",
       "if (outputEl) {{\n",
       "    x.observe(outputEl, {childList: true});\n",
       "}}\n",
       "\n",
       "                        })                };                });            </script>        </div>"
      ]
     },
     "metadata": {},
     "output_type": "display_data"
    }
   ],
   "source": [
    "trace_bus = go.Bar(x=road_conditions, y=bus_availability, name=\"Buses\", marker=dict(color=\"#FFFF00\"),text=[f\"{val * 100:.0f}%\" for val in bus_availability])\n",
    "trace_van = go.Bar(x=road_conditions, y=van_availability, name=\"Vans\", marker=dict(color=\"#808080\"), text=[f\"{val * 100:.0f}%\" for val in van_availability])\n",
    "trace_taxi = go.Bar(x=road_conditions, y=taxi_availability, name=\"Taxis\", marker=dict(color=\"#FF0000\"),text=[f\"{val * 100:.0f}%\" for val in taxi_availability])\n",
    "\n",
    "data = [trace_van, trace_bus, trace_taxi]\n",
    "layout = go.Layout(title=\"Transport Availability By Road Condition\",\n",
    "                   xaxis=dict(title=\"Road Quality\"),\n",
    "                   yaxis=dict(title=\"Proportion of Towns with Transport Option\", tickformat= \".0%\"),\n",
    "                   barmode='group')\n",
    "\n",
    "fig = go.Figure(data=data, layout=layout)\n",
    "iplot(fig)\n"
   ]
  },
  {
   "cell_type": "code",
   "execution_count": 399,
   "id": "f496e928-3b15-4013-a5cd-d0790af29131",
   "metadata": {},
   "outputs": [],
   "source": [
    "main_bad = df1[\"State of the main roads - bad\"].mean()\n",
    "main_good = df1[\"State of the main roads - good\"].mean()\n",
    "main_acceptable = df1[\"State of the main roads - acceptable\"].mean()\n",
    "secondary_bad = df1[\"State of the secondary roads - bad\"].mean()\n",
    "secondary_good = df1[\"State of the secondary roads - good\"].mean()\n",
    "secondary_acceptable = df1[\"State of the secondary roads - acceptable\"].mean()\n",
    "agricultural_bad = df1[\"State of agricultural roads - bad\"].mean()\n",
    "agricultural_good = df1[\"State of agricultural roads - good\"].mean()\n",
    "agricultural_acceptable = df1[\"State of agricultural roads - acceptable\"].mean()\n",
    "\n",
    "\n",
    "summaryOfRoads = [main_bad, main_good, main_acceptable, secondary_bad, secondary_good, secondary_acceptable, agricultural_bad, agricultural_good, agricultural_acceptable]\n",
    "\n",
    "#print(main_good, secondary_good, agricultural_good)\n"
   ]
  },
  {
   "cell_type": "code",
   "execution_count": 401,
   "id": "d0508f25-4c1e-4f6d-8c30-b47d1caf95ab",
   "metadata": {},
   "outputs": [
    {
     "data": {
      "application/vnd.plotly.v1+json": {
       "config": {
        "plotlyServerURL": "https://plot.ly"
       },
       "data": [
        {
         "fill": "toself",
         "name": "Good",
         "r": [
          0.10729991204925242,
          0.052770448548812667,
          0.014951627088830254
         ],
         "theta": [
          "Main",
          "Secondary",
          "Agricultural"
         ],
         "type": "scatterpolar"
        },
        {
         "fill": "toself",
         "name": "Acceptable",
         "r": [
          0.4494283201407212,
          0.3333333333333333,
          0.1996481970096746
         ],
         "theta": [
          "Main",
          "Secondary",
          "Agricultural"
         ],
         "type": "scatterpolar"
        },
        {
         "fill": "toself",
         "name": "Bad",
         "r": [
          0.218117854001759,
          0.38786279683377306,
          0.5584872471416007
         ],
         "theta": [
          "Main",
          "Secondary",
          "Agricultural"
         ],
         "type": "scatterpolar"
        }
       ],
       "layout": {
        "autosize": true,
        "polar": {
         "angularaxis": {
          "type": "category"
         },
         "radialaxis": {
          "autorange": false,
          "range": [
           0,
           1
          ],
          "type": "linear",
          "visible": true
         }
        },
        "showlegend": true,
        "template": {
         "data": {
          "bar": [
           {
            "error_x": {
             "color": "#2a3f5f"
            },
            "error_y": {
             "color": "#2a3f5f"
            },
            "marker": {
             "line": {
              "color": "#E5ECF6",
              "width": 0.5
             },
             "pattern": {
              "fillmode": "overlay",
              "size": 10,
              "solidity": 0.2
             }
            },
            "type": "bar"
           }
          ],
          "barpolar": [
           {
            "marker": {
             "line": {
              "color": "#E5ECF6",
              "width": 0.5
             },
             "pattern": {
              "fillmode": "overlay",
              "size": 10,
              "solidity": 0.2
             }
            },
            "type": "barpolar"
           }
          ],
          "carpet": [
           {
            "aaxis": {
             "endlinecolor": "#2a3f5f",
             "gridcolor": "white",
             "linecolor": "white",
             "minorgridcolor": "white",
             "startlinecolor": "#2a3f5f"
            },
            "baxis": {
             "endlinecolor": "#2a3f5f",
             "gridcolor": "white",
             "linecolor": "white",
             "minorgridcolor": "white",
             "startlinecolor": "#2a3f5f"
            },
            "type": "carpet"
           }
          ],
          "choropleth": [
           {
            "colorbar": {
             "outlinewidth": 0,
             "ticks": ""
            },
            "type": "choropleth"
           }
          ],
          "contour": [
           {
            "colorbar": {
             "outlinewidth": 0,
             "ticks": ""
            },
            "colorscale": [
             [
              0,
              "#0d0887"
             ],
             [
              0.1111111111111111,
              "#46039f"
             ],
             [
              0.2222222222222222,
              "#7201a8"
             ],
             [
              0.3333333333333333,
              "#9c179e"
             ],
             [
              0.4444444444444444,
              "#bd3786"
             ],
             [
              0.5555555555555556,
              "#d8576b"
             ],
             [
              0.6666666666666666,
              "#ed7953"
             ],
             [
              0.7777777777777778,
              "#fb9f3a"
             ],
             [
              0.8888888888888888,
              "#fdca26"
             ],
             [
              1,
              "#f0f921"
             ]
            ],
            "type": "contour"
           }
          ],
          "contourcarpet": [
           {
            "colorbar": {
             "outlinewidth": 0,
             "ticks": ""
            },
            "type": "contourcarpet"
           }
          ],
          "heatmap": [
           {
            "colorbar": {
             "outlinewidth": 0,
             "ticks": ""
            },
            "colorscale": [
             [
              0,
              "#0d0887"
             ],
             [
              0.1111111111111111,
              "#46039f"
             ],
             [
              0.2222222222222222,
              "#7201a8"
             ],
             [
              0.3333333333333333,
              "#9c179e"
             ],
             [
              0.4444444444444444,
              "#bd3786"
             ],
             [
              0.5555555555555556,
              "#d8576b"
             ],
             [
              0.6666666666666666,
              "#ed7953"
             ],
             [
              0.7777777777777778,
              "#fb9f3a"
             ],
             [
              0.8888888888888888,
              "#fdca26"
             ],
             [
              1,
              "#f0f921"
             ]
            ],
            "type": "heatmap"
           }
          ],
          "heatmapgl": [
           {
            "colorbar": {
             "outlinewidth": 0,
             "ticks": ""
            },
            "colorscale": [
             [
              0,
              "#0d0887"
             ],
             [
              0.1111111111111111,
              "#46039f"
             ],
             [
              0.2222222222222222,
              "#7201a8"
             ],
             [
              0.3333333333333333,
              "#9c179e"
             ],
             [
              0.4444444444444444,
              "#bd3786"
             ],
             [
              0.5555555555555556,
              "#d8576b"
             ],
             [
              0.6666666666666666,
              "#ed7953"
             ],
             [
              0.7777777777777778,
              "#fb9f3a"
             ],
             [
              0.8888888888888888,
              "#fdca26"
             ],
             [
              1,
              "#f0f921"
             ]
            ],
            "type": "heatmapgl"
           }
          ],
          "histogram": [
           {
            "marker": {
             "pattern": {
              "fillmode": "overlay",
              "size": 10,
              "solidity": 0.2
             }
            },
            "type": "histogram"
           }
          ],
          "histogram2d": [
           {
            "colorbar": {
             "outlinewidth": 0,
             "ticks": ""
            },
            "colorscale": [
             [
              0,
              "#0d0887"
             ],
             [
              0.1111111111111111,
              "#46039f"
             ],
             [
              0.2222222222222222,
              "#7201a8"
             ],
             [
              0.3333333333333333,
              "#9c179e"
             ],
             [
              0.4444444444444444,
              "#bd3786"
             ],
             [
              0.5555555555555556,
              "#d8576b"
             ],
             [
              0.6666666666666666,
              "#ed7953"
             ],
             [
              0.7777777777777778,
              "#fb9f3a"
             ],
             [
              0.8888888888888888,
              "#fdca26"
             ],
             [
              1,
              "#f0f921"
             ]
            ],
            "type": "histogram2d"
           }
          ],
          "histogram2dcontour": [
           {
            "colorbar": {
             "outlinewidth": 0,
             "ticks": ""
            },
            "colorscale": [
             [
              0,
              "#0d0887"
             ],
             [
              0.1111111111111111,
              "#46039f"
             ],
             [
              0.2222222222222222,
              "#7201a8"
             ],
             [
              0.3333333333333333,
              "#9c179e"
             ],
             [
              0.4444444444444444,
              "#bd3786"
             ],
             [
              0.5555555555555556,
              "#d8576b"
             ],
             [
              0.6666666666666666,
              "#ed7953"
             ],
             [
              0.7777777777777778,
              "#fb9f3a"
             ],
             [
              0.8888888888888888,
              "#fdca26"
             ],
             [
              1,
              "#f0f921"
             ]
            ],
            "type": "histogram2dcontour"
           }
          ],
          "mesh3d": [
           {
            "colorbar": {
             "outlinewidth": 0,
             "ticks": ""
            },
            "type": "mesh3d"
           }
          ],
          "parcoords": [
           {
            "line": {
             "colorbar": {
              "outlinewidth": 0,
              "ticks": ""
             }
            },
            "type": "parcoords"
           }
          ],
          "pie": [
           {
            "automargin": true,
            "type": "pie"
           }
          ],
          "scatter": [
           {
            "fillpattern": {
             "fillmode": "overlay",
             "size": 10,
             "solidity": 0.2
            },
            "type": "scatter"
           }
          ],
          "scatter3d": [
           {
            "line": {
             "colorbar": {
              "outlinewidth": 0,
              "ticks": ""
             }
            },
            "marker": {
             "colorbar": {
              "outlinewidth": 0,
              "ticks": ""
             }
            },
            "type": "scatter3d"
           }
          ],
          "scattercarpet": [
           {
            "marker": {
             "colorbar": {
              "outlinewidth": 0,
              "ticks": ""
             }
            },
            "type": "scattercarpet"
           }
          ],
          "scattergeo": [
           {
            "marker": {
             "colorbar": {
              "outlinewidth": 0,
              "ticks": ""
             }
            },
            "type": "scattergeo"
           }
          ],
          "scattergl": [
           {
            "marker": {
             "colorbar": {
              "outlinewidth": 0,
              "ticks": ""
             }
            },
            "type": "scattergl"
           }
          ],
          "scattermapbox": [
           {
            "marker": {
             "colorbar": {
              "outlinewidth": 0,
              "ticks": ""
             }
            },
            "type": "scattermapbox"
           }
          ],
          "scatterpolar": [
           {
            "marker": {
             "colorbar": {
              "outlinewidth": 0,
              "ticks": ""
             }
            },
            "type": "scatterpolar"
           }
          ],
          "scatterpolargl": [
           {
            "marker": {
             "colorbar": {
              "outlinewidth": 0,
              "ticks": ""
             }
            },
            "type": "scatterpolargl"
           }
          ],
          "scatterternary": [
           {
            "marker": {
             "colorbar": {
              "outlinewidth": 0,
              "ticks": ""
             }
            },
            "type": "scatterternary"
           }
          ],
          "surface": [
           {
            "colorbar": {
             "outlinewidth": 0,
             "ticks": ""
            },
            "colorscale": [
             [
              0,
              "#0d0887"
             ],
             [
              0.1111111111111111,
              "#46039f"
             ],
             [
              0.2222222222222222,
              "#7201a8"
             ],
             [
              0.3333333333333333,
              "#9c179e"
             ],
             [
              0.4444444444444444,
              "#bd3786"
             ],
             [
              0.5555555555555556,
              "#d8576b"
             ],
             [
              0.6666666666666666,
              "#ed7953"
             ],
             [
              0.7777777777777778,
              "#fb9f3a"
             ],
             [
              0.8888888888888888,
              "#fdca26"
             ],
             [
              1,
              "#f0f921"
             ]
            ],
            "type": "surface"
           }
          ],
          "table": [
           {
            "cells": {
             "fill": {
              "color": "#EBF0F8"
             },
             "line": {
              "color": "white"
             }
            },
            "header": {
             "fill": {
              "color": "#C8D4E3"
             },
             "line": {
              "color": "white"
             }
            },
            "type": "table"
           }
          ]
         },
         "layout": {
          "annotationdefaults": {
           "arrowcolor": "#2a3f5f",
           "arrowhead": 0,
           "arrowwidth": 1
          },
          "autotypenumbers": "strict",
          "coloraxis": {
           "colorbar": {
            "outlinewidth": 0,
            "ticks": ""
           }
          },
          "colorscale": {
           "diverging": [
            [
             0,
             "#8e0152"
            ],
            [
             0.1,
             "#c51b7d"
            ],
            [
             0.2,
             "#de77ae"
            ],
            [
             0.3,
             "#f1b6da"
            ],
            [
             0.4,
             "#fde0ef"
            ],
            [
             0.5,
             "#f7f7f7"
            ],
            [
             0.6,
             "#e6f5d0"
            ],
            [
             0.7,
             "#b8e186"
            ],
            [
             0.8,
             "#7fbc41"
            ],
            [
             0.9,
             "#4d9221"
            ],
            [
             1,
             "#276419"
            ]
           ],
           "sequential": [
            [
             0,
             "#0d0887"
            ],
            [
             0.1111111111111111,
             "#46039f"
            ],
            [
             0.2222222222222222,
             "#7201a8"
            ],
            [
             0.3333333333333333,
             "#9c179e"
            ],
            [
             0.4444444444444444,
             "#bd3786"
            ],
            [
             0.5555555555555556,
             "#d8576b"
            ],
            [
             0.6666666666666666,
             "#ed7953"
            ],
            [
             0.7777777777777778,
             "#fb9f3a"
            ],
            [
             0.8888888888888888,
             "#fdca26"
            ],
            [
             1,
             "#f0f921"
            ]
           ],
           "sequentialminus": [
            [
             0,
             "#0d0887"
            ],
            [
             0.1111111111111111,
             "#46039f"
            ],
            [
             0.2222222222222222,
             "#7201a8"
            ],
            [
             0.3333333333333333,
             "#9c179e"
            ],
            [
             0.4444444444444444,
             "#bd3786"
            ],
            [
             0.5555555555555556,
             "#d8576b"
            ],
            [
             0.6666666666666666,
             "#ed7953"
            ],
            [
             0.7777777777777778,
             "#fb9f3a"
            ],
            [
             0.8888888888888888,
             "#fdca26"
            ],
            [
             1,
             "#f0f921"
            ]
           ]
          },
          "colorway": [
           "#636efa",
           "#EF553B",
           "#00cc96",
           "#ab63fa",
           "#FFA15A",
           "#19d3f3",
           "#FF6692",
           "#B6E880",
           "#FF97FF",
           "#FECB52"
          ],
          "font": {
           "color": "#2a3f5f"
          },
          "geo": {
           "bgcolor": "white",
           "lakecolor": "white",
           "landcolor": "#E5ECF6",
           "showlakes": true,
           "showland": true,
           "subunitcolor": "white"
          },
          "hoverlabel": {
           "align": "left"
          },
          "hovermode": "closest",
          "mapbox": {
           "style": "light"
          },
          "paper_bgcolor": "white",
          "plot_bgcolor": "#E5ECF6",
          "polar": {
           "angularaxis": {
            "gridcolor": "white",
            "linecolor": "white",
            "ticks": ""
           },
           "bgcolor": "#E5ECF6",
           "radialaxis": {
            "gridcolor": "white",
            "linecolor": "white",
            "ticks": ""
           }
          },
          "scene": {
           "xaxis": {
            "backgroundcolor": "#E5ECF6",
            "gridcolor": "white",
            "gridwidth": 2,
            "linecolor": "white",
            "showbackground": true,
            "ticks": "",
            "zerolinecolor": "white"
           },
           "yaxis": {
            "backgroundcolor": "#E5ECF6",
            "gridcolor": "white",
            "gridwidth": 2,
            "linecolor": "white",
            "showbackground": true,
            "ticks": "",
            "zerolinecolor": "white"
           },
           "zaxis": {
            "backgroundcolor": "#E5ECF6",
            "gridcolor": "white",
            "gridwidth": 2,
            "linecolor": "white",
            "showbackground": true,
            "ticks": "",
            "zerolinecolor": "white"
           }
          },
          "shapedefaults": {
           "line": {
            "color": "#2a3f5f"
           }
          },
          "ternary": {
           "aaxis": {
            "gridcolor": "white",
            "linecolor": "white",
            "ticks": ""
           },
           "baxis": {
            "gridcolor": "white",
            "linecolor": "white",
            "ticks": ""
           },
           "bgcolor": "#E5ECF6",
           "caxis": {
            "gridcolor": "white",
            "linecolor": "white",
            "ticks": ""
           }
          },
          "title": {
           "x": 0.05
          },
          "xaxis": {
           "automargin": true,
           "gridcolor": "white",
           "linecolor": "white",
           "ticks": "",
           "title": {
            "standoff": 15
           },
           "zerolinecolor": "white",
           "zerolinewidth": 2
          },
          "yaxis": {
           "automargin": true,
           "gridcolor": "white",
           "linecolor": "white",
           "ticks": "",
           "title": {
            "standoff": 15
           },
           "zerolinecolor": "white",
           "zerolinewidth": 2
          }
         }
        },
        "title": {
         "text": "Road Quality Comparison by Type"
        }
       }
      },
      "image/png": "[encoded data removed]",
      "text/html": [
       "<div>                            <div id=\"d7af2215-95f6-4a7f-9a9e-ed35836e944d\" class=\"plotly-graph-div\" style=\"height:525px; width:100%;\"></div>            <script type=\"text/javascript\">                require([\"plotly\"], function(Plotly) {                    window.PLOTLYENV=window.PLOTLYENV || {};                                    if (document.getElementById(\"d7af2215-95f6-4a7f-9a9e-ed35836e944d\")) {                    Plotly.newPlot(                        \"d7af2215-95f6-4a7f-9a9e-ed35836e944d\",                        [{\"fill\":\"toself\",\"name\":\"Good\",\"r\":[0.10729991204925242,0.052770448548812667,0.014951627088830254],\"theta\":[\"Main\",\"Secondary\",\"Agricultural\"],\"type\":\"scatterpolar\"},{\"fill\":\"toself\",\"name\":\"Acceptable\",\"r\":[0.4494283201407212,0.3333333333333333,0.1996481970096746],\"theta\":[\"Main\",\"Secondary\",\"Agricultural\"],\"type\":\"scatterpolar\"},{\"fill\":\"toself\",\"name\":\"Bad\",\"r\":[0.218117854001759,0.38786279683377306,0.5584872471416007],\"theta\":[\"Main\",\"Secondary\",\"Agricultural\"],\"type\":\"scatterpolar\"}],                        {\"template\":{\"data\":{\"histogram2dcontour\":[{\"type\":\"histogram2dcontour\",\"colorbar\":{\"outlinewidth\":0,\"ticks\":\"\"},\"colorscale\":[[0.0,\"#0d0887\"],[0.1111111111111111,\"#46039f\"],[0.2222222222222222,\"#7201a8\"],[0.3333333333333333,\"#9c179e\"],[0.4444444444444444,\"#bd3786\"],[0.5555555555555556,\"#d8576b\"],[0.6666666666666666,\"#ed7953\"],[0.7777777777777778,\"#fb9f3a\"],[0.8888888888888888,\"#fdca26\"],[1.0,\"#f0f921\"]]}],\"choropleth\":[{\"type\":\"choropleth\",\"colorbar\":{\"outlinewidth\":0,\"ticks\":\"\"}}],\"histogram2d\":[{\"type\":\"histogram2d\",\"colorbar\":{\"outlinewidth\":0,\"ticks\":\"\"},\"colorscale\":[[0.0,\"#0d0887\"],[0.1111111111111111,\"#46039f\"],[0.2222222222222222,\"#7201a8\"],[0.3333333333333333,\"#9c179e\"],[0.4444444444444444,\"#bd3786\"],[0.5555555555555556,\"#d8576b\"],[0.6666666666666666,\"#ed7953\"],[0.7777777777777778,\"#fb9f3a\"],[0.8888888888888888,\"#fdca26\"],[1.0,\"#f0f921\"]]}],\"heatmap\":[{\"type\":\"heatmap\",\"colorbar\":{\"outlinewidth\":0,\"ticks\":\"\"},\"colorscale\":[[0.0,\"#0d0887\"],[0.1111111111111111,\"#46039f\"],[0.2222222222222222,\"#7201a8\"],[0.3333333333333333,\"#9c179e\"],[0.4444444444444444,\"#bd3786\"],[0.5555555555555556,\"#d8576b\"],[0.6666666666666666,\"#ed7953\"],[0.7777777777777778,\"#fb9f3a\"],[0.8888888888888888,\"#fdca26\"],[1.0,\"#f0f921\"]]}],\"heatmapgl\":[{\"type\":\"heatmapgl\",\"colorbar\":{\"outlinewidth\":0,\"ticks\":\"\"},\"colorscale\":[[0.0,\"#0d0887\"],[0.1111111111111111,\"#46039f\"],[0.2222222222222222,\"#7201a8\"],[0.3333333333333333,\"#9c179e\"],[0.4444444444444444,\"#bd3786\"],[0.5555555555555556,\"#d8576b\"],[0.6666666666666666,\"#ed7953\"],[0.7777777777777778,\"#fb9f3a\"],[0.8888888888888888,\"#fdca26\"],[1.0,\"#f0f921\"]]}],\"contourcarpet\":[{\"type\":\"contourcarpet\",\"colorbar\":{\"outlinewidth\":0,\"ticks\":\"\"}}],\"contour\":[{\"type\":\"contour\",\"colorbar\":{\"outlinewidth\":0,\"ticks\":\"\"},\"colorscale\":[[0.0,\"#0d0887\"],[0.1111111111111111,\"#46039f\"],[0.2222222222222222,\"#7201a8\"],[0.3333333333333333,\"#9c179e\"],[0.4444444444444444,\"#bd3786\"],[0.5555555555555556,\"#d8576b\"],[0.6666666666666666,\"#ed7953\"],[0.7777777777777778,\"#fb9f3a\"],[0.8888888888888888,\"#fdca26\"],[1.0,\"#f0f921\"]]}],\"surface\":[{\"type\":\"surface\",\"colorbar\":{\"outlinewidth\":0,\"ticks\":\"\"},\"colorscale\":[[0.0,\"#0d0887\"],[0.1111111111111111,\"#46039f\"],[0.2222222222222222,\"#7201a8\"],[0.3333333333333333,\"#9c179e\"],[0.4444444444444444,\"#bd3786\"],[0.5555555555555556,\"#d8576b\"],[0.6666666666666666,\"#ed7953\"],[0.7777777777777778,\"#fb9f3a\"],[0.8888888888888888,\"#fdca26\"],[1.0,\"#f0f921\"]]}],\"mesh3d\":[{\"type\":\"mesh3d\",\"colorbar\":{\"outlinewidth\":0,\"ticks\":\"\"}}],\"scatter\":[{\"fillpattern\":{\"fillmode\":\"overlay\",\"size\":10,\"solidity\":0.2},\"type\":\"scatter\"}],\"parcoords\":[{\"type\":\"parcoords\",\"line\":{\"colorbar\":{\"outlinewidth\":0,\"ticks\":\"\"}}}],\"scatterpolargl\":[{\"type\":\"scatterpolargl\",\"marker\":{\"colorbar\":{\"outlinewidth\":0,\"ticks\":\"\"}}}],\"bar\":[{\"error_x\":{\"color\":\"#2a3f5f\"},\"error_y\":{\"color\":\"#2a3f5f\"},\"marker\":{\"line\":{\"color\":\"#E5ECF6\",\"width\":0.5},\"pattern\":{\"fillmode\":\"overlay\",\"size\":10,\"solidity\":0.2}},\"type\":\"bar\"}],\"scattergeo\":[{\"type\":\"scattergeo\",\"marker\":{\"colorbar\":{\"outlinewidth\":0,\"ticks\":\"\"}}}],\"scatterpolar\":[{\"type\":\"scatterpolar\",\"marker\":{\"colorbar\":{\"outlinewidth\":0,\"ticks\":\"\"}}}],\"histogram\":[{\"marker\":{\"pattern\":{\"fillmode\":\"overlay\",\"size\":10,\"solidity\":0.2}},\"type\":\"histogram\"}],\"scattergl\":[{\"type\":\"scattergl\",\"marker\":{\"colorbar\":{\"outlinewidth\":0,\"ticks\":\"\"}}}],\"scatter3d\":[{\"type\":\"scatter3d\",\"line\":{\"colorbar\":{\"outlinewidth\":0,\"ticks\":\"\"}},\"marker\":{\"colorbar\":{\"outlinewidth\":0,\"ticks\":\"\"}}}],\"scattermapbox\":[{\"type\":\"scattermapbox\",\"marker\":{\"colorbar\":{\"outlinewidth\":0,\"ticks\":\"\"}}}],\"scatterternary\":[{\"type\":\"scatterternary\",\"marker\":{\"colorbar\":{\"outlinewidth\":0,\"ticks\":\"\"}}}],\"scattercarpet\":[{\"type\":\"scattercarpet\",\"marker\":{\"colorbar\":{\"outlinewidth\":0,\"ticks\":\"\"}}}],\"carpet\":[{\"aaxis\":{\"endlinecolor\":\"#2a3f5f\",\"gridcolor\":\"white\",\"linecolor\":\"white\",\"minorgridcolor\":\"white\",\"startlinecolor\":\"#2a3f5f\"},\"baxis\":{\"endlinecolor\":\"#2a3f5f\",\"gridcolor\":\"white\",\"linecolor\":\"white\",\"minorgridcolor\":\"white\",\"startlinecolor\":\"#2a3f5f\"},\"type\":\"carpet\"}],\"table\":[{\"cells\":{\"fill\":{\"color\":\"#EBF0F8\"},\"line\":{\"color\":\"white\"}},\"header\":{\"fill\":{\"color\":\"#C8D4E3\"},\"line\":{\"color\":\"white\"}},\"type\":\"table\"}],\"barpolar\":[{\"marker\":{\"line\":{\"color\":\"#E5ECF6\",\"width\":0.5},\"pattern\":{\"fillmode\":\"overlay\",\"size\":10,\"solidity\":0.2}},\"type\":\"barpolar\"}],\"pie\":[{\"automargin\":true,\"type\":\"pie\"}]},\"layout\":{\"autotypenumbers\":\"strict\",\"colorway\":[\"#636efa\",\"#EF553B\",\"#00cc96\",\"#ab63fa\",\"#FFA15A\",\"#19d3f3\",\"#FF6692\",\"#B6E880\",\"#FF97FF\",\"#FECB52\"],\"font\":{\"color\":\"#2a3f5f\"},\"hovermode\":\"closest\",\"hoverlabel\":{\"align\":\"left\"},\"paper_bgcolor\":\"white\",\"plot_bgcolor\":\"#E5ECF6\",\"polar\":{\"bgcolor\":\"#E5ECF6\",\"angularaxis\":{\"gridcolor\":\"white\",\"linecolor\":\"white\",\"ticks\":\"\"},\"radialaxis\":{\"gridcolor\":\"white\",\"linecolor\":\"white\",\"ticks\":\"\"}},\"ternary\":{\"bgcolor\":\"#E5ECF6\",\"aaxis\":{\"gridcolor\":\"white\",\"linecolor\":\"white\",\"ticks\":\"\"},\"baxis\":{\"gridcolor\":\"white\",\"linecolor\":\"white\",\"ticks\":\"\"},\"caxis\":{\"gridcolor\":\"white\",\"linecolor\":\"white\",\"ticks\":\"\"}},\"coloraxis\":{\"colorbar\":{\"outlinewidth\":0,\"ticks\":\"\"}},\"colorscale\":{\"sequential\":[[0.0,\"#0d0887\"],[0.1111111111111111,\"#46039f\"],[0.2222222222222222,\"#7201a8\"],[0.3333333333333333,\"#9c179e\"],[0.4444444444444444,\"#bd3786\"],[0.5555555555555556,\"#d8576b\"],[0.6666666666666666,\"#ed7953\"],[0.7777777777777778,\"#fb9f3a\"],[0.8888888888888888,\"#fdca26\"],[1.0,\"#f0f921\"]],\"sequentialminus\":[[0.0,\"#0d0887\"],[0.1111111111111111,\"#46039f\"],[0.2222222222222222,\"#7201a8\"],[0.3333333333333333,\"#9c179e\"],[0.4444444444444444,\"#bd3786\"],[0.5555555555555556,\"#d8576b\"],[0.6666666666666666,\"#ed7953\"],[0.7777777777777778,\"#fb9f3a\"],[0.8888888888888888,\"#fdca26\"],[1.0,\"#f0f921\"]],\"diverging\":[[0,\"#8e0152\"],[0.1,\"#c51b7d\"],[0.2,\"#de77ae\"],[0.3,\"#f1b6da\"],[0.4,\"#fde0ef\"],[0.5,\"#f7f7f7\"],[0.6,\"#e6f5d0\"],[0.7,\"#b8e186\"],[0.8,\"#7fbc41\"],[0.9,\"#4d9221\"],[1,\"#276419\"]]},\"xaxis\":{\"gridcolor\":\"white\",\"linecolor\":\"white\",\"ticks\":\"\",\"title\":{\"standoff\":15},\"zerolinecolor\":\"white\",\"automargin\":true,\"zerolinewidth\":2},\"yaxis\":{\"gridcolor\":\"white\",\"linecolor\":\"white\",\"ticks\":\"\",\"title\":{\"standoff\":15},\"zerolinecolor\":\"white\",\"automargin\":true,\"zerolinewidth\":2},\"scene\":{\"xaxis\":{\"backgroundcolor\":\"#E5ECF6\",\"gridcolor\":\"white\",\"linecolor\":\"white\",\"showbackground\":true,\"ticks\":\"\",\"zerolinecolor\":\"white\",\"gridwidth\":2},\"yaxis\":{\"backgroundcolor\":\"#E5ECF6\",\"gridcolor\":\"white\",\"linecolor\":\"white\",\"showbackground\":true,\"ticks\":\"\",\"zerolinecolor\":\"white\",\"gridwidth\":2},\"zaxis\":{\"backgroundcolor\":\"#E5ECF6\",\"gridcolor\":\"white\",\"linecolor\":\"white\",\"showbackground\":true,\"ticks\":\"\",\"zerolinecolor\":\"white\",\"gridwidth\":2}},\"shapedefaults\":{\"line\":{\"color\":\"#2a3f5f\"}},\"annotationdefaults\":{\"arrowcolor\":\"#2a3f5f\",\"arrowhead\":0,\"arrowwidth\":1},\"geo\":{\"bgcolor\":\"white\",\"landcolor\":\"#E5ECF6\",\"subunitcolor\":\"white\",\"showland\":true,\"showlakes\":true,\"lakecolor\":\"white\"},\"title\":{\"x\":0.05},\"mapbox\":{\"style\":\"light\"}}},\"polar\":{\"radialaxis\":{\"visible\":true,\"range\":[0,1]}},\"title\":{\"text\":\"Road Quality Comparison by Type\"},\"showlegend\":true},                        {\"responsive\": true}                    ).then(function(){\n",
       "                            \n",
       "var gd = document.getElementById('d7af2215-95f6-4a7f-9a9e-ed35836e944d');\n",
       "var x = new MutationObserver(function (mutations, observer) {{\n",
       "        var display = window.getComputedStyle(gd).display;\n",
       "        if (!display || display === 'none') {{\n",
       "            console.log([gd, 'removed!']);\n",
       "            Plotly.purge(gd);\n",
       "            observer.disconnect();\n",
       "        }}\n",
       "}});\n",
       "\n",
       "// Listen for the removal of the full notebook cells\n",
       "var notebookContainer = gd.closest('#notebook-container');\n",
       "if (notebookContainer) {{\n",
       "    x.observe(notebookContainer, {childList: true});\n",
       "}}\n",
       "\n",
       "// Listen for the clearing of the current output cell\n",
       "var outputEl = gd.closest('.output');\n",
       "if (outputEl) {{\n",
       "    x.observe(outputEl, {childList: true});\n",
       "}}\n",
       "\n",
       "                        })                };                });            </script>        </div>"
      ]
     },
     "metadata": {},
     "output_type": "display_data"
    }
   ],
   "source": [
    "fig = go.Figure()\n",
    "fig.add_trace(go.Scatterpolar(\n",
    "    r=[main_good, secondary_good, agricultural_good],\n",
    "    theta=['Main', 'Secondary', 'Agricultural'],\n",
    "    fill='toself',\n",
    "    name='Good'))\n",
    "\n",
    "fig.add_trace(go.Scatterpolar(\n",
    "    r=[main_acceptable, secondary_acceptable, agricultural_acceptable],\n",
    "    theta=['Main', 'Secondary', 'Agricultural'],\n",
    "    fill='toself',\n",
    "    name='Acceptable'))\n",
    "\n",
    "fig.add_trace(go.Scatterpolar(\n",
    "    r=[main_bad, secondary_bad, agricultural_bad],\n",
    "    theta=['Main', 'Secondary', 'Agricultural'],\n",
    "    fill='toself',\n",
    "    name='Bad'))\n",
    "\n",
    "fig.update_layout(\n",
    "    polar=dict(radialaxis=dict(visible=True, range=[0, 1])),\n",
    "    title=\"Road Quality Comparison by Type\",\n",
    "    showlegend=True)\n",
    "fig.show()"
   ]
  },
  {
   "cell_type": "code",
   "execution_count": 575,
   "id": "114f306c-246a-4540-ae0c-38746dcae7ba",
   "metadata": {},
   "outputs": [
    {
     "data": {
      "text/plain": [
       "['Existence of nearby care centers - exists',\n",
       " 'Existence of special needs care centers - does not exist',\n",
       " 'Existence of health resources - exists',\n",
       " 'Type and size of medical resources - Hospitals',\n",
       " 'Existence of a first aid center - exists',\n",
       " 'Town',\n",
       " 'Observation URI',\n",
       " 'Total number of care centers',\n",
       " 'Type and size of medical resources - Clinics',\n",
       " 'Existence of special needs care centers - exists',\n",
       " 'Type and size of medical resources - Pharmacies',\n",
       " 'Total number of first aid centers',\n",
       " 'Type and size of medical resources - Labs and Radiology ',\n",
       " 'references',\n",
       " 'Percentage of towns with special needs indiciduals - Without special needs',\n",
       " 'Percentage of towns with special needs indiciduals - With special needs',\n",
       " 'refArea',\n",
       " 'publisher',\n",
       " 'dataset',\n",
       " 'Type and size of medical resources - Medical Centers']"
      ]
     },
     "execution_count": 575,
     "metadata": {},
     "output_type": "execute_result"
    }
   ],
   "source": [
    "df= pd.read_csv(\"https://linked.aub.edu.lb/pkgcube/data/13e1689d0a84bc62e3e3a309c06956fc_20240902_120434.csv\")\n",
    "df.columns.to_list()"
   ]
  },
  {
   "cell_type": "code",
   "execution_count": 577,
   "id": "a223cd1a-aa42-4327-a1d3-ca965ff3ae28",
   "metadata": {},
   "outputs": [
    {
     "data": {
      "text/html": [
       "<div>\n",
       "<style scoped>\n",
       "    .dataframe tbody tr th:only-of-type {\n",
       "        vertical-align: middle;\n",
       "    }\n",
       "\n",
       "    .dataframe tbody tr th {\n",
       "        vertical-align: top;\n",
       "    }\n",
       "\n",
       "    .dataframe thead th {\n",
       "        text-align: right;\n",
       "    }\n",
       "</style>\n",
       "<table border=\"1\" class=\"dataframe\">\n",
       "  <thead>\n",
       "    <tr style=\"text-align: right;\">\n",
       "      <th></th>\n",
       "      <th>Existence of nearby care centers - exists</th>\n",
       "      <th>Existence of special needs care centers - does not exist</th>\n",
       "      <th>Existence of health resources - exists</th>\n",
       "      <th>Type and size of medical resources - Hospitals</th>\n",
       "      <th>Existence of a first aid center - exists</th>\n",
       "      <th>Town</th>\n",
       "      <th>Total number of care centers</th>\n",
       "      <th>Type and size of medical resources - Clinics</th>\n",
       "      <th>Existence of special needs care centers - exists</th>\n",
       "      <th>Type and size of medical resources - Pharmacies</th>\n",
       "      <th>Total number of first aid centers</th>\n",
       "      <th>Type and size of medical resources - Labs and Radiology</th>\n",
       "      <th>Percentage of towns with special needs indiciduals - Without special needs</th>\n",
       "      <th>Percentage of towns with special needs indiciduals - With special needs</th>\n",
       "      <th>Type and size of medical resources - Medical Centers</th>\n",
       "    </tr>\n",
       "  </thead>\n",
       "  <tbody>\n",
       "    <tr>\n",
       "      <th>0</th>\n",
       "      <td>0</td>\n",
       "      <td>1</td>\n",
       "      <td>0</td>\n",
       "      <td>0</td>\n",
       "      <td>1</td>\n",
       "      <td>Bireh</td>\n",
       "      <td>0</td>\n",
       "      <td>0</td>\n",
       "      <td>0</td>\n",
       "      <td>0</td>\n",
       "      <td>1</td>\n",
       "      <td>0</td>\n",
       "      <td>0</td>\n",
       "      <td>1</td>\n",
       "      <td>0</td>\n",
       "    </tr>\n",
       "    <tr>\n",
       "      <th>1</th>\n",
       "      <td>0</td>\n",
       "      <td>0</td>\n",
       "      <td>0</td>\n",
       "      <td>0</td>\n",
       "      <td>0</td>\n",
       "      <td>A'ain El-Mir (El Establ)</td>\n",
       "      <td>0</td>\n",
       "      <td>0</td>\n",
       "      <td>0</td>\n",
       "      <td>0</td>\n",
       "      <td>0</td>\n",
       "      <td>0</td>\n",
       "      <td>0</td>\n",
       "      <td>0</td>\n",
       "      <td>0</td>\n",
       "    </tr>\n",
       "    <tr>\n",
       "      <th>2</th>\n",
       "      <td>0</td>\n",
       "      <td>1</td>\n",
       "      <td>0</td>\n",
       "      <td>0</td>\n",
       "      <td>0</td>\n",
       "      <td>AAridet Cheikh Zennad</td>\n",
       "      <td>0</td>\n",
       "      <td>0</td>\n",
       "      <td>0</td>\n",
       "      <td>0</td>\n",
       "      <td>0</td>\n",
       "      <td>0</td>\n",
       "      <td>0</td>\n",
       "      <td>1</td>\n",
       "      <td>0</td>\n",
       "    </tr>\n",
       "    <tr>\n",
       "      <th>3</th>\n",
       "      <td>1</td>\n",
       "      <td>1</td>\n",
       "      <td>0</td>\n",
       "      <td>0</td>\n",
       "      <td>0</td>\n",
       "      <td>Aaba</td>\n",
       "      <td>0</td>\n",
       "      <td>0</td>\n",
       "      <td>0</td>\n",
       "      <td>0</td>\n",
       "      <td>0</td>\n",
       "      <td>0</td>\n",
       "      <td>0</td>\n",
       "      <td>1</td>\n",
       "      <td>0</td>\n",
       "    </tr>\n",
       "    <tr>\n",
       "      <th>4</th>\n",
       "      <td>0</td>\n",
       "      <td>1</td>\n",
       "      <td>1</td>\n",
       "      <td>0</td>\n",
       "      <td>0</td>\n",
       "      <td>Aabadiyeh</td>\n",
       "      <td>0</td>\n",
       "      <td>1</td>\n",
       "      <td>0</td>\n",
       "      <td>0</td>\n",
       "      <td>0</td>\n",
       "      <td>0</td>\n",
       "      <td>0</td>\n",
       "      <td>1</td>\n",
       "      <td>0</td>\n",
       "    </tr>\n",
       "  </tbody>\n",
       "</table>\n",
       "</div>"
      ],
      "text/plain": [
       "   Existence of nearby care centers - exists  \\\n",
       "0                                          0   \n",
       "1                                          0   \n",
       "2                                          0   \n",
       "3                                          1   \n",
       "4                                          0   \n",
       "\n",
       "   Existence of special needs care centers - does not exist  \\\n",
       "0                                                  1          \n",
       "1                                                  0          \n",
       "2                                                  1          \n",
       "3                                                  1          \n",
       "4                                                  1          \n",
       "\n",
       "   Existence of health resources - exists  \\\n",
       "0                                       0   \n",
       "1                                       0   \n",
       "2                                       0   \n",
       "3                                       0   \n",
       "4                                       1   \n",
       "\n",
       "   Type and size of medical resources - Hospitals  \\\n",
       "0                                               0   \n",
       "1                                               0   \n",
       "2                                               0   \n",
       "3                                               0   \n",
       "4                                               0   \n",
       "\n",
       "   Existence of a first aid center - exists                      Town  \\\n",
       "0                                         1                     Bireh   \n",
       "1                                         0  A'ain El-Mir (El Establ)   \n",
       "2                                         0     AAridet Cheikh Zennad   \n",
       "3                                         0                      Aaba   \n",
       "4                                         0                 Aabadiyeh   \n",
       "\n",
       "   Total number of care centers  Type and size of medical resources - Clinics  \\\n",
       "0                             0                                             0   \n",
       "1                             0                                             0   \n",
       "2                             0                                             0   \n",
       "3                             0                                             0   \n",
       "4                             0                                             1   \n",
       "\n",
       "   Existence of special needs care centers - exists  \\\n",
       "0                                                 0   \n",
       "1                                                 0   \n",
       "2                                                 0   \n",
       "3                                                 0   \n",
       "4                                                 0   \n",
       "\n",
       "   Type and size of medical resources - Pharmacies  \\\n",
       "0                                                0   \n",
       "1                                                0   \n",
       "2                                                0   \n",
       "3                                                0   \n",
       "4                                                0   \n",
       "\n",
       "   Total number of first aid centers  \\\n",
       "0                                  1   \n",
       "1                                  0   \n",
       "2                                  0   \n",
       "3                                  0   \n",
       "4                                  0   \n",
       "\n",
       "   Type and size of medical resources - Labs and Radiology   \\\n",
       "0                                                  0          \n",
       "1                                                  0          \n",
       "2                                                  0          \n",
       "3                                                  0          \n",
       "4                                                  0          \n",
       "\n",
       "   Percentage of towns with special needs indiciduals - Without special needs  \\\n",
       "0                                                  0                            \n",
       "1                                                  0                            \n",
       "2                                                  0                            \n",
       "3                                                  0                            \n",
       "4                                                  0                            \n",
       "\n",
       "   Percentage of towns with special needs indiciduals - With special needs  \\\n",
       "0                                                  1                         \n",
       "1                                                  0                         \n",
       "2                                                  1                         \n",
       "3                                                  1                         \n",
       "4                                                  1                         \n",
       "\n",
       "   Type and size of medical resources - Medical Centers  \n",
       "0                                                  0     \n",
       "1                                                  0     \n",
       "2                                                  0     \n",
       "3                                                  0     \n",
       "4                                                  0     "
      ]
     },
     "execution_count": 577,
     "metadata": {},
     "output_type": "execute_result"
    }
   ],
   "source": [
    "df.drop(['Observation URI','references','refArea','publisher','dataset',], axis=1,inplace= True)\n",
    "df.head()"
   ]
  },
  {
   "cell_type": "code",
   "execution_count": 381,
   "id": "b92acf78-ff4f-45ba-b76a-3b1a76e518e7",
   "metadata": {
    "collapsed": true,
    "jupyter": {
     "outputs_hidden": true
    },
    "scrolled": true
   },
   "outputs": [
    {
     "data": {
      "text/html": [
       "<div>\n",
       "<style scoped>\n",
       "    .dataframe tbody tr th:only-of-type {\n",
       "        vertical-align: middle;\n",
       "    }\n",
       "\n",
       "    .dataframe tbody tr th {\n",
       "        vertical-align: top;\n",
       "    }\n",
       "\n",
       "    .dataframe thead th {\n",
       "        text-align: right;\n",
       "    }\n",
       "</style>\n",
       "<table border=\"1\" class=\"dataframe\">\n",
       "  <thead>\n",
       "    <tr style=\"text-align: right;\">\n",
       "      <th></th>\n",
       "      <th>Existence of nearby care centers - exists</th>\n",
       "      <th>Existence of special needs care centers - does not exist</th>\n",
       "      <th>Existence of health resources - exists</th>\n",
       "      <th>Type and size of medical resources - Hospitals</th>\n",
       "      <th>Existence of a first aid center - exists</th>\n",
       "      <th>Town</th>\n",
       "      <th>Observation URI</th>\n",
       "      <th>Total number of care centers</th>\n",
       "      <th>Type and size of medical resources - Clinics</th>\n",
       "      <th>Existence of special needs care centers - exists</th>\n",
       "      <th>Type and size of medical resources - Pharmacies</th>\n",
       "      <th>Total number of first aid centers</th>\n",
       "      <th>Type and size of medical resources - Labs and Radiology</th>\n",
       "      <th>references</th>\n",
       "      <th>Percentage of towns with special needs indiciduals - Without special needs</th>\n",
       "      <th>Percentage of towns with special needs indiciduals - With special needs</th>\n",
       "      <th>refArea</th>\n",
       "      <th>publisher</th>\n",
       "      <th>dataset</th>\n",
       "      <th>Type and size of medical resources - Medical Centers</th>\n",
       "    </tr>\n",
       "  </thead>\n",
       "  <tbody>\n",
       "    <tr>\n",
       "      <th>7</th>\n",
       "      <td>1</td>\n",
       "      <td>0</td>\n",
       "      <td>1</td>\n",
       "      <td>3</td>\n",
       "      <td>1</td>\n",
       "      <td>Aabbesiyyi</td>\n",
       "      <td>http://linked.aub.edu.lb/CODEC/Lebanon/observa...</td>\n",
       "      <td>1</td>\n",
       "      <td>3</td>\n",
       "      <td>1</td>\n",
       "      <td>25</td>\n",
       "      <td>2</td>\n",
       "      <td>4</td>\n",
       "      <td>https://impact.cib.gov.lb/home#open_data_section</td>\n",
       "      <td>0</td>\n",
       "      <td>1</td>\n",
       "      <td>http://dbpedia.org/resource/Tyre_District</td>\n",
       "      <td>Impact Open Data</td>\n",
       "      <td>http://linked.aub.edu.lb/CODEC/Lebanon/Dataset...</td>\n",
       "      <td>5</td>\n",
       "    </tr>\n",
       "    <tr>\n",
       "      <th>40</th>\n",
       "      <td>1</td>\n",
       "      <td>1</td>\n",
       "      <td>1</td>\n",
       "      <td>2</td>\n",
       "      <td>1</td>\n",
       "      <td>Aain Ibl</td>\n",
       "      <td>http://linked.aub.edu.lb/CODEC/Lebanon/observa...</td>\n",
       "      <td>1</td>\n",
       "      <td>1</td>\n",
       "      <td>0</td>\n",
       "      <td>15</td>\n",
       "      <td>2</td>\n",
       "      <td>5</td>\n",
       "      <td>https://impact.cib.gov.lb/home#open_data_section</td>\n",
       "      <td>0</td>\n",
       "      <td>1</td>\n",
       "      <td>http://dbpedia.org/resource/Bint_Jbeil_District</td>\n",
       "      <td>Impact Open Data</td>\n",
       "      <td>http://linked.aub.edu.lb/CODEC/Lebanon/Dataset...</td>\n",
       "      <td>2</td>\n",
       "    </tr>\n",
       "    <tr>\n",
       "      <th>72</th>\n",
       "      <td>0</td>\n",
       "      <td>1</td>\n",
       "      <td>1</td>\n",
       "      <td>1</td>\n",
       "      <td>0</td>\n",
       "      <td>Aamchit</td>\n",
       "      <td>http://linked.aub.edu.lb/CODEC/Lebanon/observa...</td>\n",
       "      <td>0</td>\n",
       "      <td>3</td>\n",
       "      <td>0</td>\n",
       "      <td>12</td>\n",
       "      <td>0</td>\n",
       "      <td>0</td>\n",
       "      <td>https://impact.cib.gov.lb/home#open_data_section</td>\n",
       "      <td>0</td>\n",
       "      <td>1</td>\n",
       "      <td>http://dbpedia.org/resource/Byblos_District</td>\n",
       "      <td>Impact Open Data</td>\n",
       "      <td>http://linked.aub.edu.lb/CODEC/Lebanon/Dataset...</td>\n",
       "      <td>0</td>\n",
       "    </tr>\n",
       "    <tr>\n",
       "      <th>95</th>\n",
       "      <td>0</td>\n",
       "      <td>1</td>\n",
       "      <td>1</td>\n",
       "      <td>1</td>\n",
       "      <td>1</td>\n",
       "      <td>Aarsal</td>\n",
       "      <td>http://linked.aub.edu.lb/CODEC/Lebanon/observa...</td>\n",
       "      <td>0</td>\n",
       "      <td>0</td>\n",
       "      <td>0</td>\n",
       "      <td>13</td>\n",
       "      <td>0</td>\n",
       "      <td>2</td>\n",
       "      <td>https://impact.cib.gov.lb/home#open_data_section</td>\n",
       "      <td>0</td>\n",
       "      <td>1</td>\n",
       "      <td>https://dbpedia.org/page/Baalbek-Hermel_Govern...</td>\n",
       "      <td>Impact Open Data</td>\n",
       "      <td>http://linked.aub.edu.lb/CODEC/Lebanon/Dataset...</td>\n",
       "      <td>0</td>\n",
       "    </tr>\n",
       "    <tr>\n",
       "      <th>111</th>\n",
       "      <td>0</td>\n",
       "      <td>1</td>\n",
       "      <td>1</td>\n",
       "      <td>4</td>\n",
       "      <td>1</td>\n",
       "      <td>Aaytanit</td>\n",
       "      <td>http://linked.aub.edu.lb/CODEC/Lebanon/observa...</td>\n",
       "      <td>0</td>\n",
       "      <td>3</td>\n",
       "      <td>0</td>\n",
       "      <td>15</td>\n",
       "      <td>2</td>\n",
       "      <td>2</td>\n",
       "      <td>https://impact.cib.gov.lb/home#open_data_section</td>\n",
       "      <td>0</td>\n",
       "      <td>1</td>\n",
       "      <td>http://dbpedia.org/resource/Western_Beqaa_Dist...</td>\n",
       "      <td>Impact Open Data</td>\n",
       "      <td>http://linked.aub.edu.lb/CODEC/Lebanon/Dataset...</td>\n",
       "      <td>1</td>\n",
       "    </tr>\n",
       "    <tr>\n",
       "      <th>120</th>\n",
       "      <td>1</td>\n",
       "      <td>0</td>\n",
       "      <td>1</td>\n",
       "      <td>2</td>\n",
       "      <td>1</td>\n",
       "      <td>Abou Qamha</td>\n",
       "      <td>http://linked.aub.edu.lb/CODEC/Lebanon/observa...</td>\n",
       "      <td>1</td>\n",
       "      <td>5</td>\n",
       "      <td>1</td>\n",
       "      <td>20</td>\n",
       "      <td>1</td>\n",
       "      <td>5</td>\n",
       "      <td>https://impact.cib.gov.lb/home#open_data_section</td>\n",
       "      <td>0</td>\n",
       "      <td>1</td>\n",
       "      <td>http://dbpedia.org/resource/Hasbaya_District</td>\n",
       "      <td>Impact Open Data</td>\n",
       "      <td>http://linked.aub.edu.lb/CODEC/Lebanon/Dataset...</td>\n",
       "      <td>0</td>\n",
       "    </tr>\n",
       "    <tr>\n",
       "      <th>136</th>\n",
       "      <td>1</td>\n",
       "      <td>0</td>\n",
       "      <td>1</td>\n",
       "      <td>1</td>\n",
       "      <td>1</td>\n",
       "      <td>Antelias-Naccache</td>\n",
       "      <td>http://linked.aub.edu.lb/CODEC/Lebanon/observa...</td>\n",
       "      <td>5</td>\n",
       "      <td>5</td>\n",
       "      <td>1</td>\n",
       "      <td>15</td>\n",
       "      <td>2</td>\n",
       "      <td>10</td>\n",
       "      <td>https://impact.cib.gov.lb/home#open_data_section</td>\n",
       "      <td>0</td>\n",
       "      <td>1</td>\n",
       "      <td>http://dbpedia.org/resource/Matn_District</td>\n",
       "      <td>Impact Open Data</td>\n",
       "      <td>http://linked.aub.edu.lb/CODEC/Lebanon/Dataset...</td>\n",
       "      <td>10</td>\n",
       "    </tr>\n",
       "    <tr>\n",
       "      <th>147</th>\n",
       "      <td>1</td>\n",
       "      <td>0</td>\n",
       "      <td>1</td>\n",
       "      <td>5</td>\n",
       "      <td>1</td>\n",
       "      <td>Baalbek</td>\n",
       "      <td>http://linked.aub.edu.lb/CODEC/Lebanon/observa...</td>\n",
       "      <td>2</td>\n",
       "      <td>5</td>\n",
       "      <td>1</td>\n",
       "      <td>48</td>\n",
       "      <td>5</td>\n",
       "      <td>5</td>\n",
       "      <td>https://impact.cib.gov.lb/home#open_data_section</td>\n",
       "      <td>0</td>\n",
       "      <td>1</td>\n",
       "      <td>https://dbpedia.org/page/Baalbek-Hermel_Govern...</td>\n",
       "      <td>Impact Open Data</td>\n",
       "      <td>http://linked.aub.edu.lb/CODEC/Lebanon/Dataset...</td>\n",
       "      <td>1</td>\n",
       "    </tr>\n",
       "    <tr>\n",
       "      <th>169</th>\n",
       "      <td>1</td>\n",
       "      <td>1</td>\n",
       "      <td>1</td>\n",
       "      <td>0</td>\n",
       "      <td>0</td>\n",
       "      <td>Barja</td>\n",
       "      <td>http://linked.aub.edu.lb/CODEC/Lebanon/observa...</td>\n",
       "      <td>0</td>\n",
       "      <td>3</td>\n",
       "      <td>0</td>\n",
       "      <td>14</td>\n",
       "      <td>0</td>\n",
       "      <td>4</td>\n",
       "      <td>https://impact.cib.gov.lb/home#open_data_section</td>\n",
       "      <td>0</td>\n",
       "      <td>1</td>\n",
       "      <td>https://dbpedia.org/page/Mount_Lebanon_Governo...</td>\n",
       "      <td>Impact Open Data</td>\n",
       "      <td>http://linked.aub.edu.lb/CODEC/Lebanon/Dataset...</td>\n",
       "      <td>0</td>\n",
       "    </tr>\n",
       "    <tr>\n",
       "      <th>171</th>\n",
       "      <td>0</td>\n",
       "      <td>0</td>\n",
       "      <td>1</td>\n",
       "      <td>2</td>\n",
       "      <td>1</td>\n",
       "      <td>Barr Elias</td>\n",
       "      <td>http://linked.aub.edu.lb/CODEC/Lebanon/observa...</td>\n",
       "      <td>0</td>\n",
       "      <td>4</td>\n",
       "      <td>1</td>\n",
       "      <td>18</td>\n",
       "      <td>2</td>\n",
       "      <td>4</td>\n",
       "      <td>https://impact.cib.gov.lb/home#open_data_section</td>\n",
       "      <td>0</td>\n",
       "      <td>1</td>\n",
       "      <td>http://dbpedia.org/resource/ZahlÃ©_District</td>\n",
       "      <td>Impact Open Data</td>\n",
       "      <td>http://linked.aub.edu.lb/CODEC/Lebanon/Dataset...</td>\n",
       "      <td>0</td>\n",
       "    </tr>\n",
       "    <tr>\n",
       "      <th>210</th>\n",
       "      <td>0</td>\n",
       "      <td>0</td>\n",
       "      <td>1</td>\n",
       "      <td>0</td>\n",
       "      <td>1</td>\n",
       "      <td>Beit El-Kekko</td>\n",
       "      <td>http://linked.aub.edu.lb/CODEC/Lebanon/observa...</td>\n",
       "      <td>0</td>\n",
       "      <td>1</td>\n",
       "      <td>1</td>\n",
       "      <td>10</td>\n",
       "      <td>1</td>\n",
       "      <td>1</td>\n",
       "      <td>https://impact.cib.gov.lb/home#open_data_section</td>\n",
       "      <td>0</td>\n",
       "      <td>1</td>\n",
       "      <td>http://dbpedia.org/resource/Matn_District</td>\n",
       "      <td>Impact Open Data</td>\n",
       "      <td>http://linked.aub.edu.lb/CODEC/Lebanon/Dataset...</td>\n",
       "      <td>1</td>\n",
       "    </tr>\n",
       "    <tr>\n",
       "      <th>225</th>\n",
       "      <td>1</td>\n",
       "      <td>0</td>\n",
       "      <td>1</td>\n",
       "      <td>2</td>\n",
       "      <td>1</td>\n",
       "      <td>Bent Jbeil</td>\n",
       "      <td>http://linked.aub.edu.lb/CODEC/Lebanon/observa...</td>\n",
       "      <td>1</td>\n",
       "      <td>3</td>\n",
       "      <td>1</td>\n",
       "      <td>10</td>\n",
       "      <td>1</td>\n",
       "      <td>4</td>\n",
       "      <td>https://impact.cib.gov.lb/home#open_data_section</td>\n",
       "      <td>0</td>\n",
       "      <td>1</td>\n",
       "      <td>http://dbpedia.org/resource/Bint_Jbeil_District</td>\n",
       "      <td>Impact Open Data</td>\n",
       "      <td>http://linked.aub.edu.lb/CODEC/Lebanon/Dataset...</td>\n",
       "      <td>1</td>\n",
       "    </tr>\n",
       "    <tr>\n",
       "      <th>278</th>\n",
       "      <td>1</td>\n",
       "      <td>0</td>\n",
       "      <td>1</td>\n",
       "      <td>2</td>\n",
       "      <td>1</td>\n",
       "      <td>Bourj El-Brajneh</td>\n",
       "      <td>http://linked.aub.edu.lb/CODEC/Lebanon/observa...</td>\n",
       "      <td>2</td>\n",
       "      <td>4</td>\n",
       "      <td>1</td>\n",
       "      <td>42</td>\n",
       "      <td>1</td>\n",
       "      <td>3</td>\n",
       "      <td>https://impact.cib.gov.lb/home#open_data_section</td>\n",
       "      <td>0</td>\n",
       "      <td>1</td>\n",
       "      <td>http://dbpedia.org/resource/Baabda_District</td>\n",
       "      <td>Impact Open Data</td>\n",
       "      <td>http://linked.aub.edu.lb/CODEC/Lebanon/Dataset...</td>\n",
       "      <td>2</td>\n",
       "    </tr>\n",
       "    <tr>\n",
       "      <th>300</th>\n",
       "      <td>0</td>\n",
       "      <td>0</td>\n",
       "      <td>1</td>\n",
       "      <td>2</td>\n",
       "      <td>1</td>\n",
       "      <td>Bsalim</td>\n",
       "      <td>http://linked.aub.edu.lb/CODEC/Lebanon/observa...</td>\n",
       "      <td>0</td>\n",
       "      <td>0</td>\n",
       "      <td>1</td>\n",
       "      <td>10</td>\n",
       "      <td>2</td>\n",
       "      <td>0</td>\n",
       "      <td>https://impact.cib.gov.lb/home#open_data_section</td>\n",
       "      <td>0</td>\n",
       "      <td>1</td>\n",
       "      <td>http://dbpedia.org/resource/Matn_District</td>\n",
       "      <td>Impact Open Data</td>\n",
       "      <td>http://linked.aub.edu.lb/CODEC/Lebanon/Dataset...</td>\n",
       "      <td>0</td>\n",
       "    </tr>\n",
       "    <tr>\n",
       "      <th>342</th>\n",
       "      <td>1</td>\n",
       "      <td>1</td>\n",
       "      <td>1</td>\n",
       "      <td>1</td>\n",
       "      <td>1</td>\n",
       "      <td>Chhim</td>\n",
       "      <td>http://linked.aub.edu.lb/CODEC/Lebanon/observa...</td>\n",
       "      <td>1</td>\n",
       "      <td>2</td>\n",
       "      <td>0</td>\n",
       "      <td>15</td>\n",
       "      <td>2</td>\n",
       "      <td>1</td>\n",
       "      <td>https://impact.cib.gov.lb/home#open_data_section</td>\n",
       "      <td>0</td>\n",
       "      <td>1</td>\n",
       "      <td>https://dbpedia.org/page/Mount_Lebanon_Governo...</td>\n",
       "      <td>Impact Open Data</td>\n",
       "      <td>http://linked.aub.edu.lb/CODEC/Lebanon/Dataset...</td>\n",
       "      <td>0</td>\n",
       "    </tr>\n",
       "    <tr>\n",
       "      <th>348</th>\n",
       "      <td>1</td>\n",
       "      <td>1</td>\n",
       "      <td>1</td>\n",
       "      <td>1</td>\n",
       "      <td>1</td>\n",
       "      <td>Chiyah</td>\n",
       "      <td>http://linked.aub.edu.lb/CODEC/Lebanon/observa...</td>\n",
       "      <td>1</td>\n",
       "      <td>2</td>\n",
       "      <td>0</td>\n",
       "      <td>19</td>\n",
       "      <td>1</td>\n",
       "      <td>6</td>\n",
       "      <td>https://impact.cib.gov.lb/home#open_data_section</td>\n",
       "      <td>0</td>\n",
       "      <td>1</td>\n",
       "      <td>http://dbpedia.org/resource/Baabda_District</td>\n",
       "      <td>Impact Open Data</td>\n",
       "      <td>http://linked.aub.edu.lb/CODEC/Lebanon/Dataset...</td>\n",
       "      <td>1</td>\n",
       "    </tr>\n",
       "    <tr>\n",
       "      <th>355</th>\n",
       "      <td>0</td>\n",
       "      <td>1</td>\n",
       "      <td>1</td>\n",
       "      <td>0</td>\n",
       "      <td>1</td>\n",
       "      <td>Choueifat El-Aamrousiyeh</td>\n",
       "      <td>http://linked.aub.edu.lb/CODEC/Lebanon/observa...</td>\n",
       "      <td>0</td>\n",
       "      <td>5</td>\n",
       "      <td>0</td>\n",
       "      <td>15</td>\n",
       "      <td>1</td>\n",
       "      <td>5</td>\n",
       "      <td>https://impact.cib.gov.lb/home#open_data_section</td>\n",
       "      <td>0</td>\n",
       "      <td>1</td>\n",
       "      <td>http://dbpedia.org/resource/Aley_District</td>\n",
       "      <td>Impact Open Data</td>\n",
       "      <td>http://linked.aub.edu.lb/CODEC/Lebanon/Dataset...</td>\n",
       "      <td>1</td>\n",
       "    </tr>\n",
       "    <tr>\n",
       "      <th>421</th>\n",
       "      <td>0</td>\n",
       "      <td>0</td>\n",
       "      <td>1</td>\n",
       "      <td>2</td>\n",
       "      <td>1</td>\n",
       "      <td>Douris</td>\n",
       "      <td>http://linked.aub.edu.lb/CODEC/Lebanon/observa...</td>\n",
       "      <td>0</td>\n",
       "      <td>1</td>\n",
       "      <td>1</td>\n",
       "      <td>10</td>\n",
       "      <td>2</td>\n",
       "      <td>0</td>\n",
       "      <td>https://impact.cib.gov.lb/home#open_data_section</td>\n",
       "      <td>0</td>\n",
       "      <td>1</td>\n",
       "      <td>https://dbpedia.org/page/Baalbek-Hermel_Govern...</td>\n",
       "      <td>Impact Open Data</td>\n",
       "      <td>http://linked.aub.edu.lb/CODEC/Lebanon/Dataset...</td>\n",
       "      <td>0</td>\n",
       "    </tr>\n",
       "    <tr>\n",
       "      <th>439</th>\n",
       "      <td>1</td>\n",
       "      <td>0</td>\n",
       "      <td>1</td>\n",
       "      <td>2</td>\n",
       "      <td>1</td>\n",
       "      <td>Fardis Hasbaiya</td>\n",
       "      <td>http://linked.aub.edu.lb/CODEC/Lebanon/observa...</td>\n",
       "      <td>2</td>\n",
       "      <td>10</td>\n",
       "      <td>1</td>\n",
       "      <td>10</td>\n",
       "      <td>2</td>\n",
       "      <td>1</td>\n",
       "      <td>https://impact.cib.gov.lb/home#open_data_section</td>\n",
       "      <td>0</td>\n",
       "      <td>1</td>\n",
       "      <td>http://dbpedia.org/resource/Hasbaya_District</td>\n",
       "      <td>Impact Open Data</td>\n",
       "      <td>http://linked.aub.edu.lb/CODEC/Lebanon/Dataset...</td>\n",
       "      <td>10</td>\n",
       "    </tr>\n",
       "    <tr>\n",
       "      <th>456</th>\n",
       "      <td>0</td>\n",
       "      <td>1</td>\n",
       "      <td>1</td>\n",
       "      <td>1</td>\n",
       "      <td>1</td>\n",
       "      <td>Furn Ech-Chebbak</td>\n",
       "      <td>http://linked.aub.edu.lb/CODEC/Lebanon/observa...</td>\n",
       "      <td>0</td>\n",
       "      <td>6</td>\n",
       "      <td>0</td>\n",
       "      <td>19</td>\n",
       "      <td>1</td>\n",
       "      <td>4</td>\n",
       "      <td>https://impact.cib.gov.lb/home#open_data_section</td>\n",
       "      <td>0</td>\n",
       "      <td>1</td>\n",
       "      <td>http://dbpedia.org/resource/Baabda_District</td>\n",
       "      <td>Impact Open Data</td>\n",
       "      <td>http://linked.aub.edu.lb/CODEC/Lebanon/Dataset...</td>\n",
       "      <td>0</td>\n",
       "    </tr>\n",
       "    <tr>\n",
       "      <th>465</th>\n",
       "      <td>0</td>\n",
       "      <td>1</td>\n",
       "      <td>1</td>\n",
       "      <td>1</td>\n",
       "      <td>0</td>\n",
       "      <td>Ghaziyeh</td>\n",
       "      <td>http://linked.aub.edu.lb/CODEC/Lebanon/observa...</td>\n",
       "      <td>0</td>\n",
       "      <td>4</td>\n",
       "      <td>0</td>\n",
       "      <td>10</td>\n",
       "      <td>0</td>\n",
       "      <td>2</td>\n",
       "      <td>https://impact.cib.gov.lb/home#open_data_section</td>\n",
       "      <td>0</td>\n",
       "      <td>1</td>\n",
       "      <td>http://dbpedia.org/resource/Sidon_District</td>\n",
       "      <td>Impact Open Data</td>\n",
       "      <td>http://linked.aub.edu.lb/CODEC/Lebanon/Dataset...</td>\n",
       "      <td>1</td>\n",
       "    </tr>\n",
       "    <tr>\n",
       "      <th>472</th>\n",
       "      <td>1</td>\n",
       "      <td>0</td>\n",
       "      <td>1</td>\n",
       "      <td>2</td>\n",
       "      <td>1</td>\n",
       "      <td>Ghobairi</td>\n",
       "      <td>http://linked.aub.edu.lb/CODEC/Lebanon/observa...</td>\n",
       "      <td>4</td>\n",
       "      <td>8</td>\n",
       "      <td>1</td>\n",
       "      <td>31</td>\n",
       "      <td>1</td>\n",
       "      <td>7</td>\n",
       "      <td>https://impact.cib.gov.lb/home#open_data_section</td>\n",
       "      <td>0</td>\n",
       "      <td>1</td>\n",
       "      <td>http://dbpedia.org/resource/Baabda_District</td>\n",
       "      <td>Impact Open Data</td>\n",
       "      <td>http://linked.aub.edu.lb/CODEC/Lebanon/Dataset...</td>\n",
       "      <td>18</td>\n",
       "    </tr>\n",
       "    <tr>\n",
       "      <th>479</th>\n",
       "      <td>1</td>\n",
       "      <td>0</td>\n",
       "      <td>1</td>\n",
       "      <td>2</td>\n",
       "      <td>0</td>\n",
       "      <td>Hadath-Sbeineh</td>\n",
       "      <td>http://linked.aub.edu.lb/CODEC/Lebanon/observa...</td>\n",
       "      <td>0</td>\n",
       "      <td>1</td>\n",
       "      <td>1</td>\n",
       "      <td>20</td>\n",
       "      <td>0</td>\n",
       "      <td>1</td>\n",
       "      <td>https://impact.cib.gov.lb/home#open_data_section</td>\n",
       "      <td>0</td>\n",
       "      <td>1</td>\n",
       "      <td>http://dbpedia.org/resource/Baabda_District</td>\n",
       "      <td>Impact Open Data</td>\n",
       "      <td>http://linked.aub.edu.lb/CODEC/Lebanon/Dataset...</td>\n",
       "      <td>1</td>\n",
       "    </tr>\n",
       "    <tr>\n",
       "      <th>497</th>\n",
       "      <td>0</td>\n",
       "      <td>1</td>\n",
       "      <td>1</td>\n",
       "      <td>1</td>\n",
       "      <td>0</td>\n",
       "      <td>Haouch Hala</td>\n",
       "      <td>http://linked.aub.edu.lb/CODEC/Lebanon/observa...</td>\n",
       "      <td>0</td>\n",
       "      <td>3</td>\n",
       "      <td>0</td>\n",
       "      <td>10</td>\n",
       "      <td>0</td>\n",
       "      <td>1</td>\n",
       "      <td>https://impact.cib.gov.lb/home#open_data_section</td>\n",
       "      <td>0</td>\n",
       "      <td>1</td>\n",
       "      <td>http://dbpedia.org/resource/ZahlÃ©_District</td>\n",
       "      <td>Impact Open Data</td>\n",
       "      <td>http://linked.aub.edu.lb/CODEC/Lebanon/Dataset...</td>\n",
       "      <td>1</td>\n",
       "    </tr>\n",
       "    <tr>\n",
       "      <th>505</th>\n",
       "      <td>1</td>\n",
       "      <td>1</td>\n",
       "      <td>1</td>\n",
       "      <td>2</td>\n",
       "      <td>1</td>\n",
       "      <td>Haret Hreik</td>\n",
       "      <td>http://linked.aub.edu.lb/CODEC/Lebanon/observa...</td>\n",
       "      <td>0</td>\n",
       "      <td>19</td>\n",
       "      <td>0</td>\n",
       "      <td>40</td>\n",
       "      <td>2</td>\n",
       "      <td>12</td>\n",
       "      <td>https://impact.cib.gov.lb/home#open_data_section</td>\n",
       "      <td>0</td>\n",
       "      <td>1</td>\n",
       "      <td>http://dbpedia.org/resource/Baabda_District</td>\n",
       "      <td>Impact Open Data</td>\n",
       "      <td>http://linked.aub.edu.lb/CODEC/Lebanon/Dataset...</td>\n",
       "      <td>4</td>\n",
       "    </tr>\n",
       "    <tr>\n",
       "      <th>507</th>\n",
       "      <td>1</td>\n",
       "      <td>1</td>\n",
       "      <td>1</td>\n",
       "      <td>0</td>\n",
       "      <td>0</td>\n",
       "      <td>Haret Saida</td>\n",
       "      <td>http://linked.aub.edu.lb/CODEC/Lebanon/observa...</td>\n",
       "      <td>2</td>\n",
       "      <td>2</td>\n",
       "      <td>0</td>\n",
       "      <td>14</td>\n",
       "      <td>0</td>\n",
       "      <td>0</td>\n",
       "      <td>https://impact.cib.gov.lb/home#open_data_section</td>\n",
       "      <td>0</td>\n",
       "      <td>1</td>\n",
       "      <td>http://dbpedia.org/resource/Sidon_District</td>\n",
       "      <td>Impact Open Data</td>\n",
       "      <td>http://linked.aub.edu.lb/CODEC/Lebanon/Dataset...</td>\n",
       "      <td>1</td>\n",
       "    </tr>\n",
       "    <tr>\n",
       "      <th>531</th>\n",
       "      <td>1</td>\n",
       "      <td>0</td>\n",
       "      <td>1</td>\n",
       "      <td>3</td>\n",
       "      <td>1</td>\n",
       "      <td>Hermel</td>\n",
       "      <td>http://linked.aub.edu.lb/CODEC/Lebanon/observa...</td>\n",
       "      <td>2</td>\n",
       "      <td>4</td>\n",
       "      <td>1</td>\n",
       "      <td>18</td>\n",
       "      <td>2</td>\n",
       "      <td>1</td>\n",
       "      <td>https://impact.cib.gov.lb/home#open_data_section</td>\n",
       "      <td>0</td>\n",
       "      <td>1</td>\n",
       "      <td>http://dbpedia.org/resource/Hermel_District</td>\n",
       "      <td>Impact Open Data</td>\n",
       "      <td>http://linked.aub.edu.lb/CODEC/Lebanon/Dataset...</td>\n",
       "      <td>1</td>\n",
       "    </tr>\n",
       "    <tr>\n",
       "      <th>566</th>\n",
       "      <td>0</td>\n",
       "      <td>1</td>\n",
       "      <td>1</td>\n",
       "      <td>2</td>\n",
       "      <td>0</td>\n",
       "      <td>Jall Ed-Dib</td>\n",
       "      <td>http://linked.aub.edu.lb/CODEC/Lebanon/observa...</td>\n",
       "      <td>0</td>\n",
       "      <td>1</td>\n",
       "      <td>0</td>\n",
       "      <td>12</td>\n",
       "      <td>0</td>\n",
       "      <td>2</td>\n",
       "      <td>https://impact.cib.gov.lb/home#open_data_section</td>\n",
       "      <td>0</td>\n",
       "      <td>1</td>\n",
       "      <td>http://dbpedia.org/resource/Matn_District</td>\n",
       "      <td>Impact Open Data</td>\n",
       "      <td>http://linked.aub.edu.lb/CODEC/Lebanon/Dataset...</td>\n",
       "      <td>2</td>\n",
       "    </tr>\n",
       "    <tr>\n",
       "      <th>574</th>\n",
       "      <td>1</td>\n",
       "      <td>0</td>\n",
       "      <td>1</td>\n",
       "      <td>2</td>\n",
       "      <td>1</td>\n",
       "      <td>Jbeil</td>\n",
       "      <td>http://linked.aub.edu.lb/CODEC/Lebanon/observa...</td>\n",
       "      <td>5</td>\n",
       "      <td>7</td>\n",
       "      <td>1</td>\n",
       "      <td>45</td>\n",
       "      <td>1</td>\n",
       "      <td>4</td>\n",
       "      <td>https://impact.cib.gov.lb/home#open_data_section</td>\n",
       "      <td>0</td>\n",
       "      <td>1</td>\n",
       "      <td>http://dbpedia.org/resource/Byblos_District</td>\n",
       "      <td>Impact Open Data</td>\n",
       "      <td>http://linked.aub.edu.lb/CODEC/Lebanon/Dataset...</td>\n",
       "      <td>6</td>\n",
       "    </tr>\n",
       "    <tr>\n",
       "      <th>697</th>\n",
       "      <td>0</td>\n",
       "      <td>1</td>\n",
       "      <td>1</td>\n",
       "      <td>1</td>\n",
       "      <td>1</td>\n",
       "      <td>Khreibet Baabda</td>\n",
       "      <td>http://linked.aub.edu.lb/CODEC/Lebanon/observa...</td>\n",
       "      <td>0</td>\n",
       "      <td>6</td>\n",
       "      <td>0</td>\n",
       "      <td>10</td>\n",
       "      <td>1</td>\n",
       "      <td>1</td>\n",
       "      <td>https://impact.cib.gov.lb/home#open_data_section</td>\n",
       "      <td>0</td>\n",
       "      <td>1</td>\n",
       "      <td>http://dbpedia.org/resource/Baabda_District</td>\n",
       "      <td>Impact Open Data</td>\n",
       "      <td>http://linked.aub.edu.lb/CODEC/Lebanon/Dataset...</td>\n",
       "      <td>0</td>\n",
       "    </tr>\n",
       "    <tr>\n",
       "      <th>819</th>\n",
       "      <td>1</td>\n",
       "      <td>0</td>\n",
       "      <td>1</td>\n",
       "      <td>2</td>\n",
       "      <td>1</td>\n",
       "      <td>Minie</td>\n",
       "      <td>http://linked.aub.edu.lb/CODEC/Lebanon/observa...</td>\n",
       "      <td>1</td>\n",
       "      <td>5</td>\n",
       "      <td>1</td>\n",
       "      <td>22</td>\n",
       "      <td>3</td>\n",
       "      <td>1</td>\n",
       "      <td>https://impact.cib.gov.lb/home#open_data_section</td>\n",
       "      <td>0</td>\n",
       "      <td>1</td>\n",
       "      <td>http://dbpedia.org/resource/MiniyehâDanniyeh...</td>\n",
       "      <td>Impact Open Data</td>\n",
       "      <td>http://linked.aub.edu.lb/CODEC/Lebanon/Dataset...</td>\n",
       "      <td>3</td>\n",
       "    </tr>\n",
       "    <tr>\n",
       "      <th>848</th>\n",
       "      <td>1</td>\n",
       "      <td>0</td>\n",
       "      <td>1</td>\n",
       "      <td>5</td>\n",
       "      <td>1</td>\n",
       "      <td>Nabatiyeh</td>\n",
       "      <td>http://linked.aub.edu.lb/CODEC/Lebanon/observa...</td>\n",
       "      <td>3</td>\n",
       "      <td>5</td>\n",
       "      <td>1</td>\n",
       "      <td>22</td>\n",
       "      <td>1</td>\n",
       "      <td>10</td>\n",
       "      <td>https://impact.cib.gov.lb/home#open_data_section</td>\n",
       "      <td>0</td>\n",
       "      <td>1</td>\n",
       "      <td>https://dbpedia.org/page/Nabatieh_Governorate</td>\n",
       "      <td>Impact Open Data</td>\n",
       "      <td>http://linked.aub.edu.lb/CODEC/Lebanon/Dataset...</td>\n",
       "      <td>3</td>\n",
       "    </tr>\n",
       "    <tr>\n",
       "      <th>897</th>\n",
       "      <td>0</td>\n",
       "      <td>1</td>\n",
       "      <td>1</td>\n",
       "      <td>1</td>\n",
       "      <td>1</td>\n",
       "      <td>Qalaa</td>\n",
       "      <td>http://linked.aub.edu.lb/CODEC/Lebanon/observa...</td>\n",
       "      <td>0</td>\n",
       "      <td>3</td>\n",
       "      <td>0</td>\n",
       "      <td>10</td>\n",
       "      <td>1</td>\n",
       "      <td>2</td>\n",
       "      <td>https://impact.cib.gov.lb/home#open_data_section</td>\n",
       "      <td>1</td>\n",
       "      <td>0</td>\n",
       "      <td>http://dbpedia.org/resource/Baabda_District</td>\n",
       "      <td>Impact Open Data</td>\n",
       "      <td>http://linked.aub.edu.lb/CODEC/Lebanon/Dataset...</td>\n",
       "      <td>0</td>\n",
       "    </tr>\n",
       "    <tr>\n",
       "      <th>964</th>\n",
       "      <td>1</td>\n",
       "      <td>1</td>\n",
       "      <td>1</td>\n",
       "      <td>2</td>\n",
       "      <td>0</td>\n",
       "      <td>Ras Masqa</td>\n",
       "      <td>http://linked.aub.edu.lb/CODEC/Lebanon/observa...</td>\n",
       "      <td>2</td>\n",
       "      <td>1</td>\n",
       "      <td>0</td>\n",
       "      <td>10</td>\n",
       "      <td>0</td>\n",
       "      <td>0</td>\n",
       "      <td>https://impact.cib.gov.lb/home#open_data_section</td>\n",
       "      <td>0</td>\n",
       "      <td>1</td>\n",
       "      <td>https://dbpedia.org/page/North_Governorate</td>\n",
       "      <td>Impact Open Data</td>\n",
       "      <td>http://linked.aub.edu.lb/CODEC/Lebanon/Dataset...</td>\n",
       "      <td>0</td>\n",
       "    </tr>\n",
       "    <tr>\n",
       "      <th>987</th>\n",
       "      <td>1</td>\n",
       "      <td>1</td>\n",
       "      <td>1</td>\n",
       "      <td>0</td>\n",
       "      <td>0</td>\n",
       "      <td>Saadnayel</td>\n",
       "      <td>http://linked.aub.edu.lb/CODEC/Lebanon/observa...</td>\n",
       "      <td>4</td>\n",
       "      <td>4</td>\n",
       "      <td>0</td>\n",
       "      <td>10</td>\n",
       "      <td>0</td>\n",
       "      <td>0</td>\n",
       "      <td>https://impact.cib.gov.lb/home#open_data_section</td>\n",
       "      <td>0</td>\n",
       "      <td>1</td>\n",
       "      <td>http://dbpedia.org/resource/ZahlÃ©_District</td>\n",
       "      <td>Impact Open Data</td>\n",
       "      <td>http://linked.aub.edu.lb/CODEC/Lebanon/Dataset...</td>\n",
       "      <td>0</td>\n",
       "    </tr>\n",
       "    <tr>\n",
       "      <th>995</th>\n",
       "      <td>1</td>\n",
       "      <td>0</td>\n",
       "      <td>1</td>\n",
       "      <td>7</td>\n",
       "      <td>1</td>\n",
       "      <td>Saida</td>\n",
       "      <td>http://linked.aub.edu.lb/CODEC/Lebanon/observa...</td>\n",
       "      <td>7</td>\n",
       "      <td>21</td>\n",
       "      <td>1</td>\n",
       "      <td>35</td>\n",
       "      <td>7</td>\n",
       "      <td>5</td>\n",
       "      <td>https://impact.cib.gov.lb/home#open_data_section</td>\n",
       "      <td>0</td>\n",
       "      <td>1</td>\n",
       "      <td>http://dbpedia.org/resource/Sidon_District</td>\n",
       "      <td>Impact Open Data</td>\n",
       "      <td>http://linked.aub.edu.lb/CODEC/Lebanon/Dataset...</td>\n",
       "      <td>9</td>\n",
       "    </tr>\n",
       "    <tr>\n",
       "      <th>1022</th>\n",
       "      <td>0</td>\n",
       "      <td>1</td>\n",
       "      <td>1</td>\n",
       "      <td>1</td>\n",
       "      <td>0</td>\n",
       "      <td>Sibline</td>\n",
       "      <td>http://linked.aub.edu.lb/CODEC/Lebanon/observa...</td>\n",
       "      <td>0</td>\n",
       "      <td>0</td>\n",
       "      <td>0</td>\n",
       "      <td>12</td>\n",
       "      <td>0</td>\n",
       "      <td>0</td>\n",
       "      <td>https://impact.cib.gov.lb/home#open_data_section</td>\n",
       "      <td>0</td>\n",
       "      <td>1</td>\n",
       "      <td>https://dbpedia.org/page/Mount_Lebanon_Governo...</td>\n",
       "      <td>Impact Open Data</td>\n",
       "      <td>http://linked.aub.edu.lb/CODEC/Lebanon/Dataset...</td>\n",
       "      <td>0</td>\n",
       "    </tr>\n",
       "    <tr>\n",
       "      <th>1025</th>\n",
       "      <td>0</td>\n",
       "      <td>0</td>\n",
       "      <td>1</td>\n",
       "      <td>3</td>\n",
       "      <td>1</td>\n",
       "      <td>Sinn El-Fil</td>\n",
       "      <td>http://linked.aub.edu.lb/CODEC/Lebanon/observa...</td>\n",
       "      <td>0</td>\n",
       "      <td>3</td>\n",
       "      <td>1</td>\n",
       "      <td>25</td>\n",
       "      <td>2</td>\n",
       "      <td>2</td>\n",
       "      <td>https://impact.cib.gov.lb/home#open_data_section</td>\n",
       "      <td>0</td>\n",
       "      <td>1</td>\n",
       "      <td>http://dbpedia.org/resource/Matn_District</td>\n",
       "      <td>Impact Open Data</td>\n",
       "      <td>http://linked.aub.edu.lb/CODEC/Lebanon/Dataset...</td>\n",
       "      <td>1</td>\n",
       "    </tr>\n",
       "    <tr>\n",
       "      <th>1082</th>\n",
       "      <td>1</td>\n",
       "      <td>0</td>\n",
       "      <td>1</td>\n",
       "      <td>12</td>\n",
       "      <td>1</td>\n",
       "      <td>Trablous</td>\n",
       "      <td>http://linked.aub.edu.lb/CODEC/Lebanon/observa...</td>\n",
       "      <td>0</td>\n",
       "      <td>43</td>\n",
       "      <td>1</td>\n",
       "      <td>108</td>\n",
       "      <td>11</td>\n",
       "      <td>60</td>\n",
       "      <td>https://impact.cib.gov.lb/home#open_data_section</td>\n",
       "      <td>0</td>\n",
       "      <td>1</td>\n",
       "      <td>http://dbpedia.org/resource/Tripoli_District,_...</td>\n",
       "      <td>Impact Open Data</td>\n",
       "      <td>http://linked.aub.edu.lb/CODEC/Lebanon/Dataset...</td>\n",
       "      <td>11</td>\n",
       "    </tr>\n",
       "    <tr>\n",
       "      <th>1099</th>\n",
       "      <td>1</td>\n",
       "      <td>0</td>\n",
       "      <td>1</td>\n",
       "      <td>6</td>\n",
       "      <td>1</td>\n",
       "      <td>Zahleh El-Maallaqa</td>\n",
       "      <td>http://linked.aub.edu.lb/CODEC/Lebanon/observa...</td>\n",
       "      <td>5</td>\n",
       "      <td>15</td>\n",
       "      <td>1</td>\n",
       "      <td>32</td>\n",
       "      <td>4</td>\n",
       "      <td>8</td>\n",
       "      <td>https://impact.cib.gov.lb/home#open_data_section</td>\n",
       "      <td>0</td>\n",
       "      <td>1</td>\n",
       "      <td>http://dbpedia.org/resource/ZahlÃ©_District</td>\n",
       "      <td>Impact Open Data</td>\n",
       "      <td>http://linked.aub.edu.lb/CODEC/Lebanon/Dataset...</td>\n",
       "      <td>6</td>\n",
       "    </tr>\n",
       "    <tr>\n",
       "      <th>1104</th>\n",
       "      <td>0</td>\n",
       "      <td>1</td>\n",
       "      <td>1</td>\n",
       "      <td>2</td>\n",
       "      <td>0</td>\n",
       "      <td>Zalqa</td>\n",
       "      <td>http://linked.aub.edu.lb/CODEC/Lebanon/observa...</td>\n",
       "      <td>0</td>\n",
       "      <td>3</td>\n",
       "      <td>0</td>\n",
       "      <td>15</td>\n",
       "      <td>0</td>\n",
       "      <td>2</td>\n",
       "      <td>https://impact.cib.gov.lb/home#open_data_section</td>\n",
       "      <td>0</td>\n",
       "      <td>1</td>\n",
       "      <td>http://dbpedia.org/resource/Matn_District</td>\n",
       "      <td>Impact Open Data</td>\n",
       "      <td>http://linked.aub.edu.lb/CODEC/Lebanon/Dataset...</td>\n",
       "      <td>0</td>\n",
       "    </tr>\n",
       "    <tr>\n",
       "      <th>1114</th>\n",
       "      <td>0</td>\n",
       "      <td>0</td>\n",
       "      <td>1</td>\n",
       "      <td>3</td>\n",
       "      <td>0</td>\n",
       "      <td>Zgharta-Ehden</td>\n",
       "      <td>http://linked.aub.edu.lb/CODEC/Lebanon/observa...</td>\n",
       "      <td>0</td>\n",
       "      <td>6</td>\n",
       "      <td>1</td>\n",
       "      <td>11</td>\n",
       "      <td>0</td>\n",
       "      <td>3</td>\n",
       "      <td>https://impact.cib.gov.lb/home#open_data_section</td>\n",
       "      <td>0</td>\n",
       "      <td>1</td>\n",
       "      <td>http://dbpedia.org/resource/Zgharta_District</td>\n",
       "      <td>Impact Open Data</td>\n",
       "      <td>http://linked.aub.edu.lb/CODEC/Lebanon/Dataset...</td>\n",
       "      <td>0</td>\n",
       "    </tr>\n",
       "    <tr>\n",
       "      <th>1120</th>\n",
       "      <td>0</td>\n",
       "      <td>0</td>\n",
       "      <td>1</td>\n",
       "      <td>1</td>\n",
       "      <td>0</td>\n",
       "      <td>Zouk El-Kharab</td>\n",
       "      <td>http://linked.aub.edu.lb/CODEC/Lebanon/observa...</td>\n",
       "      <td>0</td>\n",
       "      <td>2</td>\n",
       "      <td>1</td>\n",
       "      <td>14</td>\n",
       "      <td>0</td>\n",
       "      <td>0</td>\n",
       "      <td>https://impact.cib.gov.lb/home#open_data_section</td>\n",
       "      <td>0</td>\n",
       "      <td>1</td>\n",
       "      <td>http://dbpedia.org/resource/Matn_District</td>\n",
       "      <td>Impact Open Data</td>\n",
       "      <td>http://linked.aub.edu.lb/CODEC/Lebanon/Dataset...</td>\n",
       "      <td>1</td>\n",
       "    </tr>\n",
       "    <tr>\n",
       "      <th>1121</th>\n",
       "      <td>0</td>\n",
       "      <td>1</td>\n",
       "      <td>1</td>\n",
       "      <td>0</td>\n",
       "      <td>1</td>\n",
       "      <td>Zouk Mkayel</td>\n",
       "      <td>http://linked.aub.edu.lb/CODEC/Lebanon/observa...</td>\n",
       "      <td>0</td>\n",
       "      <td>3</td>\n",
       "      <td>0</td>\n",
       "      <td>23</td>\n",
       "      <td>1</td>\n",
       "      <td>1</td>\n",
       "      <td>https://impact.cib.gov.lb/home#open_data_section</td>\n",
       "      <td>0</td>\n",
       "      <td>1</td>\n",
       "      <td>http://dbpedia.org/resource/Keserwan_District</td>\n",
       "      <td>Impact Open Data</td>\n",
       "      <td>http://linked.aub.edu.lb/CODEC/Lebanon/Dataset...</td>\n",
       "      <td>0</td>\n",
       "    </tr>\n",
       "  </tbody>\n",
       "</table>\n",
       "</div>"
      ],
      "text/plain": [
       "      Existence of nearby care centers - exists  \\\n",
       "7                                             1   \n",
       "40                                            1   \n",
       "72                                            0   \n",
       "95                                            0   \n",
       "111                                           0   \n",
       "120                                           1   \n",
       "136                                           1   \n",
       "147                                           1   \n",
       "169                                           1   \n",
       "171                                           0   \n",
       "210                                           0   \n",
       "225                                           1   \n",
       "278                                           1   \n",
       "300                                           0   \n",
       "342                                           1   \n",
       "348                                           1   \n",
       "355                                           0   \n",
       "421                                           0   \n",
       "439                                           1   \n",
       "456                                           0   \n",
       "465                                           0   \n",
       "472                                           1   \n",
       "479                                           1   \n",
       "497                                           0   \n",
       "505                                           1   \n",
       "507                                           1   \n",
       "531                                           1   \n",
       "566                                           0   \n",
       "574                                           1   \n",
       "697                                           0   \n",
       "819                                           1   \n",
       "848                                           1   \n",
       "897                                           0   \n",
       "964                                           1   \n",
       "987                                           1   \n",
       "995                                           1   \n",
       "1022                                          0   \n",
       "1025                                          0   \n",
       "1082                                          1   \n",
       "1099                                          1   \n",
       "1104                                          0   \n",
       "1114                                          0   \n",
       "1120                                          0   \n",
       "1121                                          0   \n",
       "\n",
       "      Existence of special needs care centers - does not exist  \\\n",
       "7                                                     0          \n",
       "40                                                    1          \n",
       "72                                                    1          \n",
       "95                                                    1          \n",
       "111                                                   1          \n",
       "120                                                   0          \n",
       "136                                                   0          \n",
       "147                                                   0          \n",
       "169                                                   1          \n",
       "171                                                   0          \n",
       "210                                                   0          \n",
       "225                                                   0          \n",
       "278                                                   0          \n",
       "300                                                   0          \n",
       "342                                                   1          \n",
       "348                                                   1          \n",
       "355                                                   1          \n",
       "421                                                   0          \n",
       "439                                                   0          \n",
       "456                                                   1          \n",
       "465                                                   1          \n",
       "472                                                   0          \n",
       "479                                                   0          \n",
       "497                                                   1          \n",
       "505                                                   1          \n",
       "507                                                   1          \n",
       "531                                                   0          \n",
       "566                                                   1          \n",
       "574                                                   0          \n",
       "697                                                   1          \n",
       "819                                                   0          \n",
       "848                                                   0          \n",
       "897                                                   1          \n",
       "964                                                   1          \n",
       "987                                                   1          \n",
       "995                                                   0          \n",
       "1022                                                  1          \n",
       "1025                                                  0          \n",
       "1082                                                  0          \n",
       "1099                                                  0          \n",
       "1104                                                  1          \n",
       "1114                                                  0          \n",
       "1120                                                  0          \n",
       "1121                                                  1          \n",
       "\n",
       "      Existence of health resources - exists  \\\n",
       "7                                          1   \n",
       "40                                         1   \n",
       "72                                         1   \n",
       "95                                         1   \n",
       "111                                        1   \n",
       "120                                        1   \n",
       "136                                        1   \n",
       "147                                        1   \n",
       "169                                        1   \n",
       "171                                        1   \n",
       "210                                        1   \n",
       "225                                        1   \n",
       "278                                        1   \n",
       "300                                        1   \n",
       "342                                        1   \n",
       "348                                        1   \n",
       "355                                        1   \n",
       "421                                        1   \n",
       "439                                        1   \n",
       "456                                        1   \n",
       "465                                        1   \n",
       "472                                        1   \n",
       "479                                        1   \n",
       "497                                        1   \n",
       "505                                        1   \n",
       "507                                        1   \n",
       "531                                        1   \n",
       "566                                        1   \n",
       "574                                        1   \n",
       "697                                        1   \n",
       "819                                        1   \n",
       "848                                        1   \n",
       "897                                        1   \n",
       "964                                        1   \n",
       "987                                        1   \n",
       "995                                        1   \n",
       "1022                                       1   \n",
       "1025                                       1   \n",
       "1082                                       1   \n",
       "1099                                       1   \n",
       "1104                                       1   \n",
       "1114                                       1   \n",
       "1120                                       1   \n",
       "1121                                       1   \n",
       "\n",
       "      Type and size of medical resources - Hospitals  \\\n",
       "7                                                  3   \n",
       "40                                                 2   \n",
       "72                                                 1   \n",
       "95                                                 1   \n",
       "111                                                4   \n",
       "120                                                2   \n",
       "136                                                1   \n",
       "147                                                5   \n",
       "169                                                0   \n",
       "171                                                2   \n",
       "210                                                0   \n",
       "225                                                2   \n",
       "278                                                2   \n",
       "300                                                2   \n",
       "342                                                1   \n",
       "348                                                1   \n",
       "355                                                0   \n",
       "421                                                2   \n",
       "439                                                2   \n",
       "456                                                1   \n",
       "465                                                1   \n",
       "472                                                2   \n",
       "479                                                2   \n",
       "497                                                1   \n",
       "505                                                2   \n",
       "507                                                0   \n",
       "531                                                3   \n",
       "566                                                2   \n",
       "574                                                2   \n",
       "697                                                1   \n",
       "819                                                2   \n",
       "848                                                5   \n",
       "897                                                1   \n",
       "964                                                2   \n",
       "987                                                0   \n",
       "995                                                7   \n",
       "1022                                               1   \n",
       "1025                                               3   \n",
       "1082                                              12   \n",
       "1099                                               6   \n",
       "1104                                               2   \n",
       "1114                                               3   \n",
       "1120                                               1   \n",
       "1121                                               0   \n",
       "\n",
       "      Existence of a first aid center - exists                      Town  \\\n",
       "7                                            1                Aabbesiyyi   \n",
       "40                                           1                  Aain Ibl   \n",
       "72                                           0                   Aamchit   \n",
       "95                                           1                    Aarsal   \n",
       "111                                          1                  Aaytanit   \n",
       "120                                          1                Abou Qamha   \n",
       "136                                          1         Antelias-Naccache   \n",
       "147                                          1                   Baalbek   \n",
       "169                                          0                     Barja   \n",
       "171                                          1                Barr Elias   \n",
       "210                                          1             Beit El-Kekko   \n",
       "225                                          1                Bent Jbeil   \n",
       "278                                          1          Bourj El-Brajneh   \n",
       "300                                          1                    Bsalim   \n",
       "342                                          1                     Chhim   \n",
       "348                                          1                    Chiyah   \n",
       "355                                          1  Choueifat El-Aamrousiyeh   \n",
       "421                                          1                    Douris   \n",
       "439                                          1           Fardis Hasbaiya   \n",
       "456                                          1          Furn Ech-Chebbak   \n",
       "465                                          0                  Ghaziyeh   \n",
       "472                                          1                  Ghobairi   \n",
       "479                                          0            Hadath-Sbeineh   \n",
       "497                                          0               Haouch Hala   \n",
       "505                                          1               Haret Hreik   \n",
       "507                                          0               Haret Saida   \n",
       "531                                          1                    Hermel   \n",
       "566                                          0               Jall Ed-Dib   \n",
       "574                                          1                     Jbeil   \n",
       "697                                          1           Khreibet Baabda   \n",
       "819                                          1                     Minie   \n",
       "848                                          1                 Nabatiyeh   \n",
       "897                                          1                     Qalaa   \n",
       "964                                          0                 Ras Masqa   \n",
       "987                                          0                 Saadnayel   \n",
       "995                                          1                     Saida   \n",
       "1022                                         0                   Sibline   \n",
       "1025                                         1               Sinn El-Fil   \n",
       "1082                                         1                 Trablous    \n",
       "1099                                         1        Zahleh El-Maallaqa   \n",
       "1104                                         0                     Zalqa   \n",
       "1114                                         0             Zgharta-Ehden   \n",
       "1120                                         0            Zouk El-Kharab   \n",
       "1121                                         1               Zouk Mkayel   \n",
       "\n",
       "                                        Observation URI  \\\n",
       "7     http://linked.aub.edu.lb/CODEC/Lebanon/observa...   \n",
       "40    http://linked.aub.edu.lb/CODEC/Lebanon/observa...   \n",
       "72    http://linked.aub.edu.lb/CODEC/Lebanon/observa...   \n",
       "95    http://linked.aub.edu.lb/CODEC/Lebanon/observa...   \n",
       "111   http://linked.aub.edu.lb/CODEC/Lebanon/observa...   \n",
       "120   http://linked.aub.edu.lb/CODEC/Lebanon/observa...   \n",
       "136   http://linked.aub.edu.lb/CODEC/Lebanon/observa...   \n",
       "147   http://linked.aub.edu.lb/CODEC/Lebanon/observa...   \n",
       "169   http://linked.aub.edu.lb/CODEC/Lebanon/observa...   \n",
       "171   http://linked.aub.edu.lb/CODEC/Lebanon/observa...   \n",
       "210   http://linked.aub.edu.lb/CODEC/Lebanon/observa...   \n",
       "225   http://linked.aub.edu.lb/CODEC/Lebanon/observa...   \n",
       "278   http://linked.aub.edu.lb/CODEC/Lebanon/observa...   \n",
       "300   http://linked.aub.edu.lb/CODEC/Lebanon/observa...   \n",
       "342   http://linked.aub.edu.lb/CODEC/Lebanon/observa...   \n",
       "348   http://linked.aub.edu.lb/CODEC/Lebanon/observa...   \n",
       "355   http://linked.aub.edu.lb/CODEC/Lebanon/observa...   \n",
       "421   http://linked.aub.edu.lb/CODEC/Lebanon/observa...   \n",
       "439   http://linked.aub.edu.lb/CODEC/Lebanon/observa...   \n",
       "456   http://linked.aub.edu.lb/CODEC/Lebanon/observa...   \n",
       "465   http://linked.aub.edu.lb/CODEC/Lebanon/observa...   \n",
       "472   http://linked.aub.edu.lb/CODEC/Lebanon/observa...   \n",
       "479   http://linked.aub.edu.lb/CODEC/Lebanon/observa...   \n",
       "497   http://linked.aub.edu.lb/CODEC/Lebanon/observa...   \n",
       "505   http://linked.aub.edu.lb/CODEC/Lebanon/observa...   \n",
       "507   http://linked.aub.edu.lb/CODEC/Lebanon/observa...   \n",
       "531   http://linked.aub.edu.lb/CODEC/Lebanon/observa...   \n",
       "566   http://linked.aub.edu.lb/CODEC/Lebanon/observa...   \n",
       "574   http://linked.aub.edu.lb/CODEC/Lebanon/observa...   \n",
       "697   http://linked.aub.edu.lb/CODEC/Lebanon/observa...   \n",
       "819   http://linked.aub.edu.lb/CODEC/Lebanon/observa...   \n",
       "848   http://linked.aub.edu.lb/CODEC/Lebanon/observa...   \n",
       "897   http://linked.aub.edu.lb/CODEC/Lebanon/observa...   \n",
       "964   http://linked.aub.edu.lb/CODEC/Lebanon/observa...   \n",
       "987   http://linked.aub.edu.lb/CODEC/Lebanon/observa...   \n",
       "995   http://linked.aub.edu.lb/CODEC/Lebanon/observa...   \n",
       "1022  http://linked.aub.edu.lb/CODEC/Lebanon/observa...   \n",
       "1025  http://linked.aub.edu.lb/CODEC/Lebanon/observa...   \n",
       "1082  http://linked.aub.edu.lb/CODEC/Lebanon/observa...   \n",
       "1099  http://linked.aub.edu.lb/CODEC/Lebanon/observa...   \n",
       "1104  http://linked.aub.edu.lb/CODEC/Lebanon/observa...   \n",
       "1114  http://linked.aub.edu.lb/CODEC/Lebanon/observa...   \n",
       "1120  http://linked.aub.edu.lb/CODEC/Lebanon/observa...   \n",
       "1121  http://linked.aub.edu.lb/CODEC/Lebanon/observa...   \n",
       "\n",
       "      Total number of care centers  \\\n",
       "7                                1   \n",
       "40                               1   \n",
       "72                               0   \n",
       "95                               0   \n",
       "111                              0   \n",
       "120                              1   \n",
       "136                              5   \n",
       "147                              2   \n",
       "169                              0   \n",
       "171                              0   \n",
       "210                              0   \n",
       "225                              1   \n",
       "278                              2   \n",
       "300                              0   \n",
       "342                              1   \n",
       "348                              1   \n",
       "355                              0   \n",
       "421                              0   \n",
       "439                              2   \n",
       "456                              0   \n",
       "465                              0   \n",
       "472                              4   \n",
       "479                              0   \n",
       "497                              0   \n",
       "505                              0   \n",
       "507                              2   \n",
       "531                              2   \n",
       "566                              0   \n",
       "574                              5   \n",
       "697                              0   \n",
       "819                              1   \n",
       "848                              3   \n",
       "897                              0   \n",
       "964                              2   \n",
       "987                              4   \n",
       "995                              7   \n",
       "1022                             0   \n",
       "1025                             0   \n",
       "1082                             0   \n",
       "1099                             5   \n",
       "1104                             0   \n",
       "1114                             0   \n",
       "1120                             0   \n",
       "1121                             0   \n",
       "\n",
       "      Type and size of medical resources - Clinics  \\\n",
       "7                                                3   \n",
       "40                                               1   \n",
       "72                                               3   \n",
       "95                                               0   \n",
       "111                                              3   \n",
       "120                                              5   \n",
       "136                                              5   \n",
       "147                                              5   \n",
       "169                                              3   \n",
       "171                                              4   \n",
       "210                                              1   \n",
       "225                                              3   \n",
       "278                                              4   \n",
       "300                                              0   \n",
       "342                                              2   \n",
       "348                                              2   \n",
       "355                                              5   \n",
       "421                                              1   \n",
       "439                                             10   \n",
       "456                                              6   \n",
       "465                                              4   \n",
       "472                                              8   \n",
       "479                                              1   \n",
       "497                                              3   \n",
       "505                                             19   \n",
       "507                                              2   \n",
       "531                                              4   \n",
       "566                                              1   \n",
       "574                                              7   \n",
       "697                                              6   \n",
       "819                                              5   \n",
       "848                                              5   \n",
       "897                                              3   \n",
       "964                                              1   \n",
       "987                                              4   \n",
       "995                                             21   \n",
       "1022                                             0   \n",
       "1025                                             3   \n",
       "1082                                            43   \n",
       "1099                                            15   \n",
       "1104                                             3   \n",
       "1114                                             6   \n",
       "1120                                             2   \n",
       "1121                                             3   \n",
       "\n",
       "      Existence of special needs care centers - exists  \\\n",
       "7                                                    1   \n",
       "40                                                   0   \n",
       "72                                                   0   \n",
       "95                                                   0   \n",
       "111                                                  0   \n",
       "120                                                  1   \n",
       "136                                                  1   \n",
       "147                                                  1   \n",
       "169                                                  0   \n",
       "171                                                  1   \n",
       "210                                                  1   \n",
       "225                                                  1   \n",
       "278                                                  1   \n",
       "300                                                  1   \n",
       "342                                                  0   \n",
       "348                                                  0   \n",
       "355                                                  0   \n",
       "421                                                  1   \n",
       "439                                                  1   \n",
       "456                                                  0   \n",
       "465                                                  0   \n",
       "472                                                  1   \n",
       "479                                                  1   \n",
       "497                                                  0   \n",
       "505                                                  0   \n",
       "507                                                  0   \n",
       "531                                                  1   \n",
       "566                                                  0   \n",
       "574                                                  1   \n",
       "697                                                  0   \n",
       "819                                                  1   \n",
       "848                                                  1   \n",
       "897                                                  0   \n",
       "964                                                  0   \n",
       "987                                                  0   \n",
       "995                                                  1   \n",
       "1022                                                 0   \n",
       "1025                                                 1   \n",
       "1082                                                 1   \n",
       "1099                                                 1   \n",
       "1104                                                 0   \n",
       "1114                                                 1   \n",
       "1120                                                 1   \n",
       "1121                                                 0   \n",
       "\n",
       "      Type and size of medical resources - Pharmacies  \\\n",
       "7                                                  25   \n",
       "40                                                 15   \n",
       "72                                                 12   \n",
       "95                                                 13   \n",
       "111                                                15   \n",
       "120                                                20   \n",
       "136                                                15   \n",
       "147                                                48   \n",
       "169                                                14   \n",
       "171                                                18   \n",
       "210                                                10   \n",
       "225                                                10   \n",
       "278                                                42   \n",
       "300                                                10   \n",
       "342                                                15   \n",
       "348                                                19   \n",
       "355                                                15   \n",
       "421                                                10   \n",
       "439                                                10   \n",
       "456                                                19   \n",
       "465                                                10   \n",
       "472                                                31   \n",
       "479                                                20   \n",
       "497                                                10   \n",
       "505                                                40   \n",
       "507                                                14   \n",
       "531                                                18   \n",
       "566                                                12   \n",
       "574                                                45   \n",
       "697                                                10   \n",
       "819                                                22   \n",
       "848                                                22   \n",
       "897                                                10   \n",
       "964                                                10   \n",
       "987                                                10   \n",
       "995                                                35   \n",
       "1022                                               12   \n",
       "1025                                               25   \n",
       "1082                                              108   \n",
       "1099                                               32   \n",
       "1104                                               15   \n",
       "1114                                               11   \n",
       "1120                                               14   \n",
       "1121                                               23   \n",
       "\n",
       "      Total number of first aid centers  \\\n",
       "7                                     2   \n",
       "40                                    2   \n",
       "72                                    0   \n",
       "95                                    0   \n",
       "111                                   2   \n",
       "120                                   1   \n",
       "136                                   2   \n",
       "147                                   5   \n",
       "169                                   0   \n",
       "171                                   2   \n",
       "210                                   1   \n",
       "225                                   1   \n",
       "278                                   1   \n",
       "300                                   2   \n",
       "342                                   2   \n",
       "348                                   1   \n",
       "355                                   1   \n",
       "421                                   2   \n",
       "439                                   2   \n",
       "456                                   1   \n",
       "465                                   0   \n",
       "472                                   1   \n",
       "479                                   0   \n",
       "497                                   0   \n",
       "505                                   2   \n",
       "507                                   0   \n",
       "531                                   2   \n",
       "566                                   0   \n",
       "574                                   1   \n",
       "697                                   1   \n",
       "819                                   3   \n",
       "848                                   1   \n",
       "897                                   1   \n",
       "964                                   0   \n",
       "987                                   0   \n",
       "995                                   7   \n",
       "1022                                  0   \n",
       "1025                                  2   \n",
       "1082                                 11   \n",
       "1099                                  4   \n",
       "1104                                  0   \n",
       "1114                                  0   \n",
       "1120                                  0   \n",
       "1121                                  1   \n",
       "\n",
       "      Type and size of medical resources - Labs and Radiology   \\\n",
       "7                                                     4          \n",
       "40                                                    5          \n",
       "72                                                    0          \n",
       "95                                                    2          \n",
       "111                                                   2          \n",
       "120                                                   5          \n",
       "136                                                  10          \n",
       "147                                                   5          \n",
       "169                                                   4          \n",
       "171                                                   4          \n",
       "210                                                   1          \n",
       "225                                                   4          \n",
       "278                                                   3          \n",
       "300                                                   0          \n",
       "342                                                   1          \n",
       "348                                                   6          \n",
       "355                                                   5          \n",
       "421                                                   0          \n",
       "439                                                   1          \n",
       "456                                                   4          \n",
       "465                                                   2          \n",
       "472                                                   7          \n",
       "479                                                   1          \n",
       "497                                                   1          \n",
       "505                                                  12          \n",
       "507                                                   0          \n",
       "531                                                   1          \n",
       "566                                                   2          \n",
       "574                                                   4          \n",
       "697                                                   1          \n",
       "819                                                   1          \n",
       "848                                                  10          \n",
       "897                                                   2          \n",
       "964                                                   0          \n",
       "987                                                   0          \n",
       "995                                                   5          \n",
       "1022                                                  0          \n",
       "1025                                                  2          \n",
       "1082                                                 60          \n",
       "1099                                                  8          \n",
       "1104                                                  2          \n",
       "1114                                                  3          \n",
       "1120                                                  0          \n",
       "1121                                                  1          \n",
       "\n",
       "                                            references  \\\n",
       "7     https://impact.cib.gov.lb/home#open_data_section   \n",
       "40    https://impact.cib.gov.lb/home#open_data_section   \n",
       "72    https://impact.cib.gov.lb/home#open_data_section   \n",
       "95    https://impact.cib.gov.lb/home#open_data_section   \n",
       "111   https://impact.cib.gov.lb/home#open_data_section   \n",
       "120   https://impact.cib.gov.lb/home#open_data_section   \n",
       "136   https://impact.cib.gov.lb/home#open_data_section   \n",
       "147   https://impact.cib.gov.lb/home#open_data_section   \n",
       "169   https://impact.cib.gov.lb/home#open_data_section   \n",
       "171   https://impact.cib.gov.lb/home#open_data_section   \n",
       "210   https://impact.cib.gov.lb/home#open_data_section   \n",
       "225   https://impact.cib.gov.lb/home#open_data_section   \n",
       "278   https://impact.cib.gov.lb/home#open_data_section   \n",
       "300   https://impact.cib.gov.lb/home#open_data_section   \n",
       "342   https://impact.cib.gov.lb/home#open_data_section   \n",
       "348   https://impact.cib.gov.lb/home#open_data_section   \n",
       "355   https://impact.cib.gov.lb/home#open_data_section   \n",
       "421   https://impact.cib.gov.lb/home#open_data_section   \n",
       "439   https://impact.cib.gov.lb/home#open_data_section   \n",
       "456   https://impact.cib.gov.lb/home#open_data_section   \n",
       "465   https://impact.cib.gov.lb/home#open_data_section   \n",
       "472   https://impact.cib.gov.lb/home#open_data_section   \n",
       "479   https://impact.cib.gov.lb/home#open_data_section   \n",
       "497   https://impact.cib.gov.lb/home#open_data_section   \n",
       "505   https://impact.cib.gov.lb/home#open_data_section   \n",
       "507   https://impact.cib.gov.lb/home#open_data_section   \n",
       "531   https://impact.cib.gov.lb/home#open_data_section   \n",
       "566   https://impact.cib.gov.lb/home#open_data_section   \n",
       "574   https://impact.cib.gov.lb/home#open_data_section   \n",
       "697   https://impact.cib.gov.lb/home#open_data_section   \n",
       "819   https://impact.cib.gov.lb/home#open_data_section   \n",
       "848   https://impact.cib.gov.lb/home#open_data_section   \n",
       "897   https://impact.cib.gov.lb/home#open_data_section   \n",
       "964   https://impact.cib.gov.lb/home#open_data_section   \n",
       "987   https://impact.cib.gov.lb/home#open_data_section   \n",
       "995   https://impact.cib.gov.lb/home#open_data_section   \n",
       "1022  https://impact.cib.gov.lb/home#open_data_section   \n",
       "1025  https://impact.cib.gov.lb/home#open_data_section   \n",
       "1082  https://impact.cib.gov.lb/home#open_data_section   \n",
       "1099  https://impact.cib.gov.lb/home#open_data_section   \n",
       "1104  https://impact.cib.gov.lb/home#open_data_section   \n",
       "1114  https://impact.cib.gov.lb/home#open_data_section   \n",
       "1120  https://impact.cib.gov.lb/home#open_data_section   \n",
       "1121  https://impact.cib.gov.lb/home#open_data_section   \n",
       "\n",
       "      Percentage of towns with special needs indiciduals - Without special needs  \\\n",
       "7                                                     0                            \n",
       "40                                                    0                            \n",
       "72                                                    0                            \n",
       "95                                                    0                            \n",
       "111                                                   0                            \n",
       "120                                                   0                            \n",
       "136                                                   0                            \n",
       "147                                                   0                            \n",
       "169                                                   0                            \n",
       "171                                                   0                            \n",
       "210                                                   0                            \n",
       "225                                                   0                            \n",
       "278                                                   0                            \n",
       "300                                                   0                            \n",
       "342                                                   0                            \n",
       "348                                                   0                            \n",
       "355                                                   0                            \n",
       "421                                                   0                            \n",
       "439                                                   0                            \n",
       "456                                                   0                            \n",
       "465                                                   0                            \n",
       "472                                                   0                            \n",
       "479                                                   0                            \n",
       "497                                                   0                            \n",
       "505                                                   0                            \n",
       "507                                                   0                            \n",
       "531                                                   0                            \n",
       "566                                                   0                            \n",
       "574                                                   0                            \n",
       "697                                                   0                            \n",
       "819                                                   0                            \n",
       "848                                                   0                            \n",
       "897                                                   1                            \n",
       "964                                                   0                            \n",
       "987                                                   0                            \n",
       "995                                                   0                            \n",
       "1022                                                  0                            \n",
       "1025                                                  0                            \n",
       "1082                                                  0                            \n",
       "1099                                                  0                            \n",
       "1104                                                  0                            \n",
       "1114                                                  0                            \n",
       "1120                                                  0                            \n",
       "1121                                                  0                            \n",
       "\n",
       "      Percentage of towns with special needs indiciduals - With special needs  \\\n",
       "7                                                     1                         \n",
       "40                                                    1                         \n",
       "72                                                    1                         \n",
       "95                                                    1                         \n",
       "111                                                   1                         \n",
       "120                                                   1                         \n",
       "136                                                   1                         \n",
       "147                                                   1                         \n",
       "169                                                   1                         \n",
       "171                                                   1                         \n",
       "210                                                   1                         \n",
       "225                                                   1                         \n",
       "278                                                   1                         \n",
       "300                                                   1                         \n",
       "342                                                   1                         \n",
       "348                                                   1                         \n",
       "355                                                   1                         \n",
       "421                                                   1                         \n",
       "439                                                   1                         \n",
       "456                                                   1                         \n",
       "465                                                   1                         \n",
       "472                                                   1                         \n",
       "479                                                   1                         \n",
       "497                                                   1                         \n",
       "505                                                   1                         \n",
       "507                                                   1                         \n",
       "531                                                   1                         \n",
       "566                                                   1                         \n",
       "574                                                   1                         \n",
       "697                                                   1                         \n",
       "819                                                   1                         \n",
       "848                                                   1                         \n",
       "897                                                   0                         \n",
       "964                                                   1                         \n",
       "987                                                   1                         \n",
       "995                                                   1                         \n",
       "1022                                                  1                         \n",
       "1025                                                  1                         \n",
       "1082                                                  1                         \n",
       "1099                                                  1                         \n",
       "1104                                                  1                         \n",
       "1114                                                  1                         \n",
       "1120                                                  1                         \n",
       "1121                                                  1                         \n",
       "\n",
       "                                                refArea         publisher  \\\n",
       "7             http://dbpedia.org/resource/Tyre_District  Impact Open Data   \n",
       "40      http://dbpedia.org/resource/Bint_Jbeil_District  Impact Open Data   \n",
       "72          http://dbpedia.org/resource/Byblos_District  Impact Open Data   \n",
       "95    https://dbpedia.org/page/Baalbek-Hermel_Govern...  Impact Open Data   \n",
       "111   http://dbpedia.org/resource/Western_Beqaa_Dist...  Impact Open Data   \n",
       "120        http://dbpedia.org/resource/Hasbaya_District  Impact Open Data   \n",
       "136           http://dbpedia.org/resource/Matn_District  Impact Open Data   \n",
       "147   https://dbpedia.org/page/Baalbek-Hermel_Govern...  Impact Open Data   \n",
       "169   https://dbpedia.org/page/Mount_Lebanon_Governo...  Impact Open Data   \n",
       "171         http://dbpedia.org/resource/ZahlÃ©_District  Impact Open Data   \n",
       "210           http://dbpedia.org/resource/Matn_District  Impact Open Data   \n",
       "225     http://dbpedia.org/resource/Bint_Jbeil_District  Impact Open Data   \n",
       "278         http://dbpedia.org/resource/Baabda_District  Impact Open Data   \n",
       "300           http://dbpedia.org/resource/Matn_District  Impact Open Data   \n",
       "342   https://dbpedia.org/page/Mount_Lebanon_Governo...  Impact Open Data   \n",
       "348         http://dbpedia.org/resource/Baabda_District  Impact Open Data   \n",
       "355           http://dbpedia.org/resource/Aley_District  Impact Open Data   \n",
       "421   https://dbpedia.org/page/Baalbek-Hermel_Govern...  Impact Open Data   \n",
       "439        http://dbpedia.org/resource/Hasbaya_District  Impact Open Data   \n",
       "456         http://dbpedia.org/resource/Baabda_District  Impact Open Data   \n",
       "465          http://dbpedia.org/resource/Sidon_District  Impact Open Data   \n",
       "472         http://dbpedia.org/resource/Baabda_District  Impact Open Data   \n",
       "479         http://dbpedia.org/resource/Baabda_District  Impact Open Data   \n",
       "497         http://dbpedia.org/resource/ZahlÃ©_District  Impact Open Data   \n",
       "505         http://dbpedia.org/resource/Baabda_District  Impact Open Data   \n",
       "507          http://dbpedia.org/resource/Sidon_District  Impact Open Data   \n",
       "531         http://dbpedia.org/resource/Hermel_District  Impact Open Data   \n",
       "566           http://dbpedia.org/resource/Matn_District  Impact Open Data   \n",
       "574         http://dbpedia.org/resource/Byblos_District  Impact Open Data   \n",
       "697         http://dbpedia.org/resource/Baabda_District  Impact Open Data   \n",
       "819   http://dbpedia.org/resource/MiniyehâDanniyeh...  Impact Open Data   \n",
       "848       https://dbpedia.org/page/Nabatieh_Governorate  Impact Open Data   \n",
       "897         http://dbpedia.org/resource/Baabda_District  Impact Open Data   \n",
       "964          https://dbpedia.org/page/North_Governorate  Impact Open Data   \n",
       "987         http://dbpedia.org/resource/ZahlÃ©_District  Impact Open Data   \n",
       "995          http://dbpedia.org/resource/Sidon_District  Impact Open Data   \n",
       "1022  https://dbpedia.org/page/Mount_Lebanon_Governo...  Impact Open Data   \n",
       "1025          http://dbpedia.org/resource/Matn_District  Impact Open Data   \n",
       "1082  http://dbpedia.org/resource/Tripoli_District,_...  Impact Open Data   \n",
       "1099        http://dbpedia.org/resource/ZahlÃ©_District  Impact Open Data   \n",
       "1104          http://dbpedia.org/resource/Matn_District  Impact Open Data   \n",
       "1114       http://dbpedia.org/resource/Zgharta_District  Impact Open Data   \n",
       "1120          http://dbpedia.org/resource/Matn_District  Impact Open Data   \n",
       "1121      http://dbpedia.org/resource/Keserwan_District  Impact Open Data   \n",
       "\n",
       "                                                dataset  \\\n",
       "7     http://linked.aub.edu.lb/CODEC/Lebanon/Dataset...   \n",
       "40    http://linked.aub.edu.lb/CODEC/Lebanon/Dataset...   \n",
       "72    http://linked.aub.edu.lb/CODEC/Lebanon/Dataset...   \n",
       "95    http://linked.aub.edu.lb/CODEC/Lebanon/Dataset...   \n",
       "111   http://linked.aub.edu.lb/CODEC/Lebanon/Dataset...   \n",
       "120   http://linked.aub.edu.lb/CODEC/Lebanon/Dataset...   \n",
       "136   http://linked.aub.edu.lb/CODEC/Lebanon/Dataset...   \n",
       "147   http://linked.aub.edu.lb/CODEC/Lebanon/Dataset...   \n",
       "169   http://linked.aub.edu.lb/CODEC/Lebanon/Dataset...   \n",
       "171   http://linked.aub.edu.lb/CODEC/Lebanon/Dataset...   \n",
       "210   http://linked.aub.edu.lb/CODEC/Lebanon/Dataset...   \n",
       "225   http://linked.aub.edu.lb/CODEC/Lebanon/Dataset...   \n",
       "278   http://linked.aub.edu.lb/CODEC/Lebanon/Dataset...   \n",
       "300   http://linked.aub.edu.lb/CODEC/Lebanon/Dataset...   \n",
       "342   http://linked.aub.edu.lb/CODEC/Lebanon/Dataset...   \n",
       "348   http://linked.aub.edu.lb/CODEC/Lebanon/Dataset...   \n",
       "355   http://linked.aub.edu.lb/CODEC/Lebanon/Dataset...   \n",
       "421   http://linked.aub.edu.lb/CODEC/Lebanon/Dataset...   \n",
       "439   http://linked.aub.edu.lb/CODEC/Lebanon/Dataset...   \n",
       "456   http://linked.aub.edu.lb/CODEC/Lebanon/Dataset...   \n",
       "465   http://linked.aub.edu.lb/CODEC/Lebanon/Dataset...   \n",
       "472   http://linked.aub.edu.lb/CODEC/Lebanon/Dataset...   \n",
       "479   http://linked.aub.edu.lb/CODEC/Lebanon/Dataset...   \n",
       "497   http://linked.aub.edu.lb/CODEC/Lebanon/Dataset...   \n",
       "505   http://linked.aub.edu.lb/CODEC/Lebanon/Dataset...   \n",
       "507   http://linked.aub.edu.lb/CODEC/Lebanon/Dataset...   \n",
       "531   http://linked.aub.edu.lb/CODEC/Lebanon/Dataset...   \n",
       "566   http://linked.aub.edu.lb/CODEC/Lebanon/Dataset...   \n",
       "574   http://linked.aub.edu.lb/CODEC/Lebanon/Dataset...   \n",
       "697   http://linked.aub.edu.lb/CODEC/Lebanon/Dataset...   \n",
       "819   http://linked.aub.edu.lb/CODEC/Lebanon/Dataset...   \n",
       "848   http://linked.aub.edu.lb/CODEC/Lebanon/Dataset...   \n",
       "897   http://linked.aub.edu.lb/CODEC/Lebanon/Dataset...   \n",
       "964   http://linked.aub.edu.lb/CODEC/Lebanon/Dataset...   \n",
       "987   http://linked.aub.edu.lb/CODEC/Lebanon/Dataset...   \n",
       "995   http://linked.aub.edu.lb/CODEC/Lebanon/Dataset...   \n",
       "1022  http://linked.aub.edu.lb/CODEC/Lebanon/Dataset...   \n",
       "1025  http://linked.aub.edu.lb/CODEC/Lebanon/Dataset...   \n",
       "1082  http://linked.aub.edu.lb/CODEC/Lebanon/Dataset...   \n",
       "1099  http://linked.aub.edu.lb/CODEC/Lebanon/Dataset...   \n",
       "1104  http://linked.aub.edu.lb/CODEC/Lebanon/Dataset...   \n",
       "1114  http://linked.aub.edu.lb/CODEC/Lebanon/Dataset...   \n",
       "1120  http://linked.aub.edu.lb/CODEC/Lebanon/Dataset...   \n",
       "1121  http://linked.aub.edu.lb/CODEC/Lebanon/Dataset...   \n",
       "\n",
       "      Type and size of medical resources - Medical Centers  \n",
       "7                                                     5     \n",
       "40                                                    2     \n",
       "72                                                    0     \n",
       "95                                                    0     \n",
       "111                                                   1     \n",
       "120                                                   0     \n",
       "136                                                  10     \n",
       "147                                                   1     \n",
       "169                                                   0     \n",
       "171                                                   0     \n",
       "210                                                   1     \n",
       "225                                                   1     \n",
       "278                                                   2     \n",
       "300                                                   0     \n",
       "342                                                   0     \n",
       "348                                                   1     \n",
       "355                                                   1     \n",
       "421                                                   0     \n",
       "439                                                  10     \n",
       "456                                                   0     \n",
       "465                                                   1     \n",
       "472                                                  18     \n",
       "479                                                   1     \n",
       "497                                                   1     \n",
       "505                                                   4     \n",
       "507                                                   1     \n",
       "531                                                   1     \n",
       "566                                                   2     \n",
       "574                                                   6     \n",
       "697                                                   0     \n",
       "819                                                   3     \n",
       "848                                                   3     \n",
       "897                                                   0     \n",
       "964                                                   0     \n",
       "987                                                   0     \n",
       "995                                                   9     \n",
       "1022                                                  0     \n",
       "1025                                                  1     \n",
       "1082                                                 11     \n",
       "1099                                                  6     \n",
       "1104                                                  0     \n",
       "1114                                                  0     \n",
       "1120                                                  1     \n",
       "1121                                                  0     "
      ]
     },
     "execution_count": 381,
     "metadata": {},
     "output_type": "execute_result"
    }
   ],
   "source": [
    "pharmacy = df[df[\"Type and size of medical resources - Pharmacies\"]>=10]\n",
    "townWithPharmacy = pharmacy[\"Town\"]\n",
    "pharmacy"
   ]
  },
  {
   "cell_type": "code",
   "execution_count": 639,
   "id": "bd7c1c30-476f-4b7a-8b12-ec6615a7669d",
   "metadata": {},
   "outputs": [
    {
     "data": {
      "application/vnd.plotly.v1+json": {
       "config": {
        "plotlyServerURL": "https://plot.ly"
       },
       "data": [
        {
         "name": "Pharmacy Count",
         "text": [
          "Aabbesiyyi",
          "Aain Ibl",
          "Aamchit",
          "Aarsal",
          "Aaytanit",
          "Abou Qamha",
          "Antelias-Naccache",
          "Baalbek",
          "Barja",
          "Barr Elias",
          "Beit El-Kekko",
          "Bent Jbeil",
          "Bourj El-Brajneh",
          "Bsalim",
          "Chhim",
          "Chiyah",
          "Choueifat El-Aamrousiyeh",
          "Douris",
          "Fardis Hasbaiya",
          "Furn Ech-Chebbak",
          "Ghaziyeh",
          "Ghobairi",
          "Hadath-Sbeineh",
          "Haouch Hala",
          "Haret Hreik",
          "Haret Saida",
          "Hermel",
          "Jall Ed-Dib",
          "Jbeil",
          "Khreibet Baabda",
          "Minie",
          "Nabatiyeh",
          "Qalaa",
          "Ras Masqa",
          "Saadnayel",
          "Saida",
          "Sibline",
          "Sinn El-Fil",
          "Trablous ",
          "Zahleh El-Maallaqa",
          "Zalqa",
          "Zgharta-Ehden",
          "Zouk El-Kharab",
          "Zouk Mkayel"
         ],
         "type": "scatter",
         "x": [
          "Aabbesiyyi",
          "Aain Ibl",
          "Aamchit",
          "Aarsal",
          "Aaytanit",
          "Abou Qamha",
          "Antelias-Naccache",
          "Baalbek",
          "Barja",
          "Barr Elias",
          "Beit El-Kekko",
          "Bent Jbeil",
          "Bourj El-Brajneh",
          "Bsalim",
          "Chhim",
          "Chiyah",
          "Choueifat El-Aamrousiyeh",
          "Douris",
          "Fardis Hasbaiya",
          "Furn Ech-Chebbak",
          "Ghaziyeh",
          "Ghobairi",
          "Hadath-Sbeineh",
          "Haouch Hala",
          "Haret Hreik",
          "Haret Saida",
          "Hermel",
          "Jall Ed-Dib",
          "Jbeil",
          "Khreibet Baabda",
          "Minie",
          "Nabatiyeh",
          "Qalaa",
          "Ras Masqa",
          "Saadnayel",
          "Saida",
          "Sibline",
          "Sinn El-Fil",
          "Trablous ",
          "Zahleh El-Maallaqa",
          "Zalqa",
          "Zgharta-Ehden",
          "Zouk El-Kharab",
          "Zouk Mkayel"
         ],
         "y": [
          25,
          15,
          12,
          13,
          15,
          20,
          15,
          48,
          14,
          18,
          10,
          10,
          42,
          10,
          15,
          19,
          15,
          10,
          10,
          19,
          10,
          31,
          20,
          10,
          40,
          14,
          18,
          12,
          45,
          10,
          22,
          22,
          10,
          10,
          10,
          35,
          12,
          25,
          108,
          32,
          15,
          11,
          14,
          23
         ]
        }
       ],
       "layout": {
        "autosize": true,
        "showlegend": false,
        "template": {
         "data": {
          "bar": [
           {
            "error_x": {
             "color": "#2a3f5f"
            },
            "error_y": {
             "color": "#2a3f5f"
            },
            "marker": {
             "line": {
              "color": "#E5ECF6",
              "width": 0.5
             },
             "pattern": {
              "fillmode": "overlay",
              "size": 10,
              "solidity": 0.2
             }
            },
            "type": "bar"
           }
          ],
          "barpolar": [
           {
            "marker": {
             "line": {
              "color": "#E5ECF6",
              "width": 0.5
             },
             "pattern": {
              "fillmode": "overlay",
              "size": 10,
              "solidity": 0.2
             }
            },
            "type": "barpolar"
           }
          ],
          "carpet": [
           {
            "aaxis": {
             "endlinecolor": "#2a3f5f",
             "gridcolor": "white",
             "linecolor": "white",
             "minorgridcolor": "white",
             "startlinecolor": "#2a3f5f"
            },
            "baxis": {
             "endlinecolor": "#2a3f5f",
             "gridcolor": "white",
             "linecolor": "white",
             "minorgridcolor": "white",
             "startlinecolor": "#2a3f5f"
            },
            "type": "carpet"
           }
          ],
          "choropleth": [
           {
            "colorbar": {
             "outlinewidth": 0,
             "ticks": ""
            },
            "type": "choropleth"
           }
          ],
          "contour": [
           {
            "colorbar": {
             "outlinewidth": 0,
             "ticks": ""
            },
            "colorscale": [
             [
              0,
              "#0d0887"
             ],
             [
              0.1111111111111111,
              "#46039f"
             ],
             [
              0.2222222222222222,
              "#7201a8"
             ],
             [
              0.3333333333333333,
              "#9c179e"
             ],
             [
              0.4444444444444444,
              "#bd3786"
             ],
             [
              0.5555555555555556,
              "#d8576b"
             ],
             [
              0.6666666666666666,
              "#ed7953"
             ],
             [
              0.7777777777777778,
              "#fb9f3a"
             ],
             [
              0.8888888888888888,
              "#fdca26"
             ],
             [
              1,
              "#f0f921"
             ]
            ],
            "type": "contour"
           }
          ],
          "contourcarpet": [
           {
            "colorbar": {
             "outlinewidth": 0,
             "ticks": ""
            },
            "type": "contourcarpet"
           }
          ],
          "heatmap": [
           {
            "colorbar": {
             "outlinewidth": 0,
             "ticks": ""
            },
            "colorscale": [
             [
              0,
              "#0d0887"
             ],
             [
              0.1111111111111111,
              "#46039f"
             ],
             [
              0.2222222222222222,
              "#7201a8"
             ],
             [
              0.3333333333333333,
              "#9c179e"
             ],
             [
              0.4444444444444444,
              "#bd3786"
             ],
             [
              0.5555555555555556,
              "#d8576b"
             ],
             [
              0.6666666666666666,
              "#ed7953"
             ],
             [
              0.7777777777777778,
              "#fb9f3a"
             ],
             [
              0.8888888888888888,
              "#fdca26"
             ],
             [
              1,
              "#f0f921"
             ]
            ],
            "type": "heatmap"
           }
          ],
          "heatmapgl": [
           {
            "colorbar": {
             "outlinewidth": 0,
             "ticks": ""
            },
            "colorscale": [
             [
              0,
              "#0d0887"
             ],
             [
              0.1111111111111111,
              "#46039f"
             ],
             [
              0.2222222222222222,
              "#7201a8"
             ],
             [
              0.3333333333333333,
              "#9c179e"
             ],
             [
              0.4444444444444444,
              "#bd3786"
             ],
             [
              0.5555555555555556,
              "#d8576b"
             ],
             [
              0.6666666666666666,
              "#ed7953"
             ],
             [
              0.7777777777777778,
              "#fb9f3a"
             ],
             [
              0.8888888888888888,
              "#fdca26"
             ],
             [
              1,
              "#f0f921"
             ]
            ],
            "type": "heatmapgl"
           }
          ],
          "histogram": [
           {
            "marker": {
             "pattern": {
              "fillmode": "overlay",
              "size": 10,
              "solidity": 0.2
             }
            },
            "type": "histogram"
           }
          ],
          "histogram2d": [
           {
            "colorbar": {
             "outlinewidth": 0,
             "ticks": ""
            },
            "colorscale": [
             [
              0,
              "#0d0887"
             ],
             [
              0.1111111111111111,
              "#46039f"
             ],
             [
              0.2222222222222222,
              "#7201a8"
             ],
             [
              0.3333333333333333,
              "#9c179e"
             ],
             [
              0.4444444444444444,
              "#bd3786"
             ],
             [
              0.5555555555555556,
              "#d8576b"
             ],
             [
              0.6666666666666666,
              "#ed7953"
             ],
             [
              0.7777777777777778,
              "#fb9f3a"
             ],
             [
              0.8888888888888888,
              "#fdca26"
             ],
             [
              1,
              "#f0f921"
             ]
            ],
            "type": "histogram2d"
           }
          ],
          "histogram2dcontour": [
           {
            "colorbar": {
             "outlinewidth": 0,
             "ticks": ""
            },
            "colorscale": [
             [
              0,
              "#0d0887"
             ],
             [
              0.1111111111111111,
              "#46039f"
             ],
             [
              0.2222222222222222,
              "#7201a8"
             ],
             [
              0.3333333333333333,
              "#9c179e"
             ],
             [
              0.4444444444444444,
              "#bd3786"
             ],
             [
              0.5555555555555556,
              "#d8576b"
             ],
             [
              0.6666666666666666,
              "#ed7953"
             ],
             [
              0.7777777777777778,
              "#fb9f3a"
             ],
             [
              0.8888888888888888,
              "#fdca26"
             ],
             [
              1,
              "#f0f921"
             ]
            ],
            "type": "histogram2dcontour"
           }
          ],
          "mesh3d": [
           {
            "colorbar": {
             "outlinewidth": 0,
             "ticks": ""
            },
            "type": "mesh3d"
           }
          ],
          "parcoords": [
           {
            "line": {
             "colorbar": {
              "outlinewidth": 0,
              "ticks": ""
             }
            },
            "type": "parcoords"
           }
          ],
          "pie": [
           {
            "automargin": true,
            "type": "pie"
           }
          ],
          "scatter": [
           {
            "fillpattern": {
             "fillmode": "overlay",
             "size": 10,
             "solidity": 0.2
            },
            "type": "scatter"
           }
          ],
          "scatter3d": [
           {
            "line": {
             "colorbar": {
              "outlinewidth": 0,
              "ticks": ""
             }
            },
            "marker": {
             "colorbar": {
              "outlinewidth": 0,
              "ticks": ""
             }
            },
            "type": "scatter3d"
           }
          ],
          "scattercarpet": [
           {
            "marker": {
             "colorbar": {
              "outlinewidth": 0,
              "ticks": ""
             }
            },
            "type": "scattercarpet"
           }
          ],
          "scattergeo": [
           {
            "marker": {
             "colorbar": {
              "outlinewidth": 0,
              "ticks": ""
             }
            },
            "type": "scattergeo"
           }
          ],
          "scattergl": [
           {
            "marker": {
             "colorbar": {
              "outlinewidth": 0,
              "ticks": ""
             }
            },
            "type": "scattergl"
           }
          ],
          "scattermapbox": [
           {
            "marker": {
             "colorbar": {
              "outlinewidth": 0,
              "ticks": ""
             }
            },
            "type": "scattermapbox"
           }
          ],
          "scatterpolar": [
           {
            "marker": {
             "colorbar": {
              "outlinewidth": 0,
              "ticks": ""
             }
            },
            "type": "scatterpolar"
           }
          ],
          "scatterpolargl": [
           {
            "marker": {
             "colorbar": {
              "outlinewidth": 0,
              "ticks": ""
             }
            },
            "type": "scatterpolargl"
           }
          ],
          "scatterternary": [
           {
            "marker": {
             "colorbar": {
              "outlinewidth": 0,
              "ticks": ""
             }
            },
            "type": "scatterternary"
           }
          ],
          "surface": [
           {
            "colorbar": {
             "outlinewidth": 0,
             "ticks": ""
            },
            "colorscale": [
             [
              0,
              "#0d0887"
             ],
             [
              0.1111111111111111,
              "#46039f"
             ],
             [
              0.2222222222222222,
              "#7201a8"
             ],
             [
              0.3333333333333333,
              "#9c179e"
             ],
             [
              0.4444444444444444,
              "#bd3786"
             ],
             [
              0.5555555555555556,
              "#d8576b"
             ],
             [
              0.6666666666666666,
              "#ed7953"
             ],
             [
              0.7777777777777778,
              "#fb9f3a"
             ],
             [
              0.8888888888888888,
              "#fdca26"
             ],
             [
              1,
              "#f0f921"
             ]
            ],
            "type": "surface"
           }
          ],
          "table": [
           {
            "cells": {
             "fill": {
              "color": "#EBF0F8"
             },
             "line": {
              "color": "white"
             }
            },
            "header": {
             "fill": {
              "color": "#C8D4E3"
             },
             "line": {
              "color": "white"
             }
            },
            "type": "table"
           }
          ]
         },
         "layout": {
          "annotationdefaults": {
           "arrowcolor": "#2a3f5f",
           "arrowhead": 0,
           "arrowwidth": 1
          },
          "autotypenumbers": "strict",
          "coloraxis": {
           "colorbar": {
            "outlinewidth": 0,
            "ticks": ""
           }
          },
          "colorscale": {
           "diverging": [
            [
             0,
             "#8e0152"
            ],
            [
             0.1,
             "#c51b7d"
            ],
            [
             0.2,
             "#de77ae"
            ],
            [
             0.3,
             "#f1b6da"
            ],
            [
             0.4,
             "#fde0ef"
            ],
            [
             0.5,
             "#f7f7f7"
            ],
            [
             0.6,
             "#e6f5d0"
            ],
            [
             0.7,
             "#b8e186"
            ],
            [
             0.8,
             "#7fbc41"
            ],
            [
             0.9,
             "#4d9221"
            ],
            [
             1,
             "#276419"
            ]
           ],
           "sequential": [
            [
             0,
             "#0d0887"
            ],
            [
             0.1111111111111111,
             "#46039f"
            ],
            [
             0.2222222222222222,
             "#7201a8"
            ],
            [
             0.3333333333333333,
             "#9c179e"
            ],
            [
             0.4444444444444444,
             "#bd3786"
            ],
            [
             0.5555555555555556,
             "#d8576b"
            ],
            [
             0.6666666666666666,
             "#ed7953"
            ],
            [
             0.7777777777777778,
             "#fb9f3a"
            ],
            [
             0.8888888888888888,
             "#fdca26"
            ],
            [
             1,
             "#f0f921"
            ]
           ],
           "sequentialminus": [
            [
             0,
             "#0d0887"
            ],
            [
             0.1111111111111111,
             "#46039f"
            ],
            [
             0.2222222222222222,
             "#7201a8"
            ],
            [
             0.3333333333333333,
             "#9c179e"
            ],
            [
             0.4444444444444444,
             "#bd3786"
            ],
            [
             0.5555555555555556,
             "#d8576b"
            ],
            [
             0.6666666666666666,
             "#ed7953"
            ],
            [
             0.7777777777777778,
             "#fb9f3a"
            ],
            [
             0.8888888888888888,
             "#fdca26"
            ],
            [
             1,
             "#f0f921"
            ]
           ]
          },
          "colorway": [
           "#636efa",
           "#EF553B",
           "#00cc96",
           "#ab63fa",
           "#FFA15A",
           "#19d3f3",
           "#FF6692",
           "#B6E880",
           "#FF97FF",
           "#FECB52"
          ],
          "font": {
           "color": "#2a3f5f"
          },
          "geo": {
           "bgcolor": "white",
           "lakecolor": "white",
           "landcolor": "#E5ECF6",
           "showlakes": true,
           "showland": true,
           "subunitcolor": "white"
          },
          "hoverlabel": {
           "align": "left"
          },
          "hovermode": "closest",
          "mapbox": {
           "style": "light"
          },
          "paper_bgcolor": "white",
          "plot_bgcolor": "#E5ECF6",
          "polar": {
           "angularaxis": {
            "gridcolor": "white",
            "linecolor": "white",
            "ticks": ""
           },
           "bgcolor": "#E5ECF6",
           "radialaxis": {
            "gridcolor": "white",
            "linecolor": "white",
            "ticks": ""
           }
          },
          "scene": {
           "xaxis": {
            "backgroundcolor": "#E5ECF6",
            "gridcolor": "white",
            "gridwidth": 2,
            "linecolor": "white",
            "showbackground": true,
            "ticks": "",
            "zerolinecolor": "white"
           },
           "yaxis": {
            "backgroundcolor": "#E5ECF6",
            "gridcolor": "white",
            "gridwidth": 2,
            "linecolor": "white",
            "showbackground": true,
            "ticks": "",
            "zerolinecolor": "white"
           },
           "zaxis": {
            "backgroundcolor": "#E5ECF6",
            "gridcolor": "white",
            "gridwidth": 2,
            "linecolor": "white",
            "showbackground": true,
            "ticks": "",
            "zerolinecolor": "white"
           }
          },
          "shapedefaults": {
           "line": {
            "color": "#2a3f5f"
           }
          },
          "ternary": {
           "aaxis": {
            "gridcolor": "white",
            "linecolor": "white",
            "ticks": ""
           },
           "baxis": {
            "gridcolor": "white",
            "linecolor": "white",
            "ticks": ""
           },
           "bgcolor": "#E5ECF6",
           "caxis": {
            "gridcolor": "white",
            "linecolor": "white",
            "ticks": ""
           }
          },
          "title": {
           "x": 0.05
          },
          "xaxis": {
           "automargin": true,
           "gridcolor": "white",
           "linecolor": "white",
           "ticks": "",
           "title": {
            "standoff": 15
           },
           "zerolinecolor": "white",
           "zerolinewidth": 2
          },
          "yaxis": {
           "automargin": true,
           "gridcolor": "white",
           "linecolor": "white",
           "ticks": "",
           "title": {
            "standoff": 15
           },
           "zerolinecolor": "white",
           "zerolinewidth": 2
          }
         }
        },
        "title": {
         "text": "Pharmacy Count by Town"
        },
        "xaxis": {
         "autorange": true,
         "range": [
          0,
          43
         ],
         "title": {
          "text": "Town"
         },
         "type": "category"
        },
        "yaxis": {
         "autorange": true,
         "range": [
          4.5555555555555545,
          113.44444444444444
         ],
         "title": {
          "text": "Pharmacy Count"
         },
         "type": "linear"
        }
       }
      },
      "image/png": "[encoded data removed]",
      "text/html": [
       "<div>                            <div id=\"437c4ef8-3b68-4b1d-9ce6-e1d4a73443f9\" class=\"plotly-graph-div\" style=\"height:525px; width:100%;\"></div>            <script type=\"text/javascript\">                require([\"plotly\"], function(Plotly) {                    window.PLOTLYENV=window.PLOTLYENV || {};                                    if (document.getElementById(\"437c4ef8-3b68-4b1d-9ce6-e1d4a73443f9\")) {                    Plotly.newPlot(                        \"437c4ef8-3b68-4b1d-9ce6-e1d4a73443f9\",                        [{\"name\":\"Pharmacy Count\",\"text\":[\"Aabbesiyyi\",\"Aain Ibl\",\"Aamchit\",\"Aarsal\",\"Aaytanit\",\"Abou Qamha\",\"Antelias-Naccache\",\"Baalbek\",\"Barja\",\"Barr Elias\",\"Beit El-Kekko\",\"Bent Jbeil\",\"Bourj El-Brajneh\",\"Bsalim\",\"Chhim\",\"Chiyah\",\"Choueifat El-Aamrousiyeh\",\"Douris\",\"Fardis Hasbaiya\",\"Furn Ech-Chebbak\",\"Ghaziyeh\",\"Ghobairi\",\"Hadath-Sbeineh\",\"Haouch Hala\",\"Haret Hreik\",\"Haret Saida\",\"Hermel\",\"Jall Ed-Dib\",\"Jbeil\",\"Khreibet Baabda\",\"Minie\",\"Nabatiyeh\",\"Qalaa\",\"Ras Masqa\",\"Saadnayel\",\"Saida\",\"Sibline\",\"Sinn El-Fil\",\"Trablous \",\"Zahleh El-Maallaqa\",\"Zalqa\",\"Zgharta-Ehden\",\"Zouk El-Kharab\",\"Zouk Mkayel\"],\"x\":[\"Aabbesiyyi\",\"Aain Ibl\",\"Aamchit\",\"Aarsal\",\"Aaytanit\",\"Abou Qamha\",\"Antelias-Naccache\",\"Baalbek\",\"Barja\",\"Barr Elias\",\"Beit El-Kekko\",\"Bent Jbeil\",\"Bourj El-Brajneh\",\"Bsalim\",\"Chhim\",\"Chiyah\",\"Choueifat El-Aamrousiyeh\",\"Douris\",\"Fardis Hasbaiya\",\"Furn Ech-Chebbak\",\"Ghaziyeh\",\"Ghobairi\",\"Hadath-Sbeineh\",\"Haouch Hala\",\"Haret Hreik\",\"Haret Saida\",\"Hermel\",\"Jall Ed-Dib\",\"Jbeil\",\"Khreibet Baabda\",\"Minie\",\"Nabatiyeh\",\"Qalaa\",\"Ras Masqa\",\"Saadnayel\",\"Saida\",\"Sibline\",\"Sinn El-Fil\",\"Trablous \",\"Zahleh El-Maallaqa\",\"Zalqa\",\"Zgharta-Ehden\",\"Zouk El-Kharab\",\"Zouk Mkayel\"],\"y\":[25,15,12,13,15,20,15,48,14,18,10,10,42,10,15,19,15,10,10,19,10,31,20,10,40,14,18,12,45,10,22,22,10,10,10,35,12,25,108,32,15,11,14,23],\"type\":\"scatter\"}],                        {\"template\":{\"data\":{\"histogram2dcontour\":[{\"type\":\"histogram2dcontour\",\"colorbar\":{\"outlinewidth\":0,\"ticks\":\"\"},\"colorscale\":[[0.0,\"#0d0887\"],[0.1111111111111111,\"#46039f\"],[0.2222222222222222,\"#7201a8\"],[0.3333333333333333,\"#9c179e\"],[0.4444444444444444,\"#bd3786\"],[0.5555555555555556,\"#d8576b\"],[0.6666666666666666,\"#ed7953\"],[0.7777777777777778,\"#fb9f3a\"],[0.8888888888888888,\"#fdca26\"],[1.0,\"#f0f921\"]]}],\"choropleth\":[{\"type\":\"choropleth\",\"colorbar\":{\"outlinewidth\":0,\"ticks\":\"\"}}],\"histogram2d\":[{\"type\":\"histogram2d\",\"colorbar\":{\"outlinewidth\":0,\"ticks\":\"\"},\"colorscale\":[[0.0,\"#0d0887\"],[0.1111111111111111,\"#46039f\"],[0.2222222222222222,\"#7201a8\"],[0.3333333333333333,\"#9c179e\"],[0.4444444444444444,\"#bd3786\"],[0.5555555555555556,\"#d8576b\"],[0.6666666666666666,\"#ed7953\"],[0.7777777777777778,\"#fb9f3a\"],[0.8888888888888888,\"#fdca26\"],[1.0,\"#f0f921\"]]}],\"heatmap\":[{\"type\":\"heatmap\",\"colorbar\":{\"outlinewidth\":0,\"ticks\":\"\"},\"colorscale\":[[0.0,\"#0d0887\"],[0.1111111111111111,\"#46039f\"],[0.2222222222222222,\"#7201a8\"],[0.3333333333333333,\"#9c179e\"],[0.4444444444444444,\"#bd3786\"],[0.5555555555555556,\"#d8576b\"],[0.6666666666666666,\"#ed7953\"],[0.7777777777777778,\"#fb9f3a\"],[0.8888888888888888,\"#fdca26\"],[1.0,\"#f0f921\"]]}],\"heatmapgl\":[{\"type\":\"heatmapgl\",\"colorbar\":{\"outlinewidth\":0,\"ticks\":\"\"},\"colorscale\":[[0.0,\"#0d0887\"],[0.1111111111111111,\"#46039f\"],[0.2222222222222222,\"#7201a8\"],[0.3333333333333333,\"#9c179e\"],[0.4444444444444444,\"#bd3786\"],[0.5555555555555556,\"#d8576b\"],[0.6666666666666666,\"#ed7953\"],[0.7777777777777778,\"#fb9f3a\"],[0.8888888888888888,\"#fdca26\"],[1.0,\"#f0f921\"]]}],\"contourcarpet\":[{\"type\":\"contourcarpet\",\"colorbar\":{\"outlinewidth\":0,\"ticks\":\"\"}}],\"contour\":[{\"type\":\"contour\",\"colorbar\":{\"outlinewidth\":0,\"ticks\":\"\"},\"colorscale\":[[0.0,\"#0d0887\"],[0.1111111111111111,\"#46039f\"],[0.2222222222222222,\"#7201a8\"],[0.3333333333333333,\"#9c179e\"],[0.4444444444444444,\"#bd3786\"],[0.5555555555555556,\"#d8576b\"],[0.6666666666666666,\"#ed7953\"],[0.7777777777777778,\"#fb9f3a\"],[0.8888888888888888,\"#fdca26\"],[1.0,\"#f0f921\"]]}],\"surface\":[{\"type\":\"surface\",\"colorbar\":{\"outlinewidth\":0,\"ticks\":\"\"},\"colorscale\":[[0.0,\"#0d0887\"],[0.1111111111111111,\"#46039f\"],[0.2222222222222222,\"#7201a8\"],[0.3333333333333333,\"#9c179e\"],[0.4444444444444444,\"#bd3786\"],[0.5555555555555556,\"#d8576b\"],[0.6666666666666666,\"#ed7953\"],[0.7777777777777778,\"#fb9f3a\"],[0.8888888888888888,\"#fdca26\"],[1.0,\"#f0f921\"]]}],\"mesh3d\":[{\"type\":\"mesh3d\",\"colorbar\":{\"outlinewidth\":0,\"ticks\":\"\"}}],\"scatter\":[{\"fillpattern\":{\"fillmode\":\"overlay\",\"size\":10,\"solidity\":0.2},\"type\":\"scatter\"}],\"parcoords\":[{\"type\":\"parcoords\",\"line\":{\"colorbar\":{\"outlinewidth\":0,\"ticks\":\"\"}}}],\"scatterpolargl\":[{\"type\":\"scatterpolargl\",\"marker\":{\"colorbar\":{\"outlinewidth\":0,\"ticks\":\"\"}}}],\"bar\":[{\"error_x\":{\"color\":\"#2a3f5f\"},\"error_y\":{\"color\":\"#2a3f5f\"},\"marker\":{\"line\":{\"color\":\"#E5ECF6\",\"width\":0.5},\"pattern\":{\"fillmode\":\"overlay\",\"size\":10,\"solidity\":0.2}},\"type\":\"bar\"}],\"scattergeo\":[{\"type\":\"scattergeo\",\"marker\":{\"colorbar\":{\"outlinewidth\":0,\"ticks\":\"\"}}}],\"scatterpolar\":[{\"type\":\"scatterpolar\",\"marker\":{\"colorbar\":{\"outlinewidth\":0,\"ticks\":\"\"}}}],\"histogram\":[{\"marker\":{\"pattern\":{\"fillmode\":\"overlay\",\"size\":10,\"solidity\":0.2}},\"type\":\"histogram\"}],\"scattergl\":[{\"type\":\"scattergl\",\"marker\":{\"colorbar\":{\"outlinewidth\":0,\"ticks\":\"\"}}}],\"scatter3d\":[{\"type\":\"scatter3d\",\"line\":{\"colorbar\":{\"outlinewidth\":0,\"ticks\":\"\"}},\"marker\":{\"colorbar\":{\"outlinewidth\":0,\"ticks\":\"\"}}}],\"scattermapbox\":[{\"type\":\"scattermapbox\",\"marker\":{\"colorbar\":{\"outlinewidth\":0,\"ticks\":\"\"}}}],\"scatterternary\":[{\"type\":\"scatterternary\",\"marker\":{\"colorbar\":{\"outlinewidth\":0,\"ticks\":\"\"}}}],\"scattercarpet\":[{\"type\":\"scattercarpet\",\"marker\":{\"colorbar\":{\"outlinewidth\":0,\"ticks\":\"\"}}}],\"carpet\":[{\"aaxis\":{\"endlinecolor\":\"#2a3f5f\",\"gridcolor\":\"white\",\"linecolor\":\"white\",\"minorgridcolor\":\"white\",\"startlinecolor\":\"#2a3f5f\"},\"baxis\":{\"endlinecolor\":\"#2a3f5f\",\"gridcolor\":\"white\",\"linecolor\":\"white\",\"minorgridcolor\":\"white\",\"startlinecolor\":\"#2a3f5f\"},\"type\":\"carpet\"}],\"table\":[{\"cells\":{\"fill\":{\"color\":\"#EBF0F8\"},\"line\":{\"color\":\"white\"}},\"header\":{\"fill\":{\"color\":\"#C8D4E3\"},\"line\":{\"color\":\"white\"}},\"type\":\"table\"}],\"barpolar\":[{\"marker\":{\"line\":{\"color\":\"#E5ECF6\",\"width\":0.5},\"pattern\":{\"fillmode\":\"overlay\",\"size\":10,\"solidity\":0.2}},\"type\":\"barpolar\"}],\"pie\":[{\"automargin\":true,\"type\":\"pie\"}]},\"layout\":{\"autotypenumbers\":\"strict\",\"colorway\":[\"#636efa\",\"#EF553B\",\"#00cc96\",\"#ab63fa\",\"#FFA15A\",\"#19d3f3\",\"#FF6692\",\"#B6E880\",\"#FF97FF\",\"#FECB52\"],\"font\":{\"color\":\"#2a3f5f\"},\"hovermode\":\"closest\",\"hoverlabel\":{\"align\":\"left\"},\"paper_bgcolor\":\"white\",\"plot_bgcolor\":\"#E5ECF6\",\"polar\":{\"bgcolor\":\"#E5ECF6\",\"angularaxis\":{\"gridcolor\":\"white\",\"linecolor\":\"white\",\"ticks\":\"\"},\"radialaxis\":{\"gridcolor\":\"white\",\"linecolor\":\"white\",\"ticks\":\"\"}},\"ternary\":{\"bgcolor\":\"#E5ECF6\",\"aaxis\":{\"gridcolor\":\"white\",\"linecolor\":\"white\",\"ticks\":\"\"},\"baxis\":{\"gridcolor\":\"white\",\"linecolor\":\"white\",\"ticks\":\"\"},\"caxis\":{\"gridcolor\":\"white\",\"linecolor\":\"white\",\"ticks\":\"\"}},\"coloraxis\":{\"colorbar\":{\"outlinewidth\":0,\"ticks\":\"\"}},\"colorscale\":{\"sequential\":[[0.0,\"#0d0887\"],[0.1111111111111111,\"#46039f\"],[0.2222222222222222,\"#7201a8\"],[0.3333333333333333,\"#9c179e\"],[0.4444444444444444,\"#bd3786\"],[0.5555555555555556,\"#d8576b\"],[0.6666666666666666,\"#ed7953\"],[0.7777777777777778,\"#fb9f3a\"],[0.8888888888888888,\"#fdca26\"],[1.0,\"#f0f921\"]],\"sequentialminus\":[[0.0,\"#0d0887\"],[0.1111111111111111,\"#46039f\"],[0.2222222222222222,\"#7201a8\"],[0.3333333333333333,\"#9c179e\"],[0.4444444444444444,\"#bd3786\"],[0.5555555555555556,\"#d8576b\"],[0.6666666666666666,\"#ed7953\"],[0.7777777777777778,\"#fb9f3a\"],[0.8888888888888888,\"#fdca26\"],[1.0,\"#f0f921\"]],\"diverging\":[[0,\"#8e0152\"],[0.1,\"#c51b7d\"],[0.2,\"#de77ae\"],[0.3,\"#f1b6da\"],[0.4,\"#fde0ef\"],[0.5,\"#f7f7f7\"],[0.6,\"#e6f5d0\"],[0.7,\"#b8e186\"],[0.8,\"#7fbc41\"],[0.9,\"#4d9221\"],[1,\"#276419\"]]},\"xaxis\":{\"gridcolor\":\"white\",\"linecolor\":\"white\",\"ticks\":\"\",\"title\":{\"standoff\":15},\"zerolinecolor\":\"white\",\"automargin\":true,\"zerolinewidth\":2},\"yaxis\":{\"gridcolor\":\"white\",\"linecolor\":\"white\",\"ticks\":\"\",\"title\":{\"standoff\":15},\"zerolinecolor\":\"white\",\"automargin\":true,\"zerolinewidth\":2},\"scene\":{\"xaxis\":{\"backgroundcolor\":\"#E5ECF6\",\"gridcolor\":\"white\",\"linecolor\":\"white\",\"showbackground\":true,\"ticks\":\"\",\"zerolinecolor\":\"white\",\"gridwidth\":2},\"yaxis\":{\"backgroundcolor\":\"#E5ECF6\",\"gridcolor\":\"white\",\"linecolor\":\"white\",\"showbackground\":true,\"ticks\":\"\",\"zerolinecolor\":\"white\",\"gridwidth\":2},\"zaxis\":{\"backgroundcolor\":\"#E5ECF6\",\"gridcolor\":\"white\",\"linecolor\":\"white\",\"showbackground\":true,\"ticks\":\"\",\"zerolinecolor\":\"white\",\"gridwidth\":2}},\"shapedefaults\":{\"line\":{\"color\":\"#2a3f5f\"}},\"annotationdefaults\":{\"arrowcolor\":\"#2a3f5f\",\"arrowhead\":0,\"arrowwidth\":1},\"geo\":{\"bgcolor\":\"white\",\"landcolor\":\"#E5ECF6\",\"subunitcolor\":\"white\",\"showland\":true,\"showlakes\":true,\"lakecolor\":\"white\"},\"title\":{\"x\":0.05},\"mapbox\":{\"style\":\"light\"}}},\"title\":{\"text\":\"Pharmacy Count by Town\"},\"xaxis\":{\"title\":{\"text\":\"Town\"}},\"yaxis\":{\"title\":{\"text\":\"Pharmacy Count\"}},\"showlegend\":false},                        {\"responsive\": true}                    ).then(function(){\n",
       "                            \n",
       "var gd = document.getElementById('437c4ef8-3b68-4b1d-9ce6-e1d4a73443f9');\n",
       "var x = new MutationObserver(function (mutations, observer) {{\n",
       "        var display = window.getComputedStyle(gd).display;\n",
       "        if (!display || display === 'none') {{\n",
       "            console.log([gd, 'removed!']);\n",
       "            Plotly.purge(gd);\n",
       "            observer.disconnect();\n",
       "        }}\n",
       "}});\n",
       "\n",
       "// Listen for the removal of the full notebook cells\n",
       "var notebookContainer = gd.closest('#notebook-container');\n",
       "if (notebookContainer) {{\n",
       "    x.observe(notebookContainer, {childList: true});\n",
       "}}\n",
       "\n",
       "// Listen for the clearing of the current output cell\n",
       "var outputEl = gd.closest('.output');\n",
       "if (outputEl) {{\n",
       "    x.observe(outputEl, {childList: true});\n",
       "}}\n",
       "\n",
       "                        })                };                });            </script>        </div>"
      ]
     },
     "metadata": {},
     "output_type": "display_data"
    }
   ],
   "source": [
    "fig = go.Figure()\n",
    "fig.add_trace(go.Scatter(\n",
    "    x=pharmacy[\"Town\"],\n",
    "    y=pharmacy[\"Type and size of medical resources - Pharmacies\"],\n",
    "    \n",
    "    text=pharmacy[\"Town\"],  # Hover text\n",
    "    name=\"Pharmacy Count\"\n",
    "))\n",
    "\n",
    "fig.update_layout(\n",
    "    title=\"Pharmacy Count by Town\",\n",
    "    xaxis_title=\"Town\",\n",
    "    yaxis_title=\"Pharmacy Count\",\n",
    "    showlegend=False)\n"
   ]
  },
  {
   "cell_type": "code",
   "execution_count": 651,
   "id": "fb637a0e-0fcc-488f-b41a-60256062ccfe",
   "metadata": {},
   "outputs": [
    {
     "data": {
      "text/plain": [
       "['refArea',\n",
       " 'Potable water source - water point',\n",
       " 'State of the water network - good',\n",
       " 'State of the water network - acceptable',\n",
       " 'Potable water source - gallons purchase',\n",
       " 'Potable water source - artesian well',\n",
       " 'Total number of permanent water springs',\n",
       " 'State of the water network - bad',\n",
       " 'Observation URI',\n",
       " 'references',\n",
       " 'Potable water source - public network',\n",
       " 'publisher',\n",
       " 'Potable water source - other',\n",
       " 'Town',\n",
       " 'Total number of seasonal water springs',\n",
       " 'dataset',\n",
       " 'Total number of seasonal water points']"
      ]
     },
     "execution_count": 651,
     "metadata": {},
     "output_type": "execute_result"
    }
   ],
   "source": [
    "df= pd.read_csv(\"https://linked.aub.edu.lb/pkgcube/data/95689c3ec90ba7e4e685ced35c46b8f7_20240904_183651.csv\")\n",
    "df.columns.to_list()"
   ]
  },
  {
   "cell_type": "code",
   "execution_count": 715,
   "id": "54a46632-a7cd-4b3a-88e0-f1cafcdf2354",
   "metadata": {},
   "outputs": [
    {
     "data": {
      "application/vnd.plotly.v1+json": {
       "config": {
        "plotlyServerURL": "https://plot.ly"
       },
       "data": [
        {
         "marker": {
          "color": "blue",
          "size": [
           20,
           6,
           20,
           115,
           15,
           20,
           25,
           12,
           7,
           6,
           50,
           9,
           10,
           8,
           40,
           7,
           25,
           150,
           20,
           100,
           20,
           8,
           10,
           15,
           6,
           100,
           6,
           75,
           64,
           12
          ],
          "sizemode": "area",
          "sizeref": 0.1875
         },
         "mode": "markers",
         "name": "Permanent Springs",
         "type": "scatter",
         "x": [
          "Aabadiyeh",
          "Aain Zebdeh",
          "Aakkar El-Aatiqa",
          "Aammatour",
          "Bakka",
          "Bchtfine",
          "Binnay",
          "Bohwara",
          "Cheikhlar",
          "Dimane",
          "Ghaboune",
          "Ghazir",
          "Hadath Ej-Jebbeh",
          "Hayzouq",
          "Himlaya",
          "Jbeil",
          "Kneisset Ech-Chouf",
          "Mayrouba",
          "Mdoukha",
          "Mejdlaiya",
          "Michmich Jbeil",
          "Nabha Mehfara",
          "Niha El-Chouf",
          "Qbaiyat Aakkar",
          "Qraiyat",
          "Rahbeh",
          "Sirhmoul",
          "Tannourine El-Faouqa",
          "Yammouneh",
          "tarane"
         ],
         "y": [
          20,
          6,
          20,
          115,
          15,
          20,
          25,
          12,
          7,
          6,
          50,
          9,
          10,
          8,
          40,
          7,
          25,
          150,
          20,
          100,
          20,
          8,
          10,
          15,
          6,
          100,
          6,
          75,
          64,
          12
         ]
        },
        {
         "marker": {
          "color": "#77DD77",
          "size": [
           20,
           7,
           50,
           250,
           25,
           50,
           10,
           8,
           10,
           6,
           100,
           9,
           8,
           8,
           40,
           7,
           15,
           40,
           10,
           20,
           10,
           12,
           40,
           10,
           10,
           365,
           10,
           100,
           35,
           12
          ],
          "sizemode": "area",
          "sizeref": 0.1875
         },
         "mode": "markers",
         "name": "Seasonal Springs",
         "type": "scatter",
         "x": [
          "Aabadiyeh",
          "Aain Zebdeh",
          "Aakkar El-Aatiqa",
          "Aammatour",
          "Bakka",
          "Bchtfine",
          "Binnay",
          "Bohwara",
          "Cheikhlar",
          "Dimane",
          "Ghaboune",
          "Ghazir",
          "Hadath Ej-Jebbeh",
          "Hayzouq",
          "Himlaya",
          "Jbeil",
          "Kneisset Ech-Chouf",
          "Mayrouba",
          "Mdoukha",
          "Mejdlaiya",
          "Michmich Jbeil",
          "Nabha Mehfara",
          "Niha El-Chouf",
          "Qbaiyat Aakkar",
          "Qraiyat",
          "Rahbeh",
          "Sirhmoul",
          "Tannourine El-Faouqa",
          "Yammouneh",
          "tarane"
         ],
         "y": [
          20,
          7,
          50,
          250,
          25,
          50,
          10,
          8,
          10,
          6,
          100,
          9,
          8,
          8,
          40,
          7,
          15,
          40,
          10,
          20,
          10,
          12,
          40,
          10,
          10,
          365,
          10,
          100,
          35,
          12
         ]
        }
       ],
       "layout": {
        "autosize": true,
        "legend": {
         "title": {
          "text": "Spring Type"
         }
        },
        "template": {
         "data": {
          "bar": [
           {
            "error_x": {
             "color": "#2a3f5f"
            },
            "error_y": {
             "color": "#2a3f5f"
            },
            "marker": {
             "line": {
              "color": "#E5ECF6",
              "width": 0.5
             },
             "pattern": {
              "fillmode": "overlay",
              "size": 10,
              "solidity": 0.2
             }
            },
            "type": "bar"
           }
          ],
          "barpolar": [
           {
            "marker": {
             "line": {
              "color": "#E5ECF6",
              "width": 0.5
             },
             "pattern": {
              "fillmode": "overlay",
              "size": 10,
              "solidity": 0.2
             }
            },
            "type": "barpolar"
           }
          ],
          "carpet": [
           {
            "aaxis": {
             "endlinecolor": "#2a3f5f",
             "gridcolor": "white",
             "linecolor": "white",
             "minorgridcolor": "white",
             "startlinecolor": "#2a3f5f"
            },
            "baxis": {
             "endlinecolor": "#2a3f5f",
             "gridcolor": "white",
             "linecolor": "white",
             "minorgridcolor": "white",
             "startlinecolor": "#2a3f5f"
            },
            "type": "carpet"
           }
          ],
          "choropleth": [
           {
            "colorbar": {
             "outlinewidth": 0,
             "ticks": ""
            },
            "type": "choropleth"
           }
          ],
          "contour": [
           {
            "colorbar": {
             "outlinewidth": 0,
             "ticks": ""
            },
            "colorscale": [
             [
              0,
              "#0d0887"
             ],
             [
              0.1111111111111111,
              "#46039f"
             ],
             [
              0.2222222222222222,
              "#7201a8"
             ],
             [
              0.3333333333333333,
              "#9c179e"
             ],
             [
              0.4444444444444444,
              "#bd3786"
             ],
             [
              0.5555555555555556,
              "#d8576b"
             ],
             [
              0.6666666666666666,
              "#ed7953"
             ],
             [
              0.7777777777777778,
              "#fb9f3a"
             ],
             [
              0.8888888888888888,
              "#fdca26"
             ],
             [
              1,
              "#f0f921"
             ]
            ],
            "type": "contour"
           }
          ],
          "contourcarpet": [
           {
            "colorbar": {
             "outlinewidth": 0,
             "ticks": ""
            },
            "type": "contourcarpet"
           }
          ],
          "heatmap": [
           {
            "colorbar": {
             "outlinewidth": 0,
             "ticks": ""
            },
            "colorscale": [
             [
              0,
              "#0d0887"
             ],
             [
              0.1111111111111111,
              "#46039f"
             ],
             [
              0.2222222222222222,
              "#7201a8"
             ],
             [
              0.3333333333333333,
              "#9c179e"
             ],
             [
              0.4444444444444444,
              "#bd3786"
             ],
             [
              0.5555555555555556,
              "#d8576b"
             ],
             [
              0.6666666666666666,
              "#ed7953"
             ],
             [
              0.7777777777777778,
              "#fb9f3a"
             ],
             [
              0.8888888888888888,
              "#fdca26"
             ],
             [
              1,
              "#f0f921"
             ]
            ],
            "type": "heatmap"
           }
          ],
          "heatmapgl": [
           {
            "colorbar": {
             "outlinewidth": 0,
             "ticks": ""
            },
            "colorscale": [
             [
              0,
              "#0d0887"
             ],
             [
              0.1111111111111111,
              "#46039f"
             ],
             [
              0.2222222222222222,
              "#7201a8"
             ],
             [
              0.3333333333333333,
              "#9c179e"
             ],
             [
              0.4444444444444444,
              "#bd3786"
             ],
             [
              0.5555555555555556,
              "#d8576b"
             ],
             [
              0.6666666666666666,
              "#ed7953"
             ],
             [
              0.7777777777777778,
              "#fb9f3a"
             ],
             [
              0.8888888888888888,
              "#fdca26"
             ],
             [
              1,
              "#f0f921"
             ]
            ],
            "type": "heatmapgl"
           }
          ],
          "histogram": [
           {
            "marker": {
             "pattern": {
              "fillmode": "overlay",
              "size": 10,
              "solidity": 0.2
             }
            },
            "type": "histogram"
           }
          ],
          "histogram2d": [
           {
            "colorbar": {
             "outlinewidth": 0,
             "ticks": ""
            },
            "colorscale": [
             [
              0,
              "#0d0887"
             ],
             [
              0.1111111111111111,
              "#46039f"
             ],
             [
              0.2222222222222222,
              "#7201a8"
             ],
             [
              0.3333333333333333,
              "#9c179e"
             ],
             [
              0.4444444444444444,
              "#bd3786"
             ],
             [
              0.5555555555555556,
              "#d8576b"
             ],
             [
              0.6666666666666666,
              "#ed7953"
             ],
             [
              0.7777777777777778,
              "#fb9f3a"
             ],
             [
              0.8888888888888888,
              "#fdca26"
             ],
             [
              1,
              "#f0f921"
             ]
            ],
            "type": "histogram2d"
           }
          ],
          "histogram2dcontour": [
           {
            "colorbar": {
             "outlinewidth": 0,
             "ticks": ""
            },
            "colorscale": [
             [
              0,
              "#0d0887"
             ],
             [
              0.1111111111111111,
              "#46039f"
             ],
             [
              0.2222222222222222,
              "#7201a8"
             ],
             [
              0.3333333333333333,
              "#9c179e"
             ],
             [
              0.4444444444444444,
              "#bd3786"
             ],
             [
              0.5555555555555556,
              "#d8576b"
             ],
             [
              0.6666666666666666,
              "#ed7953"
             ],
             [
              0.7777777777777778,
              "#fb9f3a"
             ],
             [
              0.8888888888888888,
              "#fdca26"
             ],
             [
              1,
              "#f0f921"
             ]
            ],
            "type": "histogram2dcontour"
           }
          ],
          "mesh3d": [
           {
            "colorbar": {
             "outlinewidth": 0,
             "ticks": ""
            },
            "type": "mesh3d"
           }
          ],
          "parcoords": [
           {
            "line": {
             "colorbar": {
              "outlinewidth": 0,
              "ticks": ""
             }
            },
            "type": "parcoords"
           }
          ],
          "pie": [
           {
            "automargin": true,
            "type": "pie"
           }
          ],
          "scatter": [
           {
            "fillpattern": {
             "fillmode": "overlay",
             "size": 10,
             "solidity": 0.2
            },
            "type": "scatter"
           }
          ],
          "scatter3d": [
           {
            "line": {
             "colorbar": {
              "outlinewidth": 0,
              "ticks": ""
             }
            },
            "marker": {
             "colorbar": {
              "outlinewidth": 0,
              "ticks": ""
             }
            },
            "type": "scatter3d"
           }
          ],
          "scattercarpet": [
           {
            "marker": {
             "colorbar": {
              "outlinewidth": 0,
              "ticks": ""
             }
            },
            "type": "scattercarpet"
           }
          ],
          "scattergeo": [
           {
            "marker": {
             "colorbar": {
              "outlinewidth": 0,
              "ticks": ""
             }
            },
            "type": "scattergeo"
           }
          ],
          "scattergl": [
           {
            "marker": {
             "colorbar": {
              "outlinewidth": 0,
              "ticks": ""
             }
            },
            "type": "scattergl"
           }
          ],
          "scattermapbox": [
           {
            "marker": {
             "colorbar": {
              "outlinewidth": 0,
              "ticks": ""
             }
            },
            "type": "scattermapbox"
           }
          ],
          "scatterpolar": [
           {
            "marker": {
             "colorbar": {
              "outlinewidth": 0,
              "ticks": ""
             }
            },
            "type": "scatterpolar"
           }
          ],
          "scatterpolargl": [
           {
            "marker": {
             "colorbar": {
              "outlinewidth": 0,
              "ticks": ""
             }
            },
            "type": "scatterpolargl"
           }
          ],
          "scatterternary": [
           {
            "marker": {
             "colorbar": {
              "outlinewidth": 0,
              "ticks": ""
             }
            },
            "type": "scatterternary"
           }
          ],
          "surface": [
           {
            "colorbar": {
             "outlinewidth": 0,
             "ticks": ""
            },
            "colorscale": [
             [
              0,
              "#0d0887"
             ],
             [
              0.1111111111111111,
              "#46039f"
             ],
             [
              0.2222222222222222,
              "#7201a8"
             ],
             [
              0.3333333333333333,
              "#9c179e"
             ],
             [
              0.4444444444444444,
              "#bd3786"
             ],
             [
              0.5555555555555556,
              "#d8576b"
             ],
             [
              0.6666666666666666,
              "#ed7953"
             ],
             [
              0.7777777777777778,
              "#fb9f3a"
             ],
             [
              0.8888888888888888,
              "#fdca26"
             ],
             [
              1,
              "#f0f921"
             ]
            ],
            "type": "surface"
           }
          ],
          "table": [
           {
            "cells": {
             "fill": {
              "color": "#EBF0F8"
             },
             "line": {
              "color": "white"
             }
            },
            "header": {
             "fill": {
              "color": "#C8D4E3"
             },
             "line": {
              "color": "white"
             }
            },
            "type": "table"
           }
          ]
         },
         "layout": {
          "annotationdefaults": {
           "arrowcolor": "#2a3f5f",
           "arrowhead": 0,
           "arrowwidth": 1
          },
          "autotypenumbers": "strict",
          "coloraxis": {
           "colorbar": {
            "outlinewidth": 0,
            "ticks": ""
           }
          },
          "colorscale": {
           "diverging": [
            [
             0,
             "#8e0152"
            ],
            [
             0.1,
             "#c51b7d"
            ],
            [
             0.2,
             "#de77ae"
            ],
            [
             0.3,
             "#f1b6da"
            ],
            [
             0.4,
             "#fde0ef"
            ],
            [
             0.5,
             "#f7f7f7"
            ],
            [
             0.6,
             "#e6f5d0"
            ],
            [
             0.7,
             "#b8e186"
            ],
            [
             0.8,
             "#7fbc41"
            ],
            [
             0.9,
             "#4d9221"
            ],
            [
             1,
             "#276419"
            ]
           ],
           "sequential": [
            [
             0,
             "#0d0887"
            ],
            [
             0.1111111111111111,
             "#46039f"
            ],
            [
             0.2222222222222222,
             "#7201a8"
            ],
            [
             0.3333333333333333,
             "#9c179e"
            ],
            [
             0.4444444444444444,
             "#bd3786"
            ],
            [
             0.5555555555555556,
             "#d8576b"
            ],
            [
             0.6666666666666666,
             "#ed7953"
            ],
            [
             0.7777777777777778,
             "#fb9f3a"
            ],
            [
             0.8888888888888888,
             "#fdca26"
            ],
            [
             1,
             "#f0f921"
            ]
           ],
           "sequentialminus": [
            [
             0,
             "#0d0887"
            ],
            [
             0.1111111111111111,
             "#46039f"
            ],
            [
             0.2222222222222222,
             "#7201a8"
            ],
            [
             0.3333333333333333,
             "#9c179e"
            ],
            [
             0.4444444444444444,
             "#bd3786"
            ],
            [
             0.5555555555555556,
             "#d8576b"
            ],
            [
             0.6666666666666666,
             "#ed7953"
            ],
            [
             0.7777777777777778,
             "#fb9f3a"
            ],
            [
             0.8888888888888888,
             "#fdca26"
            ],
            [
             1,
             "#f0f921"
            ]
           ]
          },
          "colorway": [
           "#636efa",
           "#EF553B",
           "#00cc96",
           "#ab63fa",
           "#FFA15A",
           "#19d3f3",
           "#FF6692",
           "#B6E880",
           "#FF97FF",
           "#FECB52"
          ],
          "font": {
           "color": "#2a3f5f"
          },
          "geo": {
           "bgcolor": "white",
           "lakecolor": "white",
           "landcolor": "#E5ECF6",
           "showlakes": true,
           "showland": true,
           "subunitcolor": "white"
          },
          "hoverlabel": {
           "align": "left"
          },
          "hovermode": "closest",
          "mapbox": {
           "style": "light"
          },
          "paper_bgcolor": "white",
          "plot_bgcolor": "#E5ECF6",
          "polar": {
           "angularaxis": {
            "gridcolor": "white",
            "linecolor": "white",
            "ticks": ""
           },
           "bgcolor": "#E5ECF6",
           "radialaxis": {
            "gridcolor": "white",
            "linecolor": "white",
            "ticks": ""
           }
          },
          "scene": {
           "xaxis": {
            "backgroundcolor": "#E5ECF6",
            "gridcolor": "white",
            "gridwidth": 2,
            "linecolor": "white",
            "showbackground": true,
            "ticks": "",
            "zerolinecolor": "white"
           },
           "yaxis": {
            "backgroundcolor": "#E5ECF6",
            "gridcolor": "white",
            "gridwidth": 2,
            "linecolor": "white",
            "showbackground": true,
            "ticks": "",
            "zerolinecolor": "white"
           },
           "zaxis": {
            "backgroundcolor": "#E5ECF6",
            "gridcolor": "white",
            "gridwidth": 2,
            "linecolor": "white",
            "showbackground": true,
            "ticks": "",
            "zerolinecolor": "white"
           }
          },
          "shapedefaults": {
           "line": {
            "color": "#2a3f5f"
           }
          },
          "ternary": {
           "aaxis": {
            "gridcolor": "white",
            "linecolor": "white",
            "ticks": ""
           },
           "baxis": {
            "gridcolor": "white",
            "linecolor": "white",
            "ticks": ""
           },
           "bgcolor": "#E5ECF6",
           "caxis": {
            "gridcolor": "white",
            "linecolor": "white",
            "ticks": ""
           }
          },
          "title": {
           "x": 0.05
          },
          "xaxis": {
           "automargin": true,
           "gridcolor": "white",
           "linecolor": "white",
           "ticks": "",
           "title": {
            "standoff": 15
           },
           "zerolinecolor": "white",
           "zerolinewidth": 2
          },
          "yaxis": {
           "automargin": true,
           "gridcolor": "white",
           "linecolor": "white",
           "ticks": "",
           "title": {
            "standoff": 15
           },
           "zerolinecolor": "white",
           "zerolinewidth": 2
          }
         }
        },
        "title": {
         "text": "Water Spring Counts per Town (Permanent & Seasonal)"
        },
        "xaxis": {
         "autorange": true,
         "range": [
          -1.9644931704927768,
          30.89198787989947
         ],
         "title": {
          "text": "Town"
         },
         "type": "category"
        },
        "yaxis": {
         "autorange": true,
         "range": [
          -146.38353270461675,
          792.9519561571663
         ],
         "title": {
          "text": "Number of Water Springs"
         },
         "type": "linear"
        }
       }
      },
      "image/png": "[encoded data removed]",
      "text/html": [
       "<div>                            <div id=\"8ed6b7c9-e99f-48a5-86eb-265e2d12ff12\" class=\"plotly-graph-div\" style=\"height:525px; width:100%;\"></div>            <script type=\"text/javascript\">                require([\"plotly\"], function(Plotly) {                    window.PLOTLYENV=window.PLOTLYENV || {};                                    if (document.getElementById(\"8ed6b7c9-e99f-48a5-86eb-265e2d12ff12\")) {                    Plotly.newPlot(                        \"8ed6b7c9-e99f-48a5-86eb-265e2d12ff12\",                        [{\"marker\":{\"color\":\"blue\",\"size\":[20,6,20,115,15,20,25,12,7,6,50,9,10,8,40,7,25,150,20,100,20,8,10,15,6,100,6,75,64,12],\"sizemode\":\"area\",\"sizeref\":0.1875},\"mode\":\"markers\",\"name\":\"Permanent Springs\",\"x\":[\"Aabadiyeh\",\"Aain Zebdeh\",\"Aakkar El-Aatiqa\",\"Aammatour\",\"Bakka\",\"Bchtfine\",\"Binnay\",\"Bohwara\",\"Cheikhlar\",\"Dimane\",\"Ghaboune\",\"Ghazir\",\"Hadath Ej-Jebbeh\",\"Hayzouq\",\"Himlaya\",\"Jbeil\",\"Kneisset Ech-Chouf\",\"Mayrouba\",\"Mdoukha\",\"Mejdlaiya\",\"Michmich Jbeil\",\"Nabha Mehfara\",\"Niha El-Chouf\",\"Qbaiyat Aakkar\",\"Qraiyat\",\"Rahbeh\",\"Sirhmoul\",\"Tannourine El-Faouqa\",\"Yammouneh\",\"tarane\"],\"y\":[20,6,20,115,15,20,25,12,7,6,50,9,10,8,40,7,25,150,20,100,20,8,10,15,6,100,6,75,64,12],\"type\":\"scatter\"},{\"marker\":{\"color\":\"#77DD77\",\"size\":[20,7,50,250,25,50,10,8,10,6,100,9,8,8,40,7,15,40,10,20,10,12,40,10,10,365,10,100,35,12],\"sizemode\":\"area\",\"sizeref\":0.1875},\"mode\":\"markers\",\"name\":\"Seasonal Springs\",\"x\":[\"Aabadiyeh\",\"Aain Zebdeh\",\"Aakkar El-Aatiqa\",\"Aammatour\",\"Bakka\",\"Bchtfine\",\"Binnay\",\"Bohwara\",\"Cheikhlar\",\"Dimane\",\"Ghaboune\",\"Ghazir\",\"Hadath Ej-Jebbeh\",\"Hayzouq\",\"Himlaya\",\"Jbeil\",\"Kneisset Ech-Chouf\",\"Mayrouba\",\"Mdoukha\",\"Mejdlaiya\",\"Michmich Jbeil\",\"Nabha Mehfara\",\"Niha El-Chouf\",\"Qbaiyat Aakkar\",\"Qraiyat\",\"Rahbeh\",\"Sirhmoul\",\"Tannourine El-Faouqa\",\"Yammouneh\",\"tarane\"],\"y\":[20,7,50,250,25,50,10,8,10,6,100,9,8,8,40,7,15,40,10,20,10,12,40,10,10,365,10,100,35,12],\"type\":\"scatter\"}],                        {\"template\":{\"data\":{\"histogram2dcontour\":[{\"type\":\"histogram2dcontour\",\"colorbar\":{\"outlinewidth\":0,\"ticks\":\"\"},\"colorscale\":[[0.0,\"#0d0887\"],[0.1111111111111111,\"#46039f\"],[0.2222222222222222,\"#7201a8\"],[0.3333333333333333,\"#9c179e\"],[0.4444444444444444,\"#bd3786\"],[0.5555555555555556,\"#d8576b\"],[0.6666666666666666,\"#ed7953\"],[0.7777777777777778,\"#fb9f3a\"],[0.8888888888888888,\"#fdca26\"],[1.0,\"#f0f921\"]]}],\"choropleth\":[{\"type\":\"choropleth\",\"colorbar\":{\"outlinewidth\":0,\"ticks\":\"\"}}],\"histogram2d\":[{\"type\":\"histogram2d\",\"colorbar\":{\"outlinewidth\":0,\"ticks\":\"\"},\"colorscale\":[[0.0,\"#0d0887\"],[0.1111111111111111,\"#46039f\"],[0.2222222222222222,\"#7201a8\"],[0.3333333333333333,\"#9c179e\"],[0.4444444444444444,\"#bd3786\"],[0.5555555555555556,\"#d8576b\"],[0.6666666666666666,\"#ed7953\"],[0.7777777777777778,\"#fb9f3a\"],[0.8888888888888888,\"#fdca26\"],[1.0,\"#f0f921\"]]}],\"heatmap\":[{\"type\":\"heatmap\",\"colorbar\":{\"outlinewidth\":0,\"ticks\":\"\"},\"colorscale\":[[0.0,\"#0d0887\"],[0.1111111111111111,\"#46039f\"],[0.2222222222222222,\"#7201a8\"],[0.3333333333333333,\"#9c179e\"],[0.4444444444444444,\"#bd3786\"],[0.5555555555555556,\"#d8576b\"],[0.6666666666666666,\"#ed7953\"],[0.7777777777777778,\"#fb9f3a\"],[0.8888888888888888,\"#fdca26\"],[1.0,\"#f0f921\"]]}],\"heatmapgl\":[{\"type\":\"heatmapgl\",\"colorbar\":{\"outlinewidth\":0,\"ticks\":\"\"},\"colorscale\":[[0.0,\"#0d0887\"],[0.1111111111111111,\"#46039f\"],[0.2222222222222222,\"#7201a8\"],[0.3333333333333333,\"#9c179e\"],[0.4444444444444444,\"#bd3786\"],[0.5555555555555556,\"#d8576b\"],[0.6666666666666666,\"#ed7953\"],[0.7777777777777778,\"#fb9f3a\"],[0.8888888888888888,\"#fdca26\"],[1.0,\"#f0f921\"]]}],\"contourcarpet\":[{\"type\":\"contourcarpet\",\"colorbar\":{\"outlinewidth\":0,\"ticks\":\"\"}}],\"contour\":[{\"type\":\"contour\",\"colorbar\":{\"outlinewidth\":0,\"ticks\":\"\"},\"colorscale\":[[0.0,\"#0d0887\"],[0.1111111111111111,\"#46039f\"],[0.2222222222222222,\"#7201a8\"],[0.3333333333333333,\"#9c179e\"],[0.4444444444444444,\"#bd3786\"],[0.5555555555555556,\"#d8576b\"],[0.6666666666666666,\"#ed7953\"],[0.7777777777777778,\"#fb9f3a\"],[0.8888888888888888,\"#fdca26\"],[1.0,\"#f0f921\"]]}],\"surface\":[{\"type\":\"surface\",\"colorbar\":{\"outlinewidth\":0,\"ticks\":\"\"},\"colorscale\":[[0.0,\"#0d0887\"],[0.1111111111111111,\"#46039f\"],[0.2222222222222222,\"#7201a8\"],[0.3333333333333333,\"#9c179e\"],[0.4444444444444444,\"#bd3786\"],[0.5555555555555556,\"#d8576b\"],[0.6666666666666666,\"#ed7953\"],[0.7777777777777778,\"#fb9f3a\"],[0.8888888888888888,\"#fdca26\"],[1.0,\"#f0f921\"]]}],\"mesh3d\":[{\"type\":\"mesh3d\",\"colorbar\":{\"outlinewidth\":0,\"ticks\":\"\"}}],\"scatter\":[{\"fillpattern\":{\"fillmode\":\"overlay\",\"size\":10,\"solidity\":0.2},\"type\":\"scatter\"}],\"parcoords\":[{\"type\":\"parcoords\",\"line\":{\"colorbar\":{\"outlinewidth\":0,\"ticks\":\"\"}}}],\"scatterpolargl\":[{\"type\":\"scatterpolargl\",\"marker\":{\"colorbar\":{\"outlinewidth\":0,\"ticks\":\"\"}}}],\"bar\":[{\"error_x\":{\"color\":\"#2a3f5f\"},\"error_y\":{\"color\":\"#2a3f5f\"},\"marker\":{\"line\":{\"color\":\"#E5ECF6\",\"width\":0.5},\"pattern\":{\"fillmode\":\"overlay\",\"size\":10,\"solidity\":0.2}},\"type\":\"bar\"}],\"scattergeo\":[{\"type\":\"scattergeo\",\"marker\":{\"colorbar\":{\"outlinewidth\":0,\"ticks\":\"\"}}}],\"scatterpolar\":[{\"type\":\"scatterpolar\",\"marker\":{\"colorbar\":{\"outlinewidth\":0,\"ticks\":\"\"}}}],\"histogram\":[{\"marker\":{\"pattern\":{\"fillmode\":\"overlay\",\"size\":10,\"solidity\":0.2}},\"type\":\"histogram\"}],\"scattergl\":[{\"type\":\"scattergl\",\"marker\":{\"colorbar\":{\"outlinewidth\":0,\"ticks\":\"\"}}}],\"scatter3d\":[{\"type\":\"scatter3d\",\"line\":{\"colorbar\":{\"outlinewidth\":0,\"ticks\":\"\"}},\"marker\":{\"colorbar\":{\"outlinewidth\":0,\"ticks\":\"\"}}}],\"scattermapbox\":[{\"type\":\"scattermapbox\",\"marker\":{\"colorbar\":{\"outlinewidth\":0,\"ticks\":\"\"}}}],\"scatterternary\":[{\"type\":\"scatterternary\",\"marker\":{\"colorbar\":{\"outlinewidth\":0,\"ticks\":\"\"}}}],\"scattercarpet\":[{\"type\":\"scattercarpet\",\"marker\":{\"colorbar\":{\"outlinewidth\":0,\"ticks\":\"\"}}}],\"carpet\":[{\"aaxis\":{\"endlinecolor\":\"#2a3f5f\",\"gridcolor\":\"white\",\"linecolor\":\"white\",\"minorgridcolor\":\"white\",\"startlinecolor\":\"#2a3f5f\"},\"baxis\":{\"endlinecolor\":\"#2a3f5f\",\"gridcolor\":\"white\",\"linecolor\":\"white\",\"minorgridcolor\":\"white\",\"startlinecolor\":\"#2a3f5f\"},\"type\":\"carpet\"}],\"table\":[{\"cells\":{\"fill\":{\"color\":\"#EBF0F8\"},\"line\":{\"color\":\"white\"}},\"header\":{\"fill\":{\"color\":\"#C8D4E3\"},\"line\":{\"color\":\"white\"}},\"type\":\"table\"}],\"barpolar\":[{\"marker\":{\"line\":{\"color\":\"#E5ECF6\",\"width\":0.5},\"pattern\":{\"fillmode\":\"overlay\",\"size\":10,\"solidity\":0.2}},\"type\":\"barpolar\"}],\"pie\":[{\"automargin\":true,\"type\":\"pie\"}]},\"layout\":{\"autotypenumbers\":\"strict\",\"colorway\":[\"#636efa\",\"#EF553B\",\"#00cc96\",\"#ab63fa\",\"#FFA15A\",\"#19d3f3\",\"#FF6692\",\"#B6E880\",\"#FF97FF\",\"#FECB52\"],\"font\":{\"color\":\"#2a3f5f\"},\"hovermode\":\"closest\",\"hoverlabel\":{\"align\":\"left\"},\"paper_bgcolor\":\"white\",\"plot_bgcolor\":\"#E5ECF6\",\"polar\":{\"bgcolor\":\"#E5ECF6\",\"angularaxis\":{\"gridcolor\":\"white\",\"linecolor\":\"white\",\"ticks\":\"\"},\"radialaxis\":{\"gridcolor\":\"white\",\"linecolor\":\"white\",\"ticks\":\"\"}},\"ternary\":{\"bgcolor\":\"#E5ECF6\",\"aaxis\":{\"gridcolor\":\"white\",\"linecolor\":\"white\",\"ticks\":\"\"},\"baxis\":{\"gridcolor\":\"white\",\"linecolor\":\"white\",\"ticks\":\"\"},\"caxis\":{\"gridcolor\":\"white\",\"linecolor\":\"white\",\"ticks\":\"\"}},\"coloraxis\":{\"colorbar\":{\"outlinewidth\":0,\"ticks\":\"\"}},\"colorscale\":{\"sequential\":[[0.0,\"#0d0887\"],[0.1111111111111111,\"#46039f\"],[0.2222222222222222,\"#7201a8\"],[0.3333333333333333,\"#9c179e\"],[0.4444444444444444,\"#bd3786\"],[0.5555555555555556,\"#d8576b\"],[0.6666666666666666,\"#ed7953\"],[0.7777777777777778,\"#fb9f3a\"],[0.8888888888888888,\"#fdca26\"],[1.0,\"#f0f921\"]],\"sequentialminus\":[[0.0,\"#0d0887\"],[0.1111111111111111,\"#46039f\"],[0.2222222222222222,\"#7201a8\"],[0.3333333333333333,\"#9c179e\"],[0.4444444444444444,\"#bd3786\"],[0.5555555555555556,\"#d8576b\"],[0.6666666666666666,\"#ed7953\"],[0.7777777777777778,\"#fb9f3a\"],[0.8888888888888888,\"#fdca26\"],[1.0,\"#f0f921\"]],\"diverging\":[[0,\"#8e0152\"],[0.1,\"#c51b7d\"],[0.2,\"#de77ae\"],[0.3,\"#f1b6da\"],[0.4,\"#fde0ef\"],[0.5,\"#f7f7f7\"],[0.6,\"#e6f5d0\"],[0.7,\"#b8e186\"],[0.8,\"#7fbc41\"],[0.9,\"#4d9221\"],[1,\"#276419\"]]},\"xaxis\":{\"gridcolor\":\"white\",\"linecolor\":\"white\",\"ticks\":\"\",\"title\":{\"standoff\":15},\"zerolinecolor\":\"white\",\"automargin\":true,\"zerolinewidth\":2},\"yaxis\":{\"gridcolor\":\"white\",\"linecolor\":\"white\",\"ticks\":\"\",\"title\":{\"standoff\":15},\"zerolinecolor\":\"white\",\"automargin\":true,\"zerolinewidth\":2},\"scene\":{\"xaxis\":{\"backgroundcolor\":\"#E5ECF6\",\"gridcolor\":\"white\",\"linecolor\":\"white\",\"showbackground\":true,\"ticks\":\"\",\"zerolinecolor\":\"white\",\"gridwidth\":2},\"yaxis\":{\"backgroundcolor\":\"#E5ECF6\",\"gridcolor\":\"white\",\"linecolor\":\"white\",\"showbackground\":true,\"ticks\":\"\",\"zerolinecolor\":\"white\",\"gridwidth\":2},\"zaxis\":{\"backgroundcolor\":\"#E5ECF6\",\"gridcolor\":\"white\",\"linecolor\":\"white\",\"showbackground\":true,\"ticks\":\"\",\"zerolinecolor\":\"white\",\"gridwidth\":2}},\"shapedefaults\":{\"line\":{\"color\":\"#2a3f5f\"}},\"annotationdefaults\":{\"arrowcolor\":\"#2a3f5f\",\"arrowhead\":0,\"arrowwidth\":1},\"geo\":{\"bgcolor\":\"white\",\"landcolor\":\"#E5ECF6\",\"subunitcolor\":\"white\",\"showland\":true,\"showlakes\":true,\"lakecolor\":\"white\"},\"title\":{\"x\":0.05},\"mapbox\":{\"style\":\"light\"}}},\"title\":{\"text\":\"Water Spring Counts per Town (Permanent & Seasonal)\"},\"xaxis\":{\"title\":{\"text\":\"Town\"}},\"yaxis\":{\"title\":{\"text\":\"Number of Water Springs\"}},\"legend\":{\"title\":{\"text\":\"Spring Type\"}}},                        {\"responsive\": true}                    ).then(function(){\n",
       "                            \n",
       "var gd = document.getElementById('8ed6b7c9-e99f-48a5-86eb-265e2d12ff12');\n",
       "var x = new MutationObserver(function (mutations, observer) {{\n",
       "        var display = window.getComputedStyle(gd).display;\n",
       "        if (!display || display === 'none') {{\n",
       "            console.log([gd, 'removed!']);\n",
       "            Plotly.purge(gd);\n",
       "            observer.disconnect();\n",
       "        }}\n",
       "}});\n",
       "\n",
       "// Listen for the removal of the full notebook cells\n",
       "var notebookContainer = gd.closest('#notebook-container');\n",
       "if (notebookContainer) {{\n",
       "    x.observe(notebookContainer, {childList: true});\n",
       "}}\n",
       "\n",
       "// Listen for the clearing of the current output cell\n",
       "var outputEl = gd.closest('.output');\n",
       "if (outputEl) {{\n",
       "    x.observe(outputEl, {childList: true});\n",
       "}}\n",
       "\n",
       "                        })                };                });            </script>        </div>"
      ]
     },
     "metadata": {},
     "output_type": "display_data"
    }
   ],
   "source": [
    "springs = df[(df['Total number of permanent water springs']>5) & (df['Total number of seasonal water springs']>5)]\n",
    "townWithSprings = springs[\"Town\"]\n",
    "\n",
    "fig = go.Figure()\n",
    "fig.add_trace(go.Scatter(\n",
    "    x= springs[\"Town\"],\n",
    "    y= springs['Total number of permanent water springs'],\n",
    "    mode='markers',\n",
    "    marker=dict(\n",
    "        size=springs[\"Total number of permanent water springs\"],\n",
    "        color='blue',\n",
    "        sizemode='area',\n",
    "        sizeref = 2. * springs[\"Total number of permanent water springs\"].max() / (40 ** 2)\n",
    "    ),\n",
    "    name='Permanent Springs'\n",
    "))\n",
    "\n",
    "fig.add_trace(go.Scatter(\n",
    "    x=springs[\"Town\"],\n",
    "    y=springs[\"Total number of seasonal water springs\"],\n",
    "    mode='markers',\n",
    "    marker=dict(\n",
    "        size=springs[\"Total number of seasonal water springs\"],\n",
    "        color='#77DD77',\n",
    "        sizemode='area',\n",
    "        sizeref = 2. * springs[\"Total number of permanent water springs\"].max() / (40 ** 2)\n",
    "    ),\n",
    "    name='Seasonal Springs'\n",
    "))\n",
    "\n",
    "fig.update_layout(\n",
    "    title=\"Water Spring Counts per Town (Permanent & Seasonal)\",\n",
    "    xaxis_title=\"Town\",\n",
    "    yaxis_title=\"Number of Water Springs\",\n",
    "    legend_title=\"Spring Type\"\n",
    ")\n"
   ]
  },
  {
   "cell_type": "code",
   "execution_count": 815,
   "id": "2d6cd8f9-4e68-4b77-a015-0c4a7b16485d",
   "metadata": {},
   "outputs": [
    {
     "data": {
      "text/plain": [
       "['refArea',\n",
       " 'Existence of educational resources - exists',\n",
       " 'Type and size of educational resources - vocational institute',\n",
       " 'Observation URI',\n",
       " 'references',\n",
       " 'publisher',\n",
       " 'Existence of educational resources - does not exist',\n",
       " 'Nb of universities by type - Lebanese University branches',\n",
       " 'Public school coverage index (number of schools per citizen)',\n",
       " 'Type and size of educational resources - public schools',\n",
       " 'Type and size of educational resources - universities',\n",
       " 'Town',\n",
       " 'Nb of universities by type - Private universities',\n",
       " 'dataset',\n",
       " 'Type and size of educational resources - private schools']"
      ]
     },
     "execution_count": 815,
     "metadata": {},
     "output_type": "execute_result"
    }
   ],
   "source": [
    "df2= pd.read_csv(\"https://linked.aub.edu.lb/pkgcube/data/766496d731ca34aa96a88c60f595617f_20240906_113458.csv\")\n",
    "df2.columns.to_list()"
   ]
  },
  {
   "cell_type": "code",
   "execution_count": 943,
   "id": "a6b99832-47ab-4965-82b0-ad817be3672e",
   "metadata": {},
   "outputs": [],
   "source": [
    "private_schools = df2[df2['Type and size of educational resources - private schools'] > 5]\n",
    "private_schools = private_schools.sort_values(by='Type and size of educational resources - private schools')\n",
    "\n",
    "public_schools = df2[df2['Type and size of educational resources - public schools'] > 5]\n",
    "public_schools = public_schools.sort_values(by='Type and size of educational resources - public schools')"
   ]
  },
  {
   "cell_type": "code",
   "execution_count": 957,
   "id": "c8dcfaf0-4993-4d03-89ca-316209eac5c4",
   "metadata": {},
   "outputs": [
    {
     "data": {
      "application/vnd.plotly.v1+json": {
       "config": {
        "plotlyServerURL": "https://plot.ly"
       },
       "data": [
        {
         "alignmentgroup": "True",
         "hovertemplate": "Town=%{x}<br>Type and size of educational resources - public schools=%{marker.color}<extra></extra>",
         "legendgroup": "",
         "marker": {
          "color": [
           6,
           6,
           7,
           8,
           8,
           8,
           8,
           8,
           9,
           10,
           10,
           10,
           10,
           10,
           11,
           11,
           13,
           13,
           14,
           15,
           15,
           15,
           21,
           36,
           89
          ],
          "coloraxis": "coloraxis",
          "pattern": {
           "shape": ""
          }
         },
         "name": "",
         "offsetgroup": "",
         "orientation": "v",
         "showlegend": false,
         "textposition": "auto",
         "type": "bar",
         "x": [
          "En-Nahriyyi",
          "Bebnine",
          "Aarsal",
          "Bourj El-Brajneh",
          "Ghobairi",
          "Zgharta-Ehden",
          "Baalbek",
          "Aaytanit",
          "Ouadi Khaled",
          "Minie",
          "Fardis Hasbaiya",
          "Jouar El-Haouz",
          "Bkassine",
          "Dahr El-Ahmar",
          "Hermel",
          "Choueifat El-Aamrousiyeh",
          "Zahleh El-Maallaqa",
          "Khreibet Baabda",
          "Nabatiyeh",
          "Abou Qamha",
          "Tannoura",
          "Arsoun",
          "Sindianet Zeidane",
          "Saida",
          "Trablous "
         ],
         "xaxis": "x",
         "y": [
          6,
          6,
          7,
          8,
          8,
          8,
          8,
          8,
          9,
          10,
          10,
          10,
          10,
          10,
          11,
          11,
          13,
          13,
          14,
          15,
          15,
          15,
          21,
          36,
          89
         ],
         "yaxis": "y"
        }
       ],
       "layout": {
        "autosize": true,
        "bargap": 0.2,
        "barmode": "relative",
        "coloraxis": {
         "colorbar": {
          "title": {
           "text": "Type and size of educational resources - public schools"
          }
         },
         "colorscale": [
          [
           0,
           "#440154"
          ],
          [
           0.1111111111111111,
           "#482878"
          ],
          [
           0.2222222222222222,
           "#3e4989"
          ],
          [
           0.3333333333333333,
           "#31688e"
          ],
          [
           0.4444444444444444,
           "#26828e"
          ],
          [
           0.5555555555555556,
           "#1f9e89"
          ],
          [
           0.6666666666666666,
           "#35b779"
          ],
          [
           0.7777777777777778,
           "#6ece58"
          ],
          [
           0.8888888888888888,
           "#b5de2b"
          ],
          [
           1,
           "#fde725"
          ]
         ]
        },
        "legend": {
         "tracegroupgap": 0
        },
        "template": {
         "data": {
          "bar": [
           {
            "error_x": {
             "color": "#2a3f5f"
            },
            "error_y": {
             "color": "#2a3f5f"
            },
            "marker": {
             "line": {
              "color": "#E5ECF6",
              "width": 0.5
             },
             "pattern": {
              "fillmode": "overlay",
              "size": 10,
              "solidity": 0.2
             }
            },
            "type": "bar"
           }
          ],
          "barpolar": [
           {
            "marker": {
             "line": {
              "color": "#E5ECF6",
              "width": 0.5
             },
             "pattern": {
              "fillmode": "overlay",
              "size": 10,
              "solidity": 0.2
             }
            },
            "type": "barpolar"
           }
          ],
          "carpet": [
           {
            "aaxis": {
             "endlinecolor": "#2a3f5f",
             "gridcolor": "white",
             "linecolor": "white",
             "minorgridcolor": "white",
             "startlinecolor": "#2a3f5f"
            },
            "baxis": {
             "endlinecolor": "#2a3f5f",
             "gridcolor": "white",
             "linecolor": "white",
             "minorgridcolor": "white",
             "startlinecolor": "#2a3f5f"
            },
            "type": "carpet"
           }
          ],
          "choropleth": [
           {
            "colorbar": {
             "outlinewidth": 0,
             "ticks": ""
            },
            "type": "choropleth"
           }
          ],
          "contour": [
           {
            "colorbar": {
             "outlinewidth": 0,
             "ticks": ""
            },
            "colorscale": [
             [
              0,
              "#0d0887"
             ],
             [
              0.1111111111111111,
              "#46039f"
             ],
             [
              0.2222222222222222,
              "#7201a8"
             ],
             [
              0.3333333333333333,
              "#9c179e"
             ],
             [
              0.4444444444444444,
              "#bd3786"
             ],
             [
              0.5555555555555556,
              "#d8576b"
             ],
             [
              0.6666666666666666,
              "#ed7953"
             ],
             [
              0.7777777777777778,
              "#fb9f3a"
             ],
             [
              0.8888888888888888,
              "#fdca26"
             ],
             [
              1,
              "#f0f921"
             ]
            ],
            "type": "contour"
           }
          ],
          "contourcarpet": [
           {
            "colorbar": {
             "outlinewidth": 0,
             "ticks": ""
            },
            "type": "contourcarpet"
           }
          ],
          "heatmap": [
           {
            "colorbar": {
             "outlinewidth": 0,
             "ticks": ""
            },
            "colorscale": [
             [
              0,
              "#0d0887"
             ],
             [
              0.1111111111111111,
              "#46039f"
             ],
             [
              0.2222222222222222,
              "#7201a8"
             ],
             [
              0.3333333333333333,
              "#9c179e"
             ],
             [
              0.4444444444444444,
              "#bd3786"
             ],
             [
              0.5555555555555556,
              "#d8576b"
             ],
             [
              0.6666666666666666,
              "#ed7953"
             ],
             [
              0.7777777777777778,
              "#fb9f3a"
             ],
             [
              0.8888888888888888,
              "#fdca26"
             ],
             [
              1,
              "#f0f921"
             ]
            ],
            "type": "heatmap"
           }
          ],
          "heatmapgl": [
           {
            "colorbar": {
             "outlinewidth": 0,
             "ticks": ""
            },
            "colorscale": [
             [
              0,
              "#0d0887"
             ],
             [
              0.1111111111111111,
              "#46039f"
             ],
             [
              0.2222222222222222,
              "#7201a8"
             ],
             [
              0.3333333333333333,
              "#9c179e"
             ],
             [
              0.4444444444444444,
              "#bd3786"
             ],
             [
              0.5555555555555556,
              "#d8576b"
             ],
             [
              0.6666666666666666,
              "#ed7953"
             ],
             [
              0.7777777777777778,
              "#fb9f3a"
             ],
             [
              0.8888888888888888,
              "#fdca26"
             ],
             [
              1,
              "#f0f921"
             ]
            ],
            "type": "heatmapgl"
           }
          ],
          "histogram": [
           {
            "marker": {
             "pattern": {
              "fillmode": "overlay",
              "size": 10,
              "solidity": 0.2
             }
            },
            "type": "histogram"
           }
          ],
          "histogram2d": [
           {
            "colorbar": {
             "outlinewidth": 0,
             "ticks": ""
            },
            "colorscale": [
             [
              0,
              "#0d0887"
             ],
             [
              0.1111111111111111,
              "#46039f"
             ],
             [
              0.2222222222222222,
              "#7201a8"
             ],
             [
              0.3333333333333333,
              "#9c179e"
             ],
             [
              0.4444444444444444,
              "#bd3786"
             ],
             [
              0.5555555555555556,
              "#d8576b"
             ],
             [
              0.6666666666666666,
              "#ed7953"
             ],
             [
              0.7777777777777778,
              "#fb9f3a"
             ],
             [
              0.8888888888888888,
              "#fdca26"
             ],
             [
              1,
              "#f0f921"
             ]
            ],
            "type": "histogram2d"
           }
          ],
          "histogram2dcontour": [
           {
            "colorbar": {
             "outlinewidth": 0,
             "ticks": ""
            },
            "colorscale": [
             [
              0,
              "#0d0887"
             ],
             [
              0.1111111111111111,
              "#46039f"
             ],
             [
              0.2222222222222222,
              "#7201a8"
             ],
             [
              0.3333333333333333,
              "#9c179e"
             ],
             [
              0.4444444444444444,
              "#bd3786"
             ],
             [
              0.5555555555555556,
              "#d8576b"
             ],
             [
              0.6666666666666666,
              "#ed7953"
             ],
             [
              0.7777777777777778,
              "#fb9f3a"
             ],
             [
              0.8888888888888888,
              "#fdca26"
             ],
             [
              1,
              "#f0f921"
             ]
            ],
            "type": "histogram2dcontour"
           }
          ],
          "mesh3d": [
           {
            "colorbar": {
             "outlinewidth": 0,
             "ticks": ""
            },
            "type": "mesh3d"
           }
          ],
          "parcoords": [
           {
            "line": {
             "colorbar": {
              "outlinewidth": 0,
              "ticks": ""
             }
            },
            "type": "parcoords"
           }
          ],
          "pie": [
           {
            "automargin": true,
            "type": "pie"
           }
          ],
          "scatter": [
           {
            "fillpattern": {
             "fillmode": "overlay",
             "size": 10,
             "solidity": 0.2
            },
            "type": "scatter"
           }
          ],
          "scatter3d": [
           {
            "line": {
             "colorbar": {
              "outlinewidth": 0,
              "ticks": ""
             }
            },
            "marker": {
             "colorbar": {
              "outlinewidth": 0,
              "ticks": ""
             }
            },
            "type": "scatter3d"
           }
          ],
          "scattercarpet": [
           {
            "marker": {
             "colorbar": {
              "outlinewidth": 0,
              "ticks": ""
             }
            },
            "type": "scattercarpet"
           }
          ],
          "scattergeo": [
           {
            "marker": {
             "colorbar": {
              "outlinewidth": 0,
              "ticks": ""
             }
            },
            "type": "scattergeo"
           }
          ],
          "scattergl": [
           {
            "marker": {
             "colorbar": {
              "outlinewidth": 0,
              "ticks": ""
             }
            },
            "type": "scattergl"
           }
          ],
          "scattermapbox": [
           {
            "marker": {
             "colorbar": {
              "outlinewidth": 0,
              "ticks": ""
             }
            },
            "type": "scattermapbox"
           }
          ],
          "scatterpolar": [
           {
            "marker": {
             "colorbar": {
              "outlinewidth": 0,
              "ticks": ""
             }
            },
            "type": "scatterpolar"
           }
          ],
          "scatterpolargl": [
           {
            "marker": {
             "colorbar": {
              "outlinewidth": 0,
              "ticks": ""
             }
            },
            "type": "scatterpolargl"
           }
          ],
          "scatterternary": [
           {
            "marker": {
             "colorbar": {
              "outlinewidth": 0,
              "ticks": ""
             }
            },
            "type": "scatterternary"
           }
          ],
          "surface": [
           {
            "colorbar": {
             "outlinewidth": 0,
             "ticks": ""
            },
            "colorscale": [
             [
              0,
              "#0d0887"
             ],
             [
              0.1111111111111111,
              "#46039f"
             ],
             [
              0.2222222222222222,
              "#7201a8"
             ],
             [
              0.3333333333333333,
              "#9c179e"
             ],
             [
              0.4444444444444444,
              "#bd3786"
             ],
             [
              0.5555555555555556,
              "#d8576b"
             ],
             [
              0.6666666666666666,
              "#ed7953"
             ],
             [
              0.7777777777777778,
              "#fb9f3a"
             ],
             [
              0.8888888888888888,
              "#fdca26"
             ],
             [
              1,
              "#f0f921"
             ]
            ],
            "type": "surface"
           }
          ],
          "table": [
           {
            "cells": {
             "fill": {
              "color": "#EBF0F8"
             },
             "line": {
              "color": "white"
             }
            },
            "header": {
             "fill": {
              "color": "#C8D4E3"
             },
             "line": {
              "color": "white"
             }
            },
            "type": "table"
           }
          ]
         },
         "layout": {
          "annotationdefaults": {
           "arrowcolor": "#2a3f5f",
           "arrowhead": 0,
           "arrowwidth": 1
          },
          "autotypenumbers": "strict",
          "coloraxis": {
           "colorbar": {
            "outlinewidth": 0,
            "ticks": ""
           }
          },
          "colorscale": {
           "diverging": [
            [
             0,
             "#8e0152"
            ],
            [
             0.1,
             "#c51b7d"
            ],
            [
             0.2,
             "#de77ae"
            ],
            [
             0.3,
             "#f1b6da"
            ],
            [
             0.4,
             "#fde0ef"
            ],
            [
             0.5,
             "#f7f7f7"
            ],
            [
             0.6,
             "#e6f5d0"
            ],
            [
             0.7,
             "#b8e186"
            ],
            [
             0.8,
             "#7fbc41"
            ],
            [
             0.9,
             "#4d9221"
            ],
            [
             1,
             "#276419"
            ]
           ],
           "sequential": [
            [
             0,
             "#0d0887"
            ],
            [
             0.1111111111111111,
             "#46039f"
            ],
            [
             0.2222222222222222,
             "#7201a8"
            ],
            [
             0.3333333333333333,
             "#9c179e"
            ],
            [
             0.4444444444444444,
             "#bd3786"
            ],
            [
             0.5555555555555556,
             "#d8576b"
            ],
            [
             0.6666666666666666,
             "#ed7953"
            ],
            [
             0.7777777777777778,
             "#fb9f3a"
            ],
            [
             0.8888888888888888,
             "#fdca26"
            ],
            [
             1,
             "#f0f921"
            ]
           ],
           "sequentialminus": [
            [
             0,
             "#0d0887"
            ],
            [
             0.1111111111111111,
             "#46039f"
            ],
            [
             0.2222222222222222,
             "#7201a8"
            ],
            [
             0.3333333333333333,
             "#9c179e"
            ],
            [
             0.4444444444444444,
             "#bd3786"
            ],
            [
             0.5555555555555556,
             "#d8576b"
            ],
            [
             0.6666666666666666,
             "#ed7953"
            ],
            [
             0.7777777777777778,
             "#fb9f3a"
            ],
            [
             0.8888888888888888,
             "#fdca26"
            ],
            [
             1,
             "#f0f921"
            ]
           ]
          },
          "colorway": [
           "#636efa",
           "#EF553B",
           "#00cc96",
           "#ab63fa",
           "#FFA15A",
           "#19d3f3",
           "#FF6692",
           "#B6E880",
           "#FF97FF",
           "#FECB52"
          ],
          "font": {
           "color": "#2a3f5f"
          },
          "geo": {
           "bgcolor": "white",
           "lakecolor": "white",
           "landcolor": "#E5ECF6",
           "showlakes": true,
           "showland": true,
           "subunitcolor": "white"
          },
          "hoverlabel": {
           "align": "left"
          },
          "hovermode": "closest",
          "mapbox": {
           "style": "light"
          },
          "paper_bgcolor": "white",
          "plot_bgcolor": "#E5ECF6",
          "polar": {
           "angularaxis": {
            "gridcolor": "white",
            "linecolor": "white",
            "ticks": ""
           },
           "bgcolor": "#E5ECF6",
           "radialaxis": {
            "gridcolor": "white",
            "linecolor": "white",
            "ticks": ""
           }
          },
          "scene": {
           "xaxis": {
            "backgroundcolor": "#E5ECF6",
            "gridcolor": "white",
            "gridwidth": 2,
            "linecolor": "white",
            "showbackground": true,
            "ticks": "",
            "zerolinecolor": "white"
           },
           "yaxis": {
            "backgroundcolor": "#E5ECF6",
            "gridcolor": "white",
            "gridwidth": 2,
            "linecolor": "white",
            "showbackground": true,
            "ticks": "",
            "zerolinecolor": "white"
           },
           "zaxis": {
            "backgroundcolor": "#E5ECF6",
            "gridcolor": "white",
            "gridwidth": 2,
            "linecolor": "white",
            "showbackground": true,
            "ticks": "",
            "zerolinecolor": "white"
           }
          },
          "shapedefaults": {
           "line": {
            "color": "#2a3f5f"
           }
          },
          "ternary": {
           "aaxis": {
            "gridcolor": "white",
            "linecolor": "white",
            "ticks": ""
           },
           "baxis": {
            "gridcolor": "white",
            "linecolor": "white",
            "ticks": ""
           },
           "bgcolor": "#E5ECF6",
           "caxis": {
            "gridcolor": "white",
            "linecolor": "white",
            "ticks": ""
           }
          },
          "title": {
           "x": 0.05
          },
          "xaxis": {
           "automargin": true,
           "gridcolor": "white",
           "linecolor": "white",
           "ticks": "",
           "title": {
            "standoff": 15
           },
           "zerolinecolor": "white",
           "zerolinewidth": 2
          },
          "yaxis": {
           "automargin": true,
           "gridcolor": "white",
           "linecolor": "white",
           "ticks": "",
           "title": {
            "standoff": 15
           },
           "zerolinecolor": "white",
           "zerolinewidth": 2
          }
         }
        },
        "title": {
         "text": "Number of Public Schools per Town"
        },
        "xaxis": {
         "anchor": "y",
         "autorange": true,
         "domain": [
          0,
          1
         ],
         "range": [
          -0.5,
          24.5
         ],
         "tickangle": -45,
         "tickfont": {
          "size": 10
         },
         "title": {
          "text": "Town"
         },
         "type": "category"
        },
        "yaxis": {
         "anchor": "x",
         "autorange": true,
         "domain": [
          0,
          1
         ],
         "range": [
          0,
          93.6842105263158
         ],
         "title": {
          "text": "Number of Public Schools"
         },
         "type": "linear"
        }
       }
      },
      "image/png": "[encoded data removed]",
      "text/html": [
       "<div>                            <div id=\"85c1500d-e3b1-4cc6-bbf4-5f3a1627196f\" class=\"plotly-graph-div\" style=\"height:525px; width:100%;\"></div>            <script type=\"text/javascript\">                require([\"plotly\"], function(Plotly) {                    window.PLOTLYENV=window.PLOTLYENV || {};                                    if (document.getElementById(\"85c1500d-e3b1-4cc6-bbf4-5f3a1627196f\")) {                    Plotly.newPlot(                        \"85c1500d-e3b1-4cc6-bbf4-5f3a1627196f\",                        [{\"alignmentgroup\":\"True\",\"hovertemplate\":\"Town=%{x}\\u003cbr\\u003eType and size of educational resources - public schools=%{marker.color}\\u003cextra\\u003e\\u003c\\u002fextra\\u003e\",\"legendgroup\":\"\",\"marker\":{\"color\":[6,6,7,8,8,8,8,8,9,10,10,10,10,10,11,11,13,13,14,15,15,15,21,36,89],\"coloraxis\":\"coloraxis\",\"pattern\":{\"shape\":\"\"}},\"name\":\"\",\"offsetgroup\":\"\",\"orientation\":\"v\",\"showlegend\":false,\"textposition\":\"auto\",\"x\":[\"En-Nahriyyi\",\"Bebnine\",\"Aarsal\",\"Bourj El-Brajneh\",\"Ghobairi\",\"Zgharta-Ehden\",\"Baalbek\",\"Aaytanit\",\"Ouadi Khaled\",\"Minie\",\"Fardis Hasbaiya\",\"Jouar El-Haouz\",\"Bkassine\",\"Dahr El-Ahmar\",\"Hermel\",\"Choueifat El-Aamrousiyeh\",\"Zahleh El-Maallaqa\",\"Khreibet Baabda\",\"Nabatiyeh\",\"Abou Qamha\",\"Tannoura\",\"Arsoun\",\"Sindianet Zeidane\",\"Saida\",\"Trablous \"],\"xaxis\":\"x\",\"y\":[6,6,7,8,8,8,8,8,9,10,10,10,10,10,11,11,13,13,14,15,15,15,21,36,89],\"yaxis\":\"y\",\"type\":\"bar\"}],                        {\"template\":{\"data\":{\"histogram2dcontour\":[{\"type\":\"histogram2dcontour\",\"colorbar\":{\"outlinewidth\":0,\"ticks\":\"\"},\"colorscale\":[[0.0,\"#0d0887\"],[0.1111111111111111,\"#46039f\"],[0.2222222222222222,\"#7201a8\"],[0.3333333333333333,\"#9c179e\"],[0.4444444444444444,\"#bd3786\"],[0.5555555555555556,\"#d8576b\"],[0.6666666666666666,\"#ed7953\"],[0.7777777777777778,\"#fb9f3a\"],[0.8888888888888888,\"#fdca26\"],[1.0,\"#f0f921\"]]}],\"choropleth\":[{\"type\":\"choropleth\",\"colorbar\":{\"outlinewidth\":0,\"ticks\":\"\"}}],\"histogram2d\":[{\"type\":\"histogram2d\",\"colorbar\":{\"outlinewidth\":0,\"ticks\":\"\"},\"colorscale\":[[0.0,\"#0d0887\"],[0.1111111111111111,\"#46039f\"],[0.2222222222222222,\"#7201a8\"],[0.3333333333333333,\"#9c179e\"],[0.4444444444444444,\"#bd3786\"],[0.5555555555555556,\"#d8576b\"],[0.6666666666666666,\"#ed7953\"],[0.7777777777777778,\"#fb9f3a\"],[0.8888888888888888,\"#fdca26\"],[1.0,\"#f0f921\"]]}],\"heatmap\":[{\"type\":\"heatmap\",\"colorbar\":{\"outlinewidth\":0,\"ticks\":\"\"},\"colorscale\":[[0.0,\"#0d0887\"],[0.1111111111111111,\"#46039f\"],[0.2222222222222222,\"#7201a8\"],[0.3333333333333333,\"#9c179e\"],[0.4444444444444444,\"#bd3786\"],[0.5555555555555556,\"#d8576b\"],[0.6666666666666666,\"#ed7953\"],[0.7777777777777778,\"#fb9f3a\"],[0.8888888888888888,\"#fdca26\"],[1.0,\"#f0f921\"]]}],\"heatmapgl\":[{\"type\":\"heatmapgl\",\"colorbar\":{\"outlinewidth\":0,\"ticks\":\"\"},\"colorscale\":[[0.0,\"#0d0887\"],[0.1111111111111111,\"#46039f\"],[0.2222222222222222,\"#7201a8\"],[0.3333333333333333,\"#9c179e\"],[0.4444444444444444,\"#bd3786\"],[0.5555555555555556,\"#d8576b\"],[0.6666666666666666,\"#ed7953\"],[0.7777777777777778,\"#fb9f3a\"],[0.8888888888888888,\"#fdca26\"],[1.0,\"#f0f921\"]]}],\"contourcarpet\":[{\"type\":\"contourcarpet\",\"colorbar\":{\"outlinewidth\":0,\"ticks\":\"\"}}],\"contour\":[{\"type\":\"contour\",\"colorbar\":{\"outlinewidth\":0,\"ticks\":\"\"},\"colorscale\":[[0.0,\"#0d0887\"],[0.1111111111111111,\"#46039f\"],[0.2222222222222222,\"#7201a8\"],[0.3333333333333333,\"#9c179e\"],[0.4444444444444444,\"#bd3786\"],[0.5555555555555556,\"#d8576b\"],[0.6666666666666666,\"#ed7953\"],[0.7777777777777778,\"#fb9f3a\"],[0.8888888888888888,\"#fdca26\"],[1.0,\"#f0f921\"]]}],\"surface\":[{\"type\":\"surface\",\"colorbar\":{\"outlinewidth\":0,\"ticks\":\"\"},\"colorscale\":[[0.0,\"#0d0887\"],[0.1111111111111111,\"#46039f\"],[0.2222222222222222,\"#7201a8\"],[0.3333333333333333,\"#9c179e\"],[0.4444444444444444,\"#bd3786\"],[0.5555555555555556,\"#d8576b\"],[0.6666666666666666,\"#ed7953\"],[0.7777777777777778,\"#fb9f3a\"],[0.8888888888888888,\"#fdca26\"],[1.0,\"#f0f921\"]]}],\"mesh3d\":[{\"type\":\"mesh3d\",\"colorbar\":{\"outlinewidth\":0,\"ticks\":\"\"}}],\"scatter\":[{\"fillpattern\":{\"fillmode\":\"overlay\",\"size\":10,\"solidity\":0.2},\"type\":\"scatter\"}],\"parcoords\":[{\"type\":\"parcoords\",\"line\":{\"colorbar\":{\"outlinewidth\":0,\"ticks\":\"\"}}}],\"scatterpolargl\":[{\"type\":\"scatterpolargl\",\"marker\":{\"colorbar\":{\"outlinewidth\":0,\"ticks\":\"\"}}}],\"bar\":[{\"error_x\":{\"color\":\"#2a3f5f\"},\"error_y\":{\"color\":\"#2a3f5f\"},\"marker\":{\"line\":{\"color\":\"#E5ECF6\",\"width\":0.5},\"pattern\":{\"fillmode\":\"overlay\",\"size\":10,\"solidity\":0.2}},\"type\":\"bar\"}],\"scattergeo\":[{\"type\":\"scattergeo\",\"marker\":{\"colorbar\":{\"outlinewidth\":0,\"ticks\":\"\"}}}],\"scatterpolar\":[{\"type\":\"scatterpolar\",\"marker\":{\"colorbar\":{\"outlinewidth\":0,\"ticks\":\"\"}}}],\"histogram\":[{\"marker\":{\"pattern\":{\"fillmode\":\"overlay\",\"size\":10,\"solidity\":0.2}},\"type\":\"histogram\"}],\"scattergl\":[{\"type\":\"scattergl\",\"marker\":{\"colorbar\":{\"outlinewidth\":0,\"ticks\":\"\"}}}],\"scatter3d\":[{\"type\":\"scatter3d\",\"line\":{\"colorbar\":{\"outlinewidth\":0,\"ticks\":\"\"}},\"marker\":{\"colorbar\":{\"outlinewidth\":0,\"ticks\":\"\"}}}],\"scattermapbox\":[{\"type\":\"scattermapbox\",\"marker\":{\"colorbar\":{\"outlinewidth\":0,\"ticks\":\"\"}}}],\"scatterternary\":[{\"type\":\"scatterternary\",\"marker\":{\"colorbar\":{\"outlinewidth\":0,\"ticks\":\"\"}}}],\"scattercarpet\":[{\"type\":\"scattercarpet\",\"marker\":{\"colorbar\":{\"outlinewidth\":0,\"ticks\":\"\"}}}],\"carpet\":[{\"aaxis\":{\"endlinecolor\":\"#2a3f5f\",\"gridcolor\":\"white\",\"linecolor\":\"white\",\"minorgridcolor\":\"white\",\"startlinecolor\":\"#2a3f5f\"},\"baxis\":{\"endlinecolor\":\"#2a3f5f\",\"gridcolor\":\"white\",\"linecolor\":\"white\",\"minorgridcolor\":\"white\",\"startlinecolor\":\"#2a3f5f\"},\"type\":\"carpet\"}],\"table\":[{\"cells\":{\"fill\":{\"color\":\"#EBF0F8\"},\"line\":{\"color\":\"white\"}},\"header\":{\"fill\":{\"color\":\"#C8D4E3\"},\"line\":{\"color\":\"white\"}},\"type\":\"table\"}],\"barpolar\":[{\"marker\":{\"line\":{\"color\":\"#E5ECF6\",\"width\":0.5},\"pattern\":{\"fillmode\":\"overlay\",\"size\":10,\"solidity\":0.2}},\"type\":\"barpolar\"}],\"pie\":[{\"automargin\":true,\"type\":\"pie\"}]},\"layout\":{\"autotypenumbers\":\"strict\",\"colorway\":[\"#636efa\",\"#EF553B\",\"#00cc96\",\"#ab63fa\",\"#FFA15A\",\"#19d3f3\",\"#FF6692\",\"#B6E880\",\"#FF97FF\",\"#FECB52\"],\"font\":{\"color\":\"#2a3f5f\"},\"hovermode\":\"closest\",\"hoverlabel\":{\"align\":\"left\"},\"paper_bgcolor\":\"white\",\"plot_bgcolor\":\"#E5ECF6\",\"polar\":{\"bgcolor\":\"#E5ECF6\",\"angularaxis\":{\"gridcolor\":\"white\",\"linecolor\":\"white\",\"ticks\":\"\"},\"radialaxis\":{\"gridcolor\":\"white\",\"linecolor\":\"white\",\"ticks\":\"\"}},\"ternary\":{\"bgcolor\":\"#E5ECF6\",\"aaxis\":{\"gridcolor\":\"white\",\"linecolor\":\"white\",\"ticks\":\"\"},\"baxis\":{\"gridcolor\":\"white\",\"linecolor\":\"white\",\"ticks\":\"\"},\"caxis\":{\"gridcolor\":\"white\",\"linecolor\":\"white\",\"ticks\":\"\"}},\"coloraxis\":{\"colorbar\":{\"outlinewidth\":0,\"ticks\":\"\"}},\"colorscale\":{\"sequential\":[[0.0,\"#0d0887\"],[0.1111111111111111,\"#46039f\"],[0.2222222222222222,\"#7201a8\"],[0.3333333333333333,\"#9c179e\"],[0.4444444444444444,\"#bd3786\"],[0.5555555555555556,\"#d8576b\"],[0.6666666666666666,\"#ed7953\"],[0.7777777777777778,\"#fb9f3a\"],[0.8888888888888888,\"#fdca26\"],[1.0,\"#f0f921\"]],\"sequentialminus\":[[0.0,\"#0d0887\"],[0.1111111111111111,\"#46039f\"],[0.2222222222222222,\"#7201a8\"],[0.3333333333333333,\"#9c179e\"],[0.4444444444444444,\"#bd3786\"],[0.5555555555555556,\"#d8576b\"],[0.6666666666666666,\"#ed7953\"],[0.7777777777777778,\"#fb9f3a\"],[0.8888888888888888,\"#fdca26\"],[1.0,\"#f0f921\"]],\"diverging\":[[0,\"#8e0152\"],[0.1,\"#c51b7d\"],[0.2,\"#de77ae\"],[0.3,\"#f1b6da\"],[0.4,\"#fde0ef\"],[0.5,\"#f7f7f7\"],[0.6,\"#e6f5d0\"],[0.7,\"#b8e186\"],[0.8,\"#7fbc41\"],[0.9,\"#4d9221\"],[1,\"#276419\"]]},\"xaxis\":{\"gridcolor\":\"white\",\"linecolor\":\"white\",\"ticks\":\"\",\"title\":{\"standoff\":15},\"zerolinecolor\":\"white\",\"automargin\":true,\"zerolinewidth\":2},\"yaxis\":{\"gridcolor\":\"white\",\"linecolor\":\"white\",\"ticks\":\"\",\"title\":{\"standoff\":15},\"zerolinecolor\":\"white\",\"automargin\":true,\"zerolinewidth\":2},\"scene\":{\"xaxis\":{\"backgroundcolor\":\"#E5ECF6\",\"gridcolor\":\"white\",\"linecolor\":\"white\",\"showbackground\":true,\"ticks\":\"\",\"zerolinecolor\":\"white\",\"gridwidth\":2},\"yaxis\":{\"backgroundcolor\":\"#E5ECF6\",\"gridcolor\":\"white\",\"linecolor\":\"white\",\"showbackground\":true,\"ticks\":\"\",\"zerolinecolor\":\"white\",\"gridwidth\":2},\"zaxis\":{\"backgroundcolor\":\"#E5ECF6\",\"gridcolor\":\"white\",\"linecolor\":\"white\",\"showbackground\":true,\"ticks\":\"\",\"zerolinecolor\":\"white\",\"gridwidth\":2}},\"shapedefaults\":{\"line\":{\"color\":\"#2a3f5f\"}},\"annotationdefaults\":{\"arrowcolor\":\"#2a3f5f\",\"arrowhead\":0,\"arrowwidth\":1},\"geo\":{\"bgcolor\":\"white\",\"landcolor\":\"#E5ECF6\",\"subunitcolor\":\"white\",\"showland\":true,\"showlakes\":true,\"lakecolor\":\"white\"},\"title\":{\"x\":0.05},\"mapbox\":{\"style\":\"light\"}}},\"xaxis\":{\"anchor\":\"y\",\"domain\":[0.0,1.0],\"title\":{\"text\":\"Town\"},\"tickfont\":{\"size\":10},\"tickangle\":-45},\"yaxis\":{\"anchor\":\"x\",\"domain\":[0.0,1.0],\"title\":{\"text\":\"Number of Public Schools\"}},\"coloraxis\":{\"colorbar\":{\"title\":{\"text\":\"Type and size of educational resources - public schools\"}},\"colorscale\":[[0.0,\"#440154\"],[0.1111111111111111,\"#482878\"],[0.2222222222222222,\"#3e4989\"],[0.3333333333333333,\"#31688e\"],[0.4444444444444444,\"#26828e\"],[0.5555555555555556,\"#1f9e89\"],[0.6666666666666666,\"#35b779\"],[0.7777777777777778,\"#6ece58\"],[0.8888888888888888,\"#b5de2b\"],[1.0,\"#fde725\"]]},\"legend\":{\"tracegroupgap\":0},\"title\":{\"text\":\"Number of Public Schools per Town\"},\"barmode\":\"relative\",\"bargap\":0.2},                        {\"responsive\": true}                    ).then(function(){\n",
       "                            \n",
       "var gd = document.getElementById('85c1500d-e3b1-4cc6-bbf4-5f3a1627196f');\n",
       "var x = new MutationObserver(function (mutations, observer) {{\n",
       "        var display = window.getComputedStyle(gd).display;\n",
       "        if (!display || display === 'none') {{\n",
       "            console.log([gd, 'removed!']);\n",
       "            Plotly.purge(gd);\n",
       "            observer.disconnect();\n",
       "        }}\n",
       "}});\n",
       "\n",
       "// Listen for the removal of the full notebook cells\n",
       "var notebookContainer = gd.closest('#notebook-container');\n",
       "if (notebookContainer) {{\n",
       "    x.observe(notebookContainer, {childList: true});\n",
       "}}\n",
       "\n",
       "// Listen for the clearing of the current output cell\n",
       "var outputEl = gd.closest('.output');\n",
       "if (outputEl) {{\n",
       "    x.observe(outputEl, {childList: true});\n",
       "}}\n",
       "\n",
       "                        })                };                });            </script>        </div>"
      ]
     },
     "metadata": {},
     "output_type": "display_data"
    }
   ],
   "source": [
    "fig = px.bar(\n",
    "    public_schools,\n",
    "    x='Town',\n",
    "    y='Type and size of educational resources - public schools',\n",
    "    title='Public School Count By Town',\n",
    "    labels={\n",
    "        'Town': 'Town',\n",
    "    },\n",
    "    color='Type and size of educational resources - public schools',\n",
    "    color_continuous_scale='Viridis',\n",
    "    hover_data=[\"Type and size of educational resources - public schools\"]\n",
    ")\n",
    "\n",
    "fig.update_layout(\n",
    "    xaxis=dict(\n",
    "        title=\"Town\",\n",
    "        tickangle=-45,\n",
    "        tickfont=dict(size=10) \n",
    "    ),\n",
    "    yaxis_title=\"Number of Public Schools\",\n",
    "    title=\"Number of Public Schools per Town\",\n",
    "    bargap=0.2\n",
    ")\n",
    "\n",
    "\n",
    "fig.show()"
   ]
  },
  {
   "cell_type": "code",
   "execution_count": 959,
   "id": "4d833c47-204e-4e40-b9a0-122096bac789",
   "metadata": {},
   "outputs": [
    {
     "data": {
      "application/vnd.plotly.v1+json": {
       "config": {
        "plotlyServerURL": "https://plot.ly"
       },
       "data": [
        {
         "alignmentgroup": "True",
         "hovertemplate": "Town=%{x}<br>Type and size of educational resources - private schools=%{marker.color}<extra></extra>",
         "legendgroup": "",
         "marker": {
          "color": [
           6,
           6,
           6,
           6,
           6,
           6,
           6,
           7,
           7,
           7,
           7,
           8,
           8,
           9,
           9,
           9,
           9,
           9,
           10,
           10,
           11,
           12,
           13,
           14,
           14,
           14,
           15,
           18,
           20,
           20,
           25,
           39,
           40,
           41,
           54,
           63
          ],
          "coloraxis": "coloraxis",
          "pattern": {
           "shape": ""
          }
         },
         "name": "",
         "offsetgroup": "",
         "orientation": "v",
         "showlegend": false,
         "textposition": "auto",
         "type": "bar",
         "x": [
          "Minyara",
          "Aain Tinta",
          "Khirbet Daoud Aakkar",
          "Kneisset Ech-Chouf",
          "Dahr El-Ahmar",
          "Chiyah",
          "Baaqline",
          "Fardis Hasbaiya",
          "Sinn El-Fil",
          "Tannoura",
          "Aakkar El-Aatiqa",
          "Brital",
          "Khreibet Baabda",
          "Barja",
          "Hermel",
          "En-Nahriyyi",
          "Aarsal",
          "Jouret Arsoun",
          "Bebnine",
          "Kfar Chima",
          "Sindianet Zeidane",
          "Minie",
          "Barr Elias",
          "Aabbesiyyi",
          "Haret Hreik",
          "Zahleh El-Maallaqa",
          "Arsoun",
          "Nabatiyeh",
          "Hadath-Sbeineh",
          "Choueifat El-Aamrousiyeh",
          "Baalbek",
          "Ghobairi",
          "Abou Qamha",
          "Saida",
          "Bourj El-Brajneh",
          "Trablous "
         ],
         "xaxis": "x",
         "y": [
          6,
          6,
          6,
          6,
          6,
          6,
          6,
          7,
          7,
          7,
          7,
          8,
          8,
          9,
          9,
          9,
          9,
          9,
          10,
          10,
          11,
          12,
          13,
          14,
          14,
          14,
          15,
          18,
          20,
          20,
          25,
          39,
          40,
          41,
          54,
          63
         ],
         "yaxis": "y"
        }
       ],
       "layout": {
        "autosize": true,
        "bargap": 0.2,
        "barmode": "relative",
        "coloraxis": {
         "colorbar": {
          "title": {
           "text": "Type and size of educational resources - private schools"
          }
         },
         "colorscale": [
          [
           0,
           "#440154"
          ],
          [
           0.1111111111111111,
           "#482878"
          ],
          [
           0.2222222222222222,
           "#3e4989"
          ],
          [
           0.3333333333333333,
           "#31688e"
          ],
          [
           0.4444444444444444,
           "#26828e"
          ],
          [
           0.5555555555555556,
           "#1f9e89"
          ],
          [
           0.6666666666666666,
           "#35b779"
          ],
          [
           0.7777777777777778,
           "#6ece58"
          ],
          [
           0.8888888888888888,
           "#b5de2b"
          ],
          [
           1,
           "#fde725"
          ]
         ]
        },
        "legend": {
         "tracegroupgap": 0
        },
        "template": {
         "data": {
          "bar": [
           {
            "error_x": {
             "color": "#2a3f5f"
            },
            "error_y": {
             "color": "#2a3f5f"
            },
            "marker": {
             "line": {
              "color": "#E5ECF6",
              "width": 0.5
             },
             "pattern": {
              "fillmode": "overlay",
              "size": 10,
              "solidity": 0.2
             }
            },
            "type": "bar"
           }
          ],
          "barpolar": [
           {
            "marker": {
             "line": {
              "color": "#E5ECF6",
              "width": 0.5
             },
             "pattern": {
              "fillmode": "overlay",
              "size": 10,
              "solidity": 0.2
             }
            },
            "type": "barpolar"
           }
          ],
          "carpet": [
           {
            "aaxis": {
             "endlinecolor": "#2a3f5f",
             "gridcolor": "white",
             "linecolor": "white",
             "minorgridcolor": "white",
             "startlinecolor": "#2a3f5f"
            },
            "baxis": {
             "endlinecolor": "#2a3f5f",
             "gridcolor": "white",
             "linecolor": "white",
             "minorgridcolor": "white",
             "startlinecolor": "#2a3f5f"
            },
            "type": "carpet"
           }
          ],
          "choropleth": [
           {
            "colorbar": {
             "outlinewidth": 0,
             "ticks": ""
            },
            "type": "choropleth"
           }
          ],
          "contour": [
           {
            "colorbar": {
             "outlinewidth": 0,
             "ticks": ""
            },
            "colorscale": [
             [
              0,
              "#0d0887"
             ],
             [
              0.1111111111111111,
              "#46039f"
             ],
             [
              0.2222222222222222,
              "#7201a8"
             ],
             [
              0.3333333333333333,
              "#9c179e"
             ],
             [
              0.4444444444444444,
              "#bd3786"
             ],
             [
              0.5555555555555556,
              "#d8576b"
             ],
             [
              0.6666666666666666,
              "#ed7953"
             ],
             [
              0.7777777777777778,
              "#fb9f3a"
             ],
             [
              0.8888888888888888,
              "#fdca26"
             ],
             [
              1,
              "#f0f921"
             ]
            ],
            "type": "contour"
           }
          ],
          "contourcarpet": [
           {
            "colorbar": {
             "outlinewidth": 0,
             "ticks": ""
            },
            "type": "contourcarpet"
           }
          ],
          "heatmap": [
           {
            "colorbar": {
             "outlinewidth": 0,
             "ticks": ""
            },
            "colorscale": [
             [
              0,
              "#0d0887"
             ],
             [
              0.1111111111111111,
              "#46039f"
             ],
             [
              0.2222222222222222,
              "#7201a8"
             ],
             [
              0.3333333333333333,
              "#9c179e"
             ],
             [
              0.4444444444444444,
              "#bd3786"
             ],
             [
              0.5555555555555556,
              "#d8576b"
             ],
             [
              0.6666666666666666,
              "#ed7953"
             ],
             [
              0.7777777777777778,
              "#fb9f3a"
             ],
             [
              0.8888888888888888,
              "#fdca26"
             ],
             [
              1,
              "#f0f921"
             ]
            ],
            "type": "heatmap"
           }
          ],
          "heatmapgl": [
           {
            "colorbar": {
             "outlinewidth": 0,
             "ticks": ""
            },
            "colorscale": [
             [
              0,
              "#0d0887"
             ],
             [
              0.1111111111111111,
              "#46039f"
             ],
             [
              0.2222222222222222,
              "#7201a8"
             ],
             [
              0.3333333333333333,
              "#9c179e"
             ],
             [
              0.4444444444444444,
              "#bd3786"
             ],
             [
              0.5555555555555556,
              "#d8576b"
             ],
             [
              0.6666666666666666,
              "#ed7953"
             ],
             [
              0.7777777777777778,
              "#fb9f3a"
             ],
             [
              0.8888888888888888,
              "#fdca26"
             ],
             [
              1,
              "#f0f921"
             ]
            ],
            "type": "heatmapgl"
           }
          ],
          "histogram": [
           {
            "marker": {
             "pattern": {
              "fillmode": "overlay",
              "size": 10,
              "solidity": 0.2
             }
            },
            "type": "histogram"
           }
          ],
          "histogram2d": [
           {
            "colorbar": {
             "outlinewidth": 0,
             "ticks": ""
            },
            "colorscale": [
             [
              0,
              "#0d0887"
             ],
             [
              0.1111111111111111,
              "#46039f"
             ],
             [
              0.2222222222222222,
              "#7201a8"
             ],
             [
              0.3333333333333333,
              "#9c179e"
             ],
             [
              0.4444444444444444,
              "#bd3786"
             ],
             [
              0.5555555555555556,
              "#d8576b"
             ],
             [
              0.6666666666666666,
              "#ed7953"
             ],
             [
              0.7777777777777778,
              "#fb9f3a"
             ],
             [
              0.8888888888888888,
              "#fdca26"
             ],
             [
              1,
              "#f0f921"
             ]
            ],
            "type": "histogram2d"
           }
          ],
          "histogram2dcontour": [
           {
            "colorbar": {
             "outlinewidth": 0,
             "ticks": ""
            },
            "colorscale": [
             [
              0,
              "#0d0887"
             ],
             [
              0.1111111111111111,
              "#46039f"
             ],
             [
              0.2222222222222222,
              "#7201a8"
             ],
             [
              0.3333333333333333,
              "#9c179e"
             ],
             [
              0.4444444444444444,
              "#bd3786"
             ],
             [
              0.5555555555555556,
              "#d8576b"
             ],
             [
              0.6666666666666666,
              "#ed7953"
             ],
             [
              0.7777777777777778,
              "#fb9f3a"
             ],
             [
              0.8888888888888888,
              "#fdca26"
             ],
             [
              1,
              "#f0f921"
             ]
            ],
            "type": "histogram2dcontour"
           }
          ],
          "mesh3d": [
           {
            "colorbar": {
             "outlinewidth": 0,
             "ticks": ""
            },
            "type": "mesh3d"
           }
          ],
          "parcoords": [
           {
            "line": {
             "colorbar": {
              "outlinewidth": 0,
              "ticks": ""
             }
            },
            "type": "parcoords"
           }
          ],
          "pie": [
           {
            "automargin": true,
            "type": "pie"
           }
          ],
          "scatter": [
           {
            "fillpattern": {
             "fillmode": "overlay",
             "size": 10,
             "solidity": 0.2
            },
            "type": "scatter"
           }
          ],
          "scatter3d": [
           {
            "line": {
             "colorbar": {
              "outlinewidth": 0,
              "ticks": ""
             }
            },
            "marker": {
             "colorbar": {
              "outlinewidth": 0,
              "ticks": ""
             }
            },
            "type": "scatter3d"
           }
          ],
          "scattercarpet": [
           {
            "marker": {
             "colorbar": {
              "outlinewidth": 0,
              "ticks": ""
             }
            },
            "type": "scattercarpet"
           }
          ],
          "scattergeo": [
           {
            "marker": {
             "colorbar": {
              "outlinewidth": 0,
              "ticks": ""
             }
            },
            "type": "scattergeo"
           }
          ],
          "scattergl": [
           {
            "marker": {
             "colorbar": {
              "outlinewidth": 0,
              "ticks": ""
             }
            },
            "type": "scattergl"
           }
          ],
          "scattermapbox": [
           {
            "marker": {
             "colorbar": {
              "outlinewidth": 0,
              "ticks": ""
             }
            },
            "type": "scattermapbox"
           }
          ],
          "scatterpolar": [
           {
            "marker": {
             "colorbar": {
              "outlinewidth": 0,
              "ticks": ""
             }
            },
            "type": "scatterpolar"
           }
          ],
          "scatterpolargl": [
           {
            "marker": {
             "colorbar": {
              "outlinewidth": 0,
              "ticks": ""
             }
            },
            "type": "scatterpolargl"
           }
          ],
          "scatterternary": [
           {
            "marker": {
             "colorbar": {
              "outlinewidth": 0,
              "ticks": ""
             }
            },
            "type": "scatterternary"
           }
          ],
          "surface": [
           {
            "colorbar": {
             "outlinewidth": 0,
             "ticks": ""
            },
            "colorscale": [
             [
              0,
              "#0d0887"
             ],
             [
              0.1111111111111111,
              "#46039f"
             ],
             [
              0.2222222222222222,
              "#7201a8"
             ],
             [
              0.3333333333333333,
              "#9c179e"
             ],
             [
              0.4444444444444444,
              "#bd3786"
             ],
             [
              0.5555555555555556,
              "#d8576b"
             ],
             [
              0.6666666666666666,
              "#ed7953"
             ],
             [
              0.7777777777777778,
              "#fb9f3a"
             ],
             [
              0.8888888888888888,
              "#fdca26"
             ],
             [
              1,
              "#f0f921"
             ]
            ],
            "type": "surface"
           }
          ],
          "table": [
           {
            "cells": {
             "fill": {
              "color": "#EBF0F8"
             },
             "line": {
              "color": "white"
             }
            },
            "header": {
             "fill": {
              "color": "#C8D4E3"
             },
             "line": {
              "color": "white"
             }
            },
            "type": "table"
           }
          ]
         },
         "layout": {
          "annotationdefaults": {
           "arrowcolor": "#2a3f5f",
           "arrowhead": 0,
           "arrowwidth": 1
          },
          "autotypenumbers": "strict",
          "coloraxis": {
           "colorbar": {
            "outlinewidth": 0,
            "ticks": ""
           }
          },
          "colorscale": {
           "diverging": [
            [
             0,
             "#8e0152"
            ],
            [
             0.1,
             "#c51b7d"
            ],
            [
             0.2,
             "#de77ae"
            ],
            [
             0.3,
             "#f1b6da"
            ],
            [
             0.4,
             "#fde0ef"
            ],
            [
             0.5,
             "#f7f7f7"
            ],
            [
             0.6,
             "#e6f5d0"
            ],
            [
             0.7,
             "#b8e186"
            ],
            [
             0.8,
             "#7fbc41"
            ],
            [
             0.9,
             "#4d9221"
            ],
            [
             1,
             "#276419"
            ]
           ],
           "sequential": [
            [
             0,
             "#0d0887"
            ],
            [
             0.1111111111111111,
             "#46039f"
            ],
            [
             0.2222222222222222,
             "#7201a8"
            ],
            [
             0.3333333333333333,
             "#9c179e"
            ],
            [
             0.4444444444444444,
             "#bd3786"
            ],
            [
             0.5555555555555556,
             "#d8576b"
            ],
            [
             0.6666666666666666,
             "#ed7953"
            ],
            [
             0.7777777777777778,
             "#fb9f3a"
            ],
            [
             0.8888888888888888,
             "#fdca26"
            ],
            [
             1,
             "#f0f921"
            ]
           ],
           "sequentialminus": [
            [
             0,
             "#0d0887"
            ],
            [
             0.1111111111111111,
             "#46039f"
            ],
            [
             0.2222222222222222,
             "#7201a8"
            ],
            [
             0.3333333333333333,
             "#9c179e"
            ],
            [
             0.4444444444444444,
             "#bd3786"
            ],
            [
             0.5555555555555556,
             "#d8576b"
            ],
            [
             0.6666666666666666,
             "#ed7953"
            ],
            [
             0.7777777777777778,
             "#fb9f3a"
            ],
            [
             0.8888888888888888,
             "#fdca26"
            ],
            [
             1,
             "#f0f921"
            ]
           ]
          },
          "colorway": [
           "#636efa",
           "#EF553B",
           "#00cc96",
           "#ab63fa",
           "#FFA15A",
           "#19d3f3",
           "#FF6692",
           "#B6E880",
           "#FF97FF",
           "#FECB52"
          ],
          "font": {
           "color": "#2a3f5f"
          },
          "geo": {
           "bgcolor": "white",
           "lakecolor": "white",
           "landcolor": "#E5ECF6",
           "showlakes": true,
           "showland": true,
           "subunitcolor": "white"
          },
          "hoverlabel": {
           "align": "left"
          },
          "hovermode": "closest",
          "mapbox": {
           "style": "light"
          },
          "paper_bgcolor": "white",
          "plot_bgcolor": "#E5ECF6",
          "polar": {
           "angularaxis": {
            "gridcolor": "white",
            "linecolor": "white",
            "ticks": ""
           },
           "bgcolor": "#E5ECF6",
           "radialaxis": {
            "gridcolor": "white",
            "linecolor": "white",
            "ticks": ""
           }
          },
          "scene": {
           "xaxis": {
            "backgroundcolor": "#E5ECF6",
            "gridcolor": "white",
            "gridwidth": 2,
            "linecolor": "white",
            "showbackground": true,
            "ticks": "",
            "zerolinecolor": "white"
           },
           "yaxis": {
            "backgroundcolor": "#E5ECF6",
            "gridcolor": "white",
            "gridwidth": 2,
            "linecolor": "white",
            "showbackground": true,
            "ticks": "",
            "zerolinecolor": "white"
           },
           "zaxis": {
            "backgroundcolor": "#E5ECF6",
            "gridcolor": "white",
            "gridwidth": 2,
            "linecolor": "white",
            "showbackground": true,
            "ticks": "",
            "zerolinecolor": "white"
           }
          },
          "shapedefaults": {
           "line": {
            "color": "#2a3f5f"
           }
          },
          "ternary": {
           "aaxis": {
            "gridcolor": "white",
            "linecolor": "white",
            "ticks": ""
           },
           "baxis": {
            "gridcolor": "white",
            "linecolor": "white",
            "ticks": ""
           },
           "bgcolor": "#E5ECF6",
           "caxis": {
            "gridcolor": "white",
            "linecolor": "white",
            "ticks": ""
           }
          },
          "title": {
           "x": 0.05
          },
          "xaxis": {
           "automargin": true,
           "gridcolor": "white",
           "linecolor": "white",
           "ticks": "",
           "title": {
            "standoff": 15
           },
           "zerolinecolor": "white",
           "zerolinewidth": 2
          },
          "yaxis": {
           "automargin": true,
           "gridcolor": "white",
           "linecolor": "white",
           "ticks": "",
           "title": {
            "standoff": 15
           },
           "zerolinecolor": "white",
           "zerolinewidth": 2
          }
         }
        },
        "title": {
         "text": "Number of Private Schools per Town"
        },
        "xaxis": {
         "anchor": "y",
         "autorange": true,
         "domain": [
          0,
          1
         ],
         "range": [
          -0.5,
          35.5
         ],
         "tickangle": -45,
         "tickfont": {
          "size": 10
         },
         "title": {
          "text": "Town"
         },
         "type": "category"
        },
        "yaxis": {
         "anchor": "x",
         "autorange": true,
         "domain": [
          0,
          1
         ],
         "range": [
          0,
          66.3157894736842
         ],
         "title": {
          "text": "Number of Private Schools"
         },
         "type": "linear"
        }
       }
      },
      "image/png": "[encoded data removed]",
      "text/html": [
       "<div>                            <div id=\"44e7404e-6919-4568-adfd-01605869ed27\" class=\"plotly-graph-div\" style=\"height:525px; width:100%;\"></div>            <script type=\"text/javascript\">                require([\"plotly\"], function(Plotly) {                    window.PLOTLYENV=window.PLOTLYENV || {};                                    if (document.getElementById(\"44e7404e-6919-4568-adfd-01605869ed27\")) {                    Plotly.newPlot(                        \"44e7404e-6919-4568-adfd-01605869ed27\",                        [{\"alignmentgroup\":\"True\",\"hovertemplate\":\"Town=%{x}\\u003cbr\\u003eType and size of educational resources - private schools=%{marker.color}\\u003cextra\\u003e\\u003c\\u002fextra\\u003e\",\"legendgroup\":\"\",\"marker\":{\"color\":[6,6,6,6,6,6,6,7,7,7,7,8,8,9,9,9,9,9,10,10,11,12,13,14,14,14,15,18,20,20,25,39,40,41,54,63],\"coloraxis\":\"coloraxis\",\"pattern\":{\"shape\":\"\"}},\"name\":\"\",\"offsetgroup\":\"\",\"orientation\":\"v\",\"showlegend\":false,\"textposition\":\"auto\",\"x\":[\"Minyara\",\"Aain Tinta\",\"Khirbet Daoud Aakkar\",\"Kneisset Ech-Chouf\",\"Dahr El-Ahmar\",\"Chiyah\",\"Baaqline\",\"Fardis Hasbaiya\",\"Sinn El-Fil\",\"Tannoura\",\"Aakkar El-Aatiqa\",\"Brital\",\"Khreibet Baabda\",\"Barja\",\"Hermel\",\"En-Nahriyyi\",\"Aarsal\",\"Jouret Arsoun\",\"Bebnine\",\"Kfar Chima\",\"Sindianet Zeidane\",\"Minie\",\"Barr Elias\",\"Aabbesiyyi\",\"Haret Hreik\",\"Zahleh El-Maallaqa\",\"Arsoun\",\"Nabatiyeh\",\"Hadath-Sbeineh\",\"Choueifat El-Aamrousiyeh\",\"Baalbek\",\"Ghobairi\",\"Abou Qamha\",\"Saida\",\"Bourj El-Brajneh\",\"Trablous \"],\"xaxis\":\"x\",\"y\":[6,6,6,6,6,6,6,7,7,7,7,8,8,9,9,9,9,9,10,10,11,12,13,14,14,14,15,18,20,20,25,39,40,41,54,63],\"yaxis\":\"y\",\"type\":\"bar\"}],                        {\"template\":{\"data\":{\"histogram2dcontour\":[{\"type\":\"histogram2dcontour\",\"colorbar\":{\"outlinewidth\":0,\"ticks\":\"\"},\"colorscale\":[[0.0,\"#0d0887\"],[0.1111111111111111,\"#46039f\"],[0.2222222222222222,\"#7201a8\"],[0.3333333333333333,\"#9c179e\"],[0.4444444444444444,\"#bd3786\"],[0.5555555555555556,\"#d8576b\"],[0.6666666666666666,\"#ed7953\"],[0.7777777777777778,\"#fb9f3a\"],[0.8888888888888888,\"#fdca26\"],[1.0,\"#f0f921\"]]}],\"choropleth\":[{\"type\":\"choropleth\",\"colorbar\":{\"outlinewidth\":0,\"ticks\":\"\"}}],\"histogram2d\":[{\"type\":\"histogram2d\",\"colorbar\":{\"outlinewidth\":0,\"ticks\":\"\"},\"colorscale\":[[0.0,\"#0d0887\"],[0.1111111111111111,\"#46039f\"],[0.2222222222222222,\"#7201a8\"],[0.3333333333333333,\"#9c179e\"],[0.4444444444444444,\"#bd3786\"],[0.5555555555555556,\"#d8576b\"],[0.6666666666666666,\"#ed7953\"],[0.7777777777777778,\"#fb9f3a\"],[0.8888888888888888,\"#fdca26\"],[1.0,\"#f0f921\"]]}],\"heatmap\":[{\"type\":\"heatmap\",\"colorbar\":{\"outlinewidth\":0,\"ticks\":\"\"},\"colorscale\":[[0.0,\"#0d0887\"],[0.1111111111111111,\"#46039f\"],[0.2222222222222222,\"#7201a8\"],[0.3333333333333333,\"#9c179e\"],[0.4444444444444444,\"#bd3786\"],[0.5555555555555556,\"#d8576b\"],[0.6666666666666666,\"#ed7953\"],[0.7777777777777778,\"#fb9f3a\"],[0.8888888888888888,\"#fdca26\"],[1.0,\"#f0f921\"]]}],\"heatmapgl\":[{\"type\":\"heatmapgl\",\"colorbar\":{\"outlinewidth\":0,\"ticks\":\"\"},\"colorscale\":[[0.0,\"#0d0887\"],[0.1111111111111111,\"#46039f\"],[0.2222222222222222,\"#7201a8\"],[0.3333333333333333,\"#9c179e\"],[0.4444444444444444,\"#bd3786\"],[0.5555555555555556,\"#d8576b\"],[0.6666666666666666,\"#ed7953\"],[0.7777777777777778,\"#fb9f3a\"],[0.8888888888888888,\"#fdca26\"],[1.0,\"#f0f921\"]]}],\"contourcarpet\":[{\"type\":\"contourcarpet\",\"colorbar\":{\"outlinewidth\":0,\"ticks\":\"\"}}],\"contour\":[{\"type\":\"contour\",\"colorbar\":{\"outlinewidth\":0,\"ticks\":\"\"},\"colorscale\":[[0.0,\"#0d0887\"],[0.1111111111111111,\"#46039f\"],[0.2222222222222222,\"#7201a8\"],[0.3333333333333333,\"#9c179e\"],[0.4444444444444444,\"#bd3786\"],[0.5555555555555556,\"#d8576b\"],[0.6666666666666666,\"#ed7953\"],[0.7777777777777778,\"#fb9f3a\"],[0.8888888888888888,\"#fdca26\"],[1.0,\"#f0f921\"]]}],\"surface\":[{\"type\":\"surface\",\"colorbar\":{\"outlinewidth\":0,\"ticks\":\"\"},\"colorscale\":[[0.0,\"#0d0887\"],[0.1111111111111111,\"#46039f\"],[0.2222222222222222,\"#7201a8\"],[0.3333333333333333,\"#9c179e\"],[0.4444444444444444,\"#bd3786\"],[0.5555555555555556,\"#d8576b\"],[0.6666666666666666,\"#ed7953\"],[0.7777777777777778,\"#fb9f3a\"],[0.8888888888888888,\"#fdca26\"],[1.0,\"#f0f921\"]]}],\"mesh3d\":[{\"type\":\"mesh3d\",\"colorbar\":{\"outlinewidth\":0,\"ticks\":\"\"}}],\"scatter\":[{\"fillpattern\":{\"fillmode\":\"overlay\",\"size\":10,\"solidity\":0.2},\"type\":\"scatter\"}],\"parcoords\":[{\"type\":\"parcoords\",\"line\":{\"colorbar\":{\"outlinewidth\":0,\"ticks\":\"\"}}}],\"scatterpolargl\":[{\"type\":\"scatterpolargl\",\"marker\":{\"colorbar\":{\"outlinewidth\":0,\"ticks\":\"\"}}}],\"bar\":[{\"error_x\":{\"color\":\"#2a3f5f\"},\"error_y\":{\"color\":\"#2a3f5f\"},\"marker\":{\"line\":{\"color\":\"#E5ECF6\",\"width\":0.5},\"pattern\":{\"fillmode\":\"overlay\",\"size\":10,\"solidity\":0.2}},\"type\":\"bar\"}],\"scattergeo\":[{\"type\":\"scattergeo\",\"marker\":{\"colorbar\":{\"outlinewidth\":0,\"ticks\":\"\"}}}],\"scatterpolar\":[{\"type\":\"scatterpolar\",\"marker\":{\"colorbar\":{\"outlinewidth\":0,\"ticks\":\"\"}}}],\"histogram\":[{\"marker\":{\"pattern\":{\"fillmode\":\"overlay\",\"size\":10,\"solidity\":0.2}},\"type\":\"histogram\"}],\"scattergl\":[{\"type\":\"scattergl\",\"marker\":{\"colorbar\":{\"outlinewidth\":0,\"ticks\":\"\"}}}],\"scatter3d\":[{\"type\":\"scatter3d\",\"line\":{\"colorbar\":{\"outlinewidth\":0,\"ticks\":\"\"}},\"marker\":{\"colorbar\":{\"outlinewidth\":0,\"ticks\":\"\"}}}],\"scattermapbox\":[{\"type\":\"scattermapbox\",\"marker\":{\"colorbar\":{\"outlinewidth\":0,\"ticks\":\"\"}}}],\"scatterternary\":[{\"type\":\"scatterternary\",\"marker\":{\"colorbar\":{\"outlinewidth\":0,\"ticks\":\"\"}}}],\"scattercarpet\":[{\"type\":\"scattercarpet\",\"marker\":{\"colorbar\":{\"outlinewidth\":0,\"ticks\":\"\"}}}],\"carpet\":[{\"aaxis\":{\"endlinecolor\":\"#2a3f5f\",\"gridcolor\":\"white\",\"linecolor\":\"white\",\"minorgridcolor\":\"white\",\"startlinecolor\":\"#2a3f5f\"},\"baxis\":{\"endlinecolor\":\"#2a3f5f\",\"gridcolor\":\"white\",\"linecolor\":\"white\",\"minorgridcolor\":\"white\",\"startlinecolor\":\"#2a3f5f\"},\"type\":\"carpet\"}],\"table\":[{\"cells\":{\"fill\":{\"color\":\"#EBF0F8\"},\"line\":{\"color\":\"white\"}},\"header\":{\"fill\":{\"color\":\"#C8D4E3\"},\"line\":{\"color\":\"white\"}},\"type\":\"table\"}],\"barpolar\":[{\"marker\":{\"line\":{\"color\":\"#E5ECF6\",\"width\":0.5},\"pattern\":{\"fillmode\":\"overlay\",\"size\":10,\"solidity\":0.2}},\"type\":\"barpolar\"}],\"pie\":[{\"automargin\":true,\"type\":\"pie\"}]},\"layout\":{\"autotypenumbers\":\"strict\",\"colorway\":[\"#636efa\",\"#EF553B\",\"#00cc96\",\"#ab63fa\",\"#FFA15A\",\"#19d3f3\",\"#FF6692\",\"#B6E880\",\"#FF97FF\",\"#FECB52\"],\"font\":{\"color\":\"#2a3f5f\"},\"hovermode\":\"closest\",\"hoverlabel\":{\"align\":\"left\"},\"paper_bgcolor\":\"white\",\"plot_bgcolor\":\"#E5ECF6\",\"polar\":{\"bgcolor\":\"#E5ECF6\",\"angularaxis\":{\"gridcolor\":\"white\",\"linecolor\":\"white\",\"ticks\":\"\"},\"radialaxis\":{\"gridcolor\":\"white\",\"linecolor\":\"white\",\"ticks\":\"\"}},\"ternary\":{\"bgcolor\":\"#E5ECF6\",\"aaxis\":{\"gridcolor\":\"white\",\"linecolor\":\"white\",\"ticks\":\"\"},\"baxis\":{\"gridcolor\":\"white\",\"linecolor\":\"white\",\"ticks\":\"\"},\"caxis\":{\"gridcolor\":\"white\",\"linecolor\":\"white\",\"ticks\":\"\"}},\"coloraxis\":{\"colorbar\":{\"outlinewidth\":0,\"ticks\":\"\"}},\"colorscale\":{\"sequential\":[[0.0,\"#0d0887\"],[0.1111111111111111,\"#46039f\"],[0.2222222222222222,\"#7201a8\"],[0.3333333333333333,\"#9c179e\"],[0.4444444444444444,\"#bd3786\"],[0.5555555555555556,\"#d8576b\"],[0.6666666666666666,\"#ed7953\"],[0.7777777777777778,\"#fb9f3a\"],[0.8888888888888888,\"#fdca26\"],[1.0,\"#f0f921\"]],\"sequentialminus\":[[0.0,\"#0d0887\"],[0.1111111111111111,\"#46039f\"],[0.2222222222222222,\"#7201a8\"],[0.3333333333333333,\"#9c179e\"],[0.4444444444444444,\"#bd3786\"],[0.5555555555555556,\"#d8576b\"],[0.6666666666666666,\"#ed7953\"],[0.7777777777777778,\"#fb9f3a\"],[0.8888888888888888,\"#fdca26\"],[1.0,\"#f0f921\"]],\"diverging\":[[0,\"#8e0152\"],[0.1,\"#c51b7d\"],[0.2,\"#de77ae\"],[0.3,\"#f1b6da\"],[0.4,\"#fde0ef\"],[0.5,\"#f7f7f7\"],[0.6,\"#e6f5d0\"],[0.7,\"#b8e186\"],[0.8,\"#7fbc41\"],[0.9,\"#4d9221\"],[1,\"#276419\"]]},\"xaxis\":{\"gridcolor\":\"white\",\"linecolor\":\"white\",\"ticks\":\"\",\"title\":{\"standoff\":15},\"zerolinecolor\":\"white\",\"automargin\":true,\"zerolinewidth\":2},\"yaxis\":{\"gridcolor\":\"white\",\"linecolor\":\"white\",\"ticks\":\"\",\"title\":{\"standoff\":15},\"zerolinecolor\":\"white\",\"automargin\":true,\"zerolinewidth\":2},\"scene\":{\"xaxis\":{\"backgroundcolor\":\"#E5ECF6\",\"gridcolor\":\"white\",\"linecolor\":\"white\",\"showbackground\":true,\"ticks\":\"\",\"zerolinecolor\":\"white\",\"gridwidth\":2},\"yaxis\":{\"backgroundcolor\":\"#E5ECF6\",\"gridcolor\":\"white\",\"linecolor\":\"white\",\"showbackground\":true,\"ticks\":\"\",\"zerolinecolor\":\"white\",\"gridwidth\":2},\"zaxis\":{\"backgroundcolor\":\"#E5ECF6\",\"gridcolor\":\"white\",\"linecolor\":\"white\",\"showbackground\":true,\"ticks\":\"\",\"zerolinecolor\":\"white\",\"gridwidth\":2}},\"shapedefaults\":{\"line\":{\"color\":\"#2a3f5f\"}},\"annotationdefaults\":{\"arrowcolor\":\"#2a3f5f\",\"arrowhead\":0,\"arrowwidth\":1},\"geo\":{\"bgcolor\":\"white\",\"landcolor\":\"#E5ECF6\",\"subunitcolor\":\"white\",\"showland\":true,\"showlakes\":true,\"lakecolor\":\"white\"},\"title\":{\"x\":0.05},\"mapbox\":{\"style\":\"light\"}}},\"xaxis\":{\"anchor\":\"y\",\"domain\":[0.0,1.0],\"title\":{\"text\":\"Town\"},\"tickfont\":{\"size\":10},\"tickangle\":-45},\"yaxis\":{\"anchor\":\"x\",\"domain\":[0.0,1.0],\"title\":{\"text\":\"Number of Private Schools\"}},\"coloraxis\":{\"colorbar\":{\"title\":{\"text\":\"Type and size of educational resources - private schools\"}},\"colorscale\":[[0.0,\"#440154\"],[0.1111111111111111,\"#482878\"],[0.2222222222222222,\"#3e4989\"],[0.3333333333333333,\"#31688e\"],[0.4444444444444444,\"#26828e\"],[0.5555555555555556,\"#1f9e89\"],[0.6666666666666666,\"#35b779\"],[0.7777777777777778,\"#6ece58\"],[0.8888888888888888,\"#b5de2b\"],[1.0,\"#fde725\"]]},\"legend\":{\"tracegroupgap\":0},\"title\":{\"text\":\"Number of Private Schools per Town\"},\"barmode\":\"relative\",\"bargap\":0.2},                        {\"responsive\": true}                    ).then(function(){\n",
       "                            \n",
       "var gd = document.getElementById('44e7404e-6919-4568-adfd-01605869ed27');\n",
       "var x = new MutationObserver(function (mutations, observer) {{\n",
       "        var display = window.getComputedStyle(gd).display;\n",
       "        if (!display || display === 'none') {{\n",
       "            console.log([gd, 'removed!']);\n",
       "            Plotly.purge(gd);\n",
       "            observer.disconnect();\n",
       "        }}\n",
       "}});\n",
       "\n",
       "// Listen for the removal of the full notebook cells\n",
       "var notebookContainer = gd.closest('#notebook-container');\n",
       "if (notebookContainer) {{\n",
       "    x.observe(notebookContainer, {childList: true});\n",
       "}}\n",
       "\n",
       "// Listen for the clearing of the current output cell\n",
       "var outputEl = gd.closest('.output');\n",
       "if (outputEl) {{\n",
       "    x.observe(outputEl, {childList: true});\n",
       "}}\n",
       "\n",
       "                        })                };                });            </script>        </div>"
      ]
     },
     "metadata": {},
     "output_type": "display_data"
    }
   ],
   "source": [
    "fig2 = px.bar(\n",
    "    private_schools,\n",
    "    x='Town',\n",
    "    y='Type and size of educational resources - private schools',\n",
    "    title='Private School Count By Town',\n",
    "    labels={\n",
    "        'Town': 'Town',\n",
    "    },\n",
    "    color='Type and size of educational resources - private schools',\n",
    "    color_continuous_scale='Viridis',\n",
    "    hover_data=[\"Type and size of educational resources - private schools\"]\n",
    ")\n",
    "\n",
    "fig2.update_layout(\n",
    "    xaxis=dict(\n",
    "        title=\"Town\",\n",
    "        tickangle=-45,\n",
    "        tickfont=dict(size=10) \n",
    "    ),\n",
    "    yaxis_title=\"Number of Private Schools\",\n",
    "    title=\"Number of Private Schools per Town\",\n",
    "    bargap=0.2\n",
    ")\n",
    "\n",
    "\n",
    "fig2.show()"
   ]
  },
  {
   "cell_type": "code",
   "execution_count": null,
   "id": "898db3a0-65e7-4762-8906-64cf0a288e9e",
   "metadata": {},
   "outputs": [],
   "source": []
  }
 ],
 "metadata": {
  "kernelspec": {
   "display_name": "Python [conda env:base] *",
   "language": "python",
   "name": "conda-base-py"
  },
  "language_info": {
   "codemirror_mode": {
    "name": "ipython",
    "version": 3
   },
   "file_extension": ".py",
   "mimetype": "text/x-python",
   "name": "python",
   "nbconvert_exporter": "python",
   "pygments_lexer": "ipython3",
   "version": "3.12.3"
  }
 },
 "nbformat": 4,
 "nbformat_minor": 5
}
